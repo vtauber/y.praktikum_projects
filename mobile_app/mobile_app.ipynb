{
 "cells": [
  {
   "cell_type": "markdown",
   "metadata": {},
   "source": [
    "# Анализ мобильного приложения"
   ]
  },
  {
   "cell_type": "markdown",
   "metadata": {},
   "source": [
    "Целью проекта является изучение мобильного приложения стартапа, который продает продукты питания. Работа состоит из двух основных частей: анализ воронки событий для исследования поведения пользователей (пол логам действий пользователей), а также изучение A/A/B-теста, задачей которого являлось выявление эффективности нового шрифта в приложении. "
   ]
  },
  {
   "cell_type": "markdown",
   "metadata": {},
   "source": [
    "## Содержание <a id='contents'></a>\n",
    "1. [Загрузка и подготовка данных](#prepair)\n",
    "2. [Исследовательский анализ данных](#eda)\n",
    "3. [Изучение воронки событий](#funnel)\n",
    "4. [Анализ результатов A/A/B-эксперимента](#aab)\n",
    "    * [A. Сравнение контрольных выборок](#aa)\n",
    "    * [B. Сравнение тестовой и контрольных групп](#ab)\n",
    "5. [Общий вывод](#conclusion)"
   ]
  },
  {
   "cell_type": "markdown",
   "metadata": {},
   "source": [
    "## 1. Загрузка и подготовка данных <a id='prepair'></a>"
   ]
  },
  {
   "cell_type": "code",
   "execution_count": 1,
   "metadata": {},
   "outputs": [],
   "source": [
    "import pandas as pd\n",
    "import numpy as np\n",
    "import seaborn as sns\n",
    "import matplotlib.pyplot as plt\n",
    "from scipy import stats as st\n",
    "from warnings import filterwarnings\n",
    "from IPython.display import display\n",
    "\n",
    "filterwarnings('ignore')\n",
    "plt.style.use('seaborn')\n",
    "plt.rcParams['figure.figsize'] = (12,6)\n",
    "plt.rcParams['axes.titlesize'] = 16\n",
    "plt.rcParams['figure.titlesize'] = 18\n",
    "plt.rcParams['axes.labelsize'] = 14"
   ]
  },
  {
   "cell_type": "code",
   "execution_count": 2,
   "metadata": {},
   "outputs": [],
   "source": [
    "df = pd.read_csv(r'logs_exp.csv', sep='\\t')"
   ]
  },
  {
   "cell_type": "code",
   "execution_count": 3,
   "metadata": {},
   "outputs": [
    {
     "data": {
      "text/html": [
       "<div>\n",
       "<style scoped>\n",
       "    .dataframe tbody tr th:only-of-type {\n",
       "        vertical-align: middle;\n",
       "    }\n",
       "\n",
       "    .dataframe tbody tr th {\n",
       "        vertical-align: top;\n",
       "    }\n",
       "\n",
       "    .dataframe thead th {\n",
       "        text-align: right;\n",
       "    }\n",
       "</style>\n",
       "<table border=\"1\" class=\"dataframe\">\n",
       "  <thead>\n",
       "    <tr style=\"text-align: right;\">\n",
       "      <th></th>\n",
       "      <th>EventName</th>\n",
       "      <th>DeviceIDHash</th>\n",
       "      <th>EventTimestamp</th>\n",
       "      <th>ExpId</th>\n",
       "    </tr>\n",
       "  </thead>\n",
       "  <tbody>\n",
       "    <tr>\n",
       "      <th>0</th>\n",
       "      <td>MainScreenAppear</td>\n",
       "      <td>4575588528974610257</td>\n",
       "      <td>1564029816</td>\n",
       "      <td>246</td>\n",
       "    </tr>\n",
       "    <tr>\n",
       "      <th>1</th>\n",
       "      <td>MainScreenAppear</td>\n",
       "      <td>7416695313311560658</td>\n",
       "      <td>1564053102</td>\n",
       "      <td>246</td>\n",
       "    </tr>\n",
       "    <tr>\n",
       "      <th>2</th>\n",
       "      <td>PaymentScreenSuccessful</td>\n",
       "      <td>3518123091307005509</td>\n",
       "      <td>1564054127</td>\n",
       "      <td>248</td>\n",
       "    </tr>\n",
       "    <tr>\n",
       "      <th>3</th>\n",
       "      <td>CartScreenAppear</td>\n",
       "      <td>3518123091307005509</td>\n",
       "      <td>1564054127</td>\n",
       "      <td>248</td>\n",
       "    </tr>\n",
       "    <tr>\n",
       "      <th>4</th>\n",
       "      <td>PaymentScreenSuccessful</td>\n",
       "      <td>6217807653094995999</td>\n",
       "      <td>1564055322</td>\n",
       "      <td>248</td>\n",
       "    </tr>\n",
       "  </tbody>\n",
       "</table>\n",
       "</div>"
      ],
      "text/plain": [
       "                 EventName         DeviceIDHash  EventTimestamp  ExpId\n",
       "0         MainScreenAppear  4575588528974610257      1564029816    246\n",
       "1         MainScreenAppear  7416695313311560658      1564053102    246\n",
       "2  PaymentScreenSuccessful  3518123091307005509      1564054127    248\n",
       "3         CartScreenAppear  3518123091307005509      1564054127    248\n",
       "4  PaymentScreenSuccessful  6217807653094995999      1564055322    248"
      ]
     },
     "execution_count": 3,
     "metadata": {},
     "output_type": "execute_result"
    }
   ],
   "source": [
    "df.head()"
   ]
  },
  {
   "cell_type": "code",
   "execution_count": 4,
   "metadata": {},
   "outputs": [
    {
     "data": {
      "text/plain": [
       "(244126, 4)"
      ]
     },
     "execution_count": 4,
     "metadata": {},
     "output_type": "execute_result"
    }
   ],
   "source": [
    "df.shape"
   ]
  },
  {
   "cell_type": "code",
   "execution_count": 5,
   "metadata": {},
   "outputs": [
    {
     "name": "stdout",
     "output_type": "stream",
     "text": [
      "<class 'pandas.core.frame.DataFrame'>\n",
      "RangeIndex: 244126 entries, 0 to 244125\n",
      "Data columns (total 4 columns):\n",
      " #   Column          Non-Null Count   Dtype \n",
      "---  ------          --------------   ----- \n",
      " 0   EventName       244126 non-null  object\n",
      " 1   DeviceIDHash    244126 non-null  int64 \n",
      " 2   EventTimestamp  244126 non-null  int64 \n",
      " 3   ExpId           244126 non-null  int64 \n",
      "dtypes: int64(3), object(1)\n",
      "memory usage: 7.5+ MB\n"
     ]
    }
   ],
   "source": [
    "df.info()"
   ]
  },
  {
   "cell_type": "code",
   "execution_count": 6,
   "metadata": {},
   "outputs": [
    {
     "data": {
      "text/plain": [
       "'Число полных дубликатов: 413, доля полных дубликатов: 0.17%'"
      ]
     },
     "execution_count": 6,
     "metadata": {},
     "output_type": "execute_result"
    }
   ],
   "source": [
    "f'Число полных дубликатов: {df.duplicated().sum()}, \\\n",
    "доля полных дубликатов: {df.duplicated().sum() / len(df):.2%}'"
   ]
  },
  {
   "cell_type": "markdown",
   "metadata": {},
   "source": [
    "План предобработки:  \n",
    "1. Заменить названия столбцов на более удобные и значения в столбце *ExpId* на более \"говорящие\".  \n",
    "2. Изменить типы данных в столбцах *DeviceIDHash* и *ExpId* на `object`.  \n",
    "3. Удалить дубликаты. Скорее всего, они возникли из-за технического сбоя при записи логов: едва ли один и тот же пользователь мог сделать одно и то же действие в одну и ту же секунду (на это можно обратить внимание технических специалистов). При этом число дубликатов невелико, их удаление не окажет существенного влияния на качество анализа.  \n",
    "4. На основе временных меток в столбце *EventTimestamp* (даны в секундах от первого января 1970 года) сосздать столбец с датой и временем операции и отдельный столбец с датой."
   ]
  },
  {
   "cell_type": "code",
   "execution_count": 7,
   "metadata": {},
   "outputs": [],
   "source": [
    "columns = {\n",
    "    'EventName': 'event',\n",
    "    'DeviceIDHash': 'uid',\n",
    "    'ExpId': 'group',\n",
    "    'EventTimestamp': 'datetime'\n",
    "}\n",
    "df = df.rename(columns=columns)"
   ]
  },
  {
   "cell_type": "code",
   "execution_count": 8,
   "metadata": {},
   "outputs": [],
   "source": [
    "df['group'] = df['group'].apply(lambda x: 'A1' if x == 246 else ('A2' if x == 247 else 'B'))\n",
    "\n",
    "df['uid'] = df['uid'].astype(str)\n",
    "\n",
    "df = df.drop_duplicates().reset_index(drop=True)"
   ]
  },
  {
   "cell_type": "code",
   "execution_count": 9,
   "metadata": {},
   "outputs": [],
   "source": [
    "df['datetime'] = pd.to_datetime(df['datetime'], unit='s')\n",
    "df['date'] = pd.to_datetime(df['datetime'].dt.date)"
   ]
  },
  {
   "cell_type": "code",
   "execution_count": 10,
   "metadata": {},
   "outputs": [
    {
     "data": {
      "text/html": [
       "<div>\n",
       "<style scoped>\n",
       "    .dataframe tbody tr th:only-of-type {\n",
       "        vertical-align: middle;\n",
       "    }\n",
       "\n",
       "    .dataframe tbody tr th {\n",
       "        vertical-align: top;\n",
       "    }\n",
       "\n",
       "    .dataframe thead th {\n",
       "        text-align: right;\n",
       "    }\n",
       "</style>\n",
       "<table border=\"1\" class=\"dataframe\">\n",
       "  <thead>\n",
       "    <tr style=\"text-align: right;\">\n",
       "      <th></th>\n",
       "      <th>event</th>\n",
       "      <th>uid</th>\n",
       "      <th>datetime</th>\n",
       "      <th>group</th>\n",
       "      <th>date</th>\n",
       "    </tr>\n",
       "  </thead>\n",
       "  <tbody>\n",
       "    <tr>\n",
       "      <th>0</th>\n",
       "      <td>MainScreenAppear</td>\n",
       "      <td>4575588528974610257</td>\n",
       "      <td>2019-07-25 04:43:36</td>\n",
       "      <td>A1</td>\n",
       "      <td>2019-07-25</td>\n",
       "    </tr>\n",
       "    <tr>\n",
       "      <th>1</th>\n",
       "      <td>MainScreenAppear</td>\n",
       "      <td>7416695313311560658</td>\n",
       "      <td>2019-07-25 11:11:42</td>\n",
       "      <td>A1</td>\n",
       "      <td>2019-07-25</td>\n",
       "    </tr>\n",
       "    <tr>\n",
       "      <th>2</th>\n",
       "      <td>PaymentScreenSuccessful</td>\n",
       "      <td>3518123091307005509</td>\n",
       "      <td>2019-07-25 11:28:47</td>\n",
       "      <td>B</td>\n",
       "      <td>2019-07-25</td>\n",
       "    </tr>\n",
       "    <tr>\n",
       "      <th>3</th>\n",
       "      <td>CartScreenAppear</td>\n",
       "      <td>3518123091307005509</td>\n",
       "      <td>2019-07-25 11:28:47</td>\n",
       "      <td>B</td>\n",
       "      <td>2019-07-25</td>\n",
       "    </tr>\n",
       "    <tr>\n",
       "      <th>4</th>\n",
       "      <td>PaymentScreenSuccessful</td>\n",
       "      <td>6217807653094995999</td>\n",
       "      <td>2019-07-25 11:48:42</td>\n",
       "      <td>B</td>\n",
       "      <td>2019-07-25</td>\n",
       "    </tr>\n",
       "  </tbody>\n",
       "</table>\n",
       "</div>"
      ],
      "text/plain": [
       "                     event                  uid            datetime group  \\\n",
       "0         MainScreenAppear  4575588528974610257 2019-07-25 04:43:36    A1   \n",
       "1         MainScreenAppear  7416695313311560658 2019-07-25 11:11:42    A1   \n",
       "2  PaymentScreenSuccessful  3518123091307005509 2019-07-25 11:28:47     B   \n",
       "3         CartScreenAppear  3518123091307005509 2019-07-25 11:28:47     B   \n",
       "4  PaymentScreenSuccessful  6217807653094995999 2019-07-25 11:48:42     B   \n",
       "\n",
       "        date  \n",
       "0 2019-07-25  \n",
       "1 2019-07-25  \n",
       "2 2019-07-25  \n",
       "3 2019-07-25  \n",
       "4 2019-07-25  "
      ]
     },
     "execution_count": 10,
     "metadata": {},
     "output_type": "execute_result"
    }
   ],
   "source": [
    "df.head()"
   ]
  },
  {
   "cell_type": "code",
   "execution_count": 11,
   "metadata": {},
   "outputs": [
    {
     "name": "stdout",
     "output_type": "stream",
     "text": [
      "<class 'pandas.core.frame.DataFrame'>\n",
      "RangeIndex: 243713 entries, 0 to 243712\n",
      "Data columns (total 5 columns):\n",
      " #   Column    Non-Null Count   Dtype         \n",
      "---  ------    --------------   -----         \n",
      " 0   event     243713 non-null  object        \n",
      " 1   uid       243713 non-null  object        \n",
      " 2   datetime  243713 non-null  datetime64[ns]\n",
      " 3   group     243713 non-null  object        \n",
      " 4   date      243713 non-null  datetime64[ns]\n",
      "dtypes: datetime64[ns](2), object(3)\n",
      "memory usage: 9.3+ MB\n"
     ]
    }
   ],
   "source": [
    "df.info()"
   ]
  },
  {
   "cell_type": "markdown",
   "metadata": {},
   "source": [
    "### Вывод\n",
    "\n",
    "Таблица содержит 243 713 записей об отдельных событиях, для каждого из которых мы знаем тип, ID пользователя, который совершил то или иное действие, дату и время, когда оно произошло, а также то, к какой из трех экпериментальных групп относился пользователь. Пропусков в таблице нет, повторы удалены, типы данных приведены к нужным."
   ]
  },
  {
   "cell_type": "markdown",
   "metadata": {},
   "source": [
    "[Наверх](#contents)"
   ]
  },
  {
   "cell_type": "markdown",
   "metadata": {},
   "source": [
    "## 2. Исследовательский анализ данных <a id='eda'></a>"
   ]
  },
  {
   "cell_type": "code",
   "execution_count": 12,
   "metadata": {},
   "outputs": [
    {
     "name": "stdout",
     "output_type": "stream",
     "text": [
      "Уникальные события в логе: MainScreenAppear, PaymentScreenSuccessful, CartScreenAppear, OffersScreenAppear, Tutorial\n",
      "Всего уникальных событий: 5\n"
     ]
    }
   ],
   "source": [
    "print('Уникальные события в логе:', ', '.join(df.event.unique()))\n",
    "print(f'Всего уникальных событий: {df.event.nunique()}')"
   ]
  },
  {
   "cell_type": "code",
   "execution_count": 13,
   "metadata": {},
   "outputs": [
    {
     "name": "stdout",
     "output_type": "stream",
     "text": [
      "Всего уникальных пользователей: 7551\n"
     ]
    }
   ],
   "source": [
    "print(f'Всего уникальных пользователей: {df.uid.nunique()}')"
   ]
  },
  {
   "cell_type": "code",
   "execution_count": 14,
   "metadata": {},
   "outputs": [
    {
     "name": "stdout",
     "output_type": "stream",
     "text": [
      "Общее число событий: 243713\n",
      "Среднее число событий на одного пользователя: 32\n"
     ]
    }
   ],
   "source": [
    "print(f'Общее число событий: {len(df)}')\n",
    "print('Среднее число событий на одного пользователя:', f'{len(df) / df.uid.nunique():.0f}')"
   ]
  },
  {
   "cell_type": "code",
   "execution_count": 15,
   "metadata": {},
   "outputs": [
    {
     "name": "stdout",
     "output_type": "stream",
     "text": [
      "Период наблюдений: 2019-07-25 04:43:36 - 2019-08-07 21:15:17\n",
      "Всего дней: 14\n"
     ]
    }
   ],
   "source": [
    "print(f'Период наблюдений: {df.datetime.min()} - {df.datetime.max()}')\n",
    "print(f'Всего дней: {(df.datetime.max() - df.datetime.min()).ceil(\"d\").days}')"
   ]
  },
  {
   "cell_type": "markdown",
   "metadata": {},
   "source": [
    "Рассмотрим распределение данных во времени: сгруппируем число пользователей, число уникальных пользователей и число событий по дням, а затем построим соответствующие графики."
   ]
  },
  {
   "cell_type": "code",
   "execution_count": 16,
   "metadata": {},
   "outputs": [],
   "source": [
    "df_grouped_by_day = df.groupby('date', as_index=False)\\\n",
    "                        .agg({'uid': 'nunique', 'event': 'count'})\n",
    "df_grouped_by_day.columns = ['date', 'uid_unique', 'event_cnt']"
   ]
  },
  {
   "cell_type": "code",
   "execution_count": 17,
   "metadata": {},
   "outputs": [
    {
     "data": {
      "text/html": [
       "<div>\n",
       "<style scoped>\n",
       "    .dataframe tbody tr th:only-of-type {\n",
       "        vertical-align: middle;\n",
       "    }\n",
       "\n",
       "    .dataframe tbody tr th {\n",
       "        vertical-align: top;\n",
       "    }\n",
       "\n",
       "    .dataframe thead th {\n",
       "        text-align: right;\n",
       "    }\n",
       "</style>\n",
       "<table border=\"1\" class=\"dataframe\">\n",
       "  <thead>\n",
       "    <tr style=\"text-align: right;\">\n",
       "      <th></th>\n",
       "      <th>date</th>\n",
       "      <th>uid_unique</th>\n",
       "      <th>event_cnt</th>\n",
       "    </tr>\n",
       "  </thead>\n",
       "  <tbody>\n",
       "    <tr>\n",
       "      <th>0</th>\n",
       "      <td>2019-07-25</td>\n",
       "      <td>7</td>\n",
       "      <td>9</td>\n",
       "    </tr>\n",
       "    <tr>\n",
       "      <th>1</th>\n",
       "      <td>2019-07-26</td>\n",
       "      <td>22</td>\n",
       "      <td>31</td>\n",
       "    </tr>\n",
       "    <tr>\n",
       "      <th>2</th>\n",
       "      <td>2019-07-27</td>\n",
       "      <td>39</td>\n",
       "      <td>55</td>\n",
       "    </tr>\n",
       "    <tr>\n",
       "      <th>3</th>\n",
       "      <td>2019-07-28</td>\n",
       "      <td>69</td>\n",
       "      <td>105</td>\n",
       "    </tr>\n",
       "    <tr>\n",
       "      <th>4</th>\n",
       "      <td>2019-07-29</td>\n",
       "      <td>135</td>\n",
       "      <td>184</td>\n",
       "    </tr>\n",
       "    <tr>\n",
       "      <th>5</th>\n",
       "      <td>2019-07-30</td>\n",
       "      <td>296</td>\n",
       "      <td>412</td>\n",
       "    </tr>\n",
       "    <tr>\n",
       "      <th>6</th>\n",
       "      <td>2019-07-31</td>\n",
       "      <td>924</td>\n",
       "      <td>2030</td>\n",
       "    </tr>\n",
       "    <tr>\n",
       "      <th>7</th>\n",
       "      <td>2019-08-01</td>\n",
       "      <td>3703</td>\n",
       "      <td>36141</td>\n",
       "    </tr>\n",
       "    <tr>\n",
       "      <th>8</th>\n",
       "      <td>2019-08-02</td>\n",
       "      <td>3647</td>\n",
       "      <td>35554</td>\n",
       "    </tr>\n",
       "    <tr>\n",
       "      <th>9</th>\n",
       "      <td>2019-08-03</td>\n",
       "      <td>3482</td>\n",
       "      <td>33282</td>\n",
       "    </tr>\n",
       "    <tr>\n",
       "      <th>10</th>\n",
       "      <td>2019-08-04</td>\n",
       "      <td>3527</td>\n",
       "      <td>32968</td>\n",
       "    </tr>\n",
       "    <tr>\n",
       "      <th>11</th>\n",
       "      <td>2019-08-05</td>\n",
       "      <td>3802</td>\n",
       "      <td>36058</td>\n",
       "    </tr>\n",
       "    <tr>\n",
       "      <th>12</th>\n",
       "      <td>2019-08-06</td>\n",
       "      <td>3922</td>\n",
       "      <td>35788</td>\n",
       "    </tr>\n",
       "    <tr>\n",
       "      <th>13</th>\n",
       "      <td>2019-08-07</td>\n",
       "      <td>3651</td>\n",
       "      <td>31096</td>\n",
       "    </tr>\n",
       "  </tbody>\n",
       "</table>\n",
       "</div>"
      ],
      "text/plain": [
       "         date  uid_unique  event_cnt\n",
       "0  2019-07-25           7          9\n",
       "1  2019-07-26          22         31\n",
       "2  2019-07-27          39         55\n",
       "3  2019-07-28          69        105\n",
       "4  2019-07-29         135        184\n",
       "5  2019-07-30         296        412\n",
       "6  2019-07-31         924       2030\n",
       "7  2019-08-01        3703      36141\n",
       "8  2019-08-02        3647      35554\n",
       "9  2019-08-03        3482      33282\n",
       "10 2019-08-04        3527      32968\n",
       "11 2019-08-05        3802      36058\n",
       "12 2019-08-06        3922      35788\n",
       "13 2019-08-07        3651      31096"
      ]
     },
     "execution_count": 17,
     "metadata": {},
     "output_type": "execute_result"
    }
   ],
   "source": [
    "df_grouped_by_day"
   ]
  },
  {
   "cell_type": "code",
   "execution_count": 18,
   "metadata": {
    "scrolled": false
   },
   "outputs": [
    {
     "data": {
      "image/png": "[encoded data removed]",
      "text/plain": [
       "<Figure size 864x864 with 2 Axes>"
      ]
     },
     "metadata": {},
     "output_type": "display_data"
    }
   ],
   "source": [
    "titles = ['Число уникальных пользователей', 'Число событий']\n",
    "\n",
    "fig, ax = plt.subplots(2,1, figsize=(12, 12))\n",
    "fig.suptitle('Распределение данных по дням')\n",
    "plt.subplots_adjust(hspace=0.4)\n",
    "for i in range(2):\n",
    "    ax[i].bar(x=df_grouped_by_day['date'], height=df_grouped_by_day.iloc[:, i+1])\n",
    "    ax[i].set_title(titles[i])\n",
    "    ax[i].set_xlabel('Дата', labelpad=10)\n",
    "    ax[i].set_ylabel(titles[i])\n",
    "    plt.setp(ax[i].get_xticklabels(), rotation=45)\n",
    "plt.show()"
   ]
  },
  {
   "cell_type": "markdown",
   "metadata": {},
   "source": [
    "Как видно по этому графику, число уникальных пользователей, попавших в логи, а также число событий очень мало для первых семи дней периода и резко возрастает после 1 августа. По-видимому, данные до этого дня не полны, поэтому мы не можем считать их репрезентативными. Поэтому данные за первую неделю периода придется исключить из рассмотрения. Оценим потери."
   ]
  },
  {
   "cell_type": "code",
   "execution_count": 19,
   "metadata": {},
   "outputs": [],
   "source": [
    "df_good = df[df['date'] >= '2019-08-01']\n",
    "df_bad = df[df['date'] < '2019-08-01']"
   ]
  },
  {
   "cell_type": "code",
   "execution_count": 20,
   "metadata": {},
   "outputs": [
    {
     "data": {
      "text/plain": [
       "(240887, 5)"
      ]
     },
     "execution_count": 20,
     "metadata": {},
     "output_type": "execute_result"
    }
   ],
   "source": [
    "df_good.shape"
   ]
  },
  {
   "cell_type": "code",
   "execution_count": 21,
   "metadata": {},
   "outputs": [
    {
     "data": {
      "text/html": [
       "<div>\n",
       "<style scoped>\n",
       "    .dataframe tbody tr th:only-of-type {\n",
       "        vertical-align: middle;\n",
       "    }\n",
       "\n",
       "    .dataframe tbody tr th {\n",
       "        vertical-align: top;\n",
       "    }\n",
       "\n",
       "    .dataframe thead th {\n",
       "        text-align: right;\n",
       "    }\n",
       "</style>\n",
       "<table border=\"1\" class=\"dataframe\">\n",
       "  <thead>\n",
       "    <tr style=\"text-align: right;\">\n",
       "      <th></th>\n",
       "      <th>event</th>\n",
       "      <th>uid</th>\n",
       "      <th>datetime</th>\n",
       "      <th>group</th>\n",
       "      <th>date</th>\n",
       "    </tr>\n",
       "  </thead>\n",
       "  <tbody>\n",
       "    <tr>\n",
       "      <th>2826</th>\n",
       "      <td>Tutorial</td>\n",
       "      <td>3737462046622621720</td>\n",
       "      <td>2019-08-01 00:07:28</td>\n",
       "      <td>A1</td>\n",
       "      <td>2019-08-01</td>\n",
       "    </tr>\n",
       "    <tr>\n",
       "      <th>2827</th>\n",
       "      <td>MainScreenAppear</td>\n",
       "      <td>3737462046622621720</td>\n",
       "      <td>2019-08-01 00:08:00</td>\n",
       "      <td>A1</td>\n",
       "      <td>2019-08-01</td>\n",
       "    </tr>\n",
       "    <tr>\n",
       "      <th>2828</th>\n",
       "      <td>MainScreenAppear</td>\n",
       "      <td>3737462046622621720</td>\n",
       "      <td>2019-08-01 00:08:55</td>\n",
       "      <td>A1</td>\n",
       "      <td>2019-08-01</td>\n",
       "    </tr>\n",
       "    <tr>\n",
       "      <th>2829</th>\n",
       "      <td>OffersScreenAppear</td>\n",
       "      <td>3737462046622621720</td>\n",
       "      <td>2019-08-01 00:08:58</td>\n",
       "      <td>A1</td>\n",
       "      <td>2019-08-01</td>\n",
       "    </tr>\n",
       "    <tr>\n",
       "      <th>2830</th>\n",
       "      <td>MainScreenAppear</td>\n",
       "      <td>1433840883824088890</td>\n",
       "      <td>2019-08-01 00:08:59</td>\n",
       "      <td>A2</td>\n",
       "      <td>2019-08-01</td>\n",
       "    </tr>\n",
       "  </tbody>\n",
       "</table>\n",
       "</div>"
      ],
      "text/plain": [
       "                   event                  uid            datetime group  \\\n",
       "2826            Tutorial  3737462046622621720 2019-08-01 00:07:28    A1   \n",
       "2827    MainScreenAppear  3737462046622621720 2019-08-01 00:08:00    A1   \n",
       "2828    MainScreenAppear  3737462046622621720 2019-08-01 00:08:55    A1   \n",
       "2829  OffersScreenAppear  3737462046622621720 2019-08-01 00:08:58    A1   \n",
       "2830    MainScreenAppear  1433840883824088890 2019-08-01 00:08:59    A2   \n",
       "\n",
       "           date  \n",
       "2826 2019-08-01  \n",
       "2827 2019-08-01  \n",
       "2828 2019-08-01  \n",
       "2829 2019-08-01  \n",
       "2830 2019-08-01  "
      ]
     },
     "execution_count": 21,
     "metadata": {},
     "output_type": "execute_result"
    }
   ],
   "source": [
    "df_good.head()"
   ]
  },
  {
   "cell_type": "code",
   "execution_count": 22,
   "metadata": {},
   "outputs": [
    {
     "name": "stdout",
     "output_type": "stream",
     "text": [
      "Отобрано записей: 240887\n",
      "Исключено записей: 2826\n",
      "Доля исключенных записей: 1.16%\n"
     ]
    }
   ],
   "source": [
    "print(f'Отобрано записей: {len(df_good)}')\n",
    "print(f'Исключено записей: {len(df_bad)}') \n",
    "print(f'Доля исключенных записей: {len(df_bad) / len(df):.2%}')"
   ]
  },
  {
   "cell_type": "code",
   "execution_count": 23,
   "metadata": {},
   "outputs": [
    {
     "name": "stdout",
     "output_type": "stream",
     "text": [
      "Отобрано уникальных пользователей: 7534\n",
      "Исключено уникальных пользователей: 17\n",
      "Доля исключенных уникальных пользователей: 0.23%\n"
     ]
    }
   ],
   "source": [
    "print(f'Отобрано уникальных пользователей: {df_good.uid.nunique()}')\n",
    "print(f'Исключено уникальных пользователей: {df.uid.nunique() - df_good.uid.nunique()}') \n",
    "print(f'Доля исключенных уникальных пользователей: {(df.uid.nunique() - df_good.uid.nunique()) / df.uid.nunique():.2%}')"
   ]
  },
  {
   "cell_type": "code",
   "execution_count": 24,
   "metadata": {},
   "outputs": [
    {
     "name": "stdout",
     "output_type": "stream",
     "text": [
      "Отобрано пользователей:\n"
     ]
    },
    {
     "data": {
      "text/html": [
       "<div>\n",
       "<style scoped>\n",
       "    .dataframe tbody tr th:only-of-type {\n",
       "        vertical-align: middle;\n",
       "    }\n",
       "\n",
       "    .dataframe tbody tr th {\n",
       "        vertical-align: top;\n",
       "    }\n",
       "\n",
       "    .dataframe thead th {\n",
       "        text-align: right;\n",
       "    }\n",
       "</style>\n",
       "<table border=\"1\" class=\"dataframe\">\n",
       "  <thead>\n",
       "    <tr style=\"text-align: right;\">\n",
       "      <th></th>\n",
       "      <th>uid</th>\n",
       "    </tr>\n",
       "    <tr>\n",
       "      <th>group</th>\n",
       "      <th></th>\n",
       "    </tr>\n",
       "  </thead>\n",
       "  <tbody>\n",
       "    <tr>\n",
       "      <th>A1</th>\n",
       "      <td>2484</td>\n",
       "    </tr>\n",
       "    <tr>\n",
       "      <th>A2</th>\n",
       "      <td>2513</td>\n",
       "    </tr>\n",
       "    <tr>\n",
       "      <th>B</th>\n",
       "      <td>2537</td>\n",
       "    </tr>\n",
       "  </tbody>\n",
       "</table>\n",
       "</div>"
      ],
      "text/plain": [
       "        uid\n",
       "group      \n",
       "A1     2484\n",
       "A2     2513\n",
       "B      2537"
      ]
     },
     "execution_count": 24,
     "metadata": {},
     "output_type": "execute_result"
    }
   ],
   "source": [
    "print('Отобрано пользователей:')\n",
    "df_good.groupby('group').agg({'uid': 'nunique'})"
   ]
  },
  {
   "cell_type": "markdown",
   "metadata": {},
   "source": [
    "### Вывод\n",
    "\n",
    "1. Исходные данные содержат сведения о 243 713 событиях, относящихся к одной из пяти категорий: входы на главный экран, экран с индикацией успешной покупки, экран корзины, экран с предложениями и обучение. На основе этих данных можно построить воронку, чему будет посвящена следующая часть проекта.\n",
    "2. Исходные данные охватывают период с 25 июля по 7 августа 2019 года, всего дне недели. За это время нашим приложением воспользовался 7551 уникальный пользователь, каждый из которых в среднем совершал по 32 события.\n",
    "3. Распределение числа событий и уникальных пользователей по дням показывает, что данные за первую неделю неполные, а потому нерепрезентативные. Де-факто, таким образом, мы располагаем сведениями только за семь дней, однако эта выборка представляется вполне релевантной для дальнейшего анализа: сократив период вдвое, мы потеряли всего 1.16% событий и 17 (0.23%) уникальных пользователей. Среди оставшихся пользователей также сохранилось практически равное распределение пользователей по трем группам, в которых проводился тест."
   ]
  },
  {
   "cell_type": "markdown",
   "metadata": {},
   "source": [
    "[Наверх](#contents)"
   ]
  },
  {
   "cell_type": "markdown",
   "metadata": {},
   "source": [
    "## 3. Изучение воронки событий <a id='funnel'></a>  "
   ]
  },
  {
   "cell_type": "markdown",
   "metadata": {},
   "source": [
    "Как уже было сказано, в наших данных фигурируют события пяти видов. Для первоначального анализа рассчитаем, какие события происходят чаще всего и какие события совершают больше всего пользователей. "
   ]
  },
  {
   "cell_type": "code",
   "execution_count": 25,
   "metadata": {},
   "outputs": [],
   "source": [
    "events = df_good.groupby('event', as_index=False).agg({'uid':['count', 'nunique']})\n",
    "events.columns = ['event', 'event_cnt', 'user_cnt']\n",
    "events['user_share'] = events['user_cnt'] / df_good['uid'].nunique()"
   ]
  },
  {
   "cell_type": "code",
   "execution_count": 26,
   "metadata": {},
   "outputs": [
    {
     "data": {
      "text/html": [
       "<div>\n",
       "<style scoped>\n",
       "    .dataframe tbody tr th:only-of-type {\n",
       "        vertical-align: middle;\n",
       "    }\n",
       "\n",
       "    .dataframe tbody tr th {\n",
       "        vertical-align: top;\n",
       "    }\n",
       "\n",
       "    .dataframe thead th {\n",
       "        text-align: right;\n",
       "    }\n",
       "</style>\n",
       "<table border=\"1\" class=\"dataframe\">\n",
       "  <thead>\n",
       "    <tr style=\"text-align: right;\">\n",
       "      <th></th>\n",
       "      <th>event</th>\n",
       "      <th>event_cnt</th>\n",
       "      <th>user_cnt</th>\n",
       "      <th>user_share</th>\n",
       "    </tr>\n",
       "  </thead>\n",
       "  <tbody>\n",
       "    <tr>\n",
       "      <th>0</th>\n",
       "      <td>CartScreenAppear</td>\n",
       "      <td>42303</td>\n",
       "      <td>3734</td>\n",
       "      <td>0.495620</td>\n",
       "    </tr>\n",
       "    <tr>\n",
       "      <th>1</th>\n",
       "      <td>MainScreenAppear</td>\n",
       "      <td>117328</td>\n",
       "      <td>7419</td>\n",
       "      <td>0.984736</td>\n",
       "    </tr>\n",
       "    <tr>\n",
       "      <th>2</th>\n",
       "      <td>OffersScreenAppear</td>\n",
       "      <td>46333</td>\n",
       "      <td>4593</td>\n",
       "      <td>0.609636</td>\n",
       "    </tr>\n",
       "    <tr>\n",
       "      <th>3</th>\n",
       "      <td>PaymentScreenSuccessful</td>\n",
       "      <td>33918</td>\n",
       "      <td>3539</td>\n",
       "      <td>0.469737</td>\n",
       "    </tr>\n",
       "    <tr>\n",
       "      <th>4</th>\n",
       "      <td>Tutorial</td>\n",
       "      <td>1005</td>\n",
       "      <td>840</td>\n",
       "      <td>0.111495</td>\n",
       "    </tr>\n",
       "  </tbody>\n",
       "</table>\n",
       "</div>"
      ],
      "text/plain": [
       "                     event  event_cnt  user_cnt  user_share\n",
       "0         CartScreenAppear      42303      3734    0.495620\n",
       "1         MainScreenAppear     117328      7419    0.984736\n",
       "2       OffersScreenAppear      46333      4593    0.609636\n",
       "3  PaymentScreenSuccessful      33918      3539    0.469737\n",
       "4                 Tutorial       1005       840    0.111495"
      ]
     },
     "execution_count": 26,
     "metadata": {},
     "output_type": "execute_result"
    }
   ],
   "source": [
    "events"
   ]
  },
  {
   "cell_type": "code",
   "execution_count": 27,
   "metadata": {},
   "outputs": [],
   "source": [
    "event_dct = {\n",
    "        'CartScreenAppear': 'Корзина',\n",
    "        'MainScreenAppear': 'Главный экран',\n",
    "        'OffersScreenAppear': 'Экран предложений',\n",
    "        'PaymentScreenSuccessful': 'Успешная оплата',\n",
    "        'Tutorial': 'Обучение'\n",
    "    }\n",
    "events['event'].replace(event_dct, inplace=True)"
   ]
  },
  {
   "cell_type": "code",
   "execution_count": 28,
   "metadata": {},
   "outputs": [],
   "source": [
    "def plot_events(metric, name, xlabel, fmt):\n",
    "    events.sort_values(metric, inplace=True)\n",
    "    fig, ax = plt.subplots()\n",
    "    ax.barh(y=events['event'], width=events[metric])\n",
    "    plt.title(name)\n",
    "    plt.ylabel('Событие')\n",
    "    plt.xlabel(xlabel)\n",
    "    for p in ax.patches:\n",
    "        width = p.get_width()\n",
    "        plt.text(p.get_width(), p.get_y()+p.get_height()*0.5,\n",
    "                 s=fmt.format(width), ha='left', va='center', fontsize=12)\n",
    "    plt.show()"
   ]
  },
  {
   "cell_type": "code",
   "execution_count": 29,
   "metadata": {
    "scrolled": false
   },
   "outputs": [
    {
     "data": {
      "image/png": "[encoded data removed]",
      "text/plain": [
       "<Figure size 864x432 with 1 Axes>"
      ]
     },
     "metadata": {},
     "output_type": "display_data"
    }
   ],
   "source": [
    "plot_events('event_cnt', 'Общее число событий', 'Число событий', '{}')"
   ]
  },
  {
   "cell_type": "markdown",
   "metadata": {},
   "source": [
    "По общему числу событий предсказуемо лидирует заход на главный экран (почти 120 тыс. событий), затем с большим (примерно в три раза) отрывом следуют экран предложений, корзина и успешная оплата, причем разрывы между ними относительно невелики: примерно 25% между вторым и третьим местом. На последнем месте, также со значительным отставанием - обучение (встречается в 30 с лишним раз меньше, чем успешные покупки)."
   ]
  },
  {
   "cell_type": "code",
   "execution_count": 30,
   "metadata": {
    "scrolled": false
   },
   "outputs": [
    {
     "data": {
      "image/png": "[encoded data removed]",
      "text/plain": [
       "<Figure size 864x432 with 1 Axes>"
      ]
     },
     "metadata": {},
     "output_type": "display_data"
    }
   ],
   "source": [
    "plot_events('user_cnt', 'Число уникальных пользователей, совершивших событие', 'Число пользователей', '{}')"
   ]
  },
  {
   "cell_type": "markdown",
   "metadata": {},
   "source": [
    "Число уникальных пользователей, совершивших событие, распределяется схожим образом: большего всего пользователей заходят на главный экран, остальные шаги располагаются в той же последовательности, хотя относительная разница в численности здесь меньше."
   ]
  },
  {
   "cell_type": "code",
   "execution_count": 31,
   "metadata": {
    "scrolled": false
   },
   "outputs": [
    {
     "data": {
      "image/png": "[encoded data removed]",
      "text/plain": [
       "<Figure size 864x432 with 1 Axes>"
      ]
     },
     "metadata": {},
     "output_type": "display_data"
    }
   ],
   "source": [
    "plot_events('user_share', 'Доля пользователей, совершивших событие', 'Доля пользователей', '{:.2%}')"
   ]
  },
  {
   "cell_type": "markdown",
   "metadata": {},
   "source": [
    "На главный экран заходят 98.47% пользователей, что интересно, поскольку не очень понятно, откуда взялись остальные 1.5% пользователей (или их визит на главную не был записан?), около 60% пользователей добираются до экрана с предложениями, меньше 50% - до корзины и успешной оплаты, обучение пользуется наименьшей популярностью и привлекает около 11% пользователей."
   ]
  },
  {
   "cell_type": "markdown",
   "metadata": {},
   "source": [
    "В качестве промежуточного вывода можно заключить, что воронка состоит из четырех этапов, обучение в нее не входит, поскольку предполагается, очевидно, что оно должно заинтересовать новых пользователей и побудить их к покупках, однако число пользователей, прошедших обучение, гораздо меньше, чем число покупателей. Таким образом, обучение - это, скорее, исключительная девиация на основном пути, и рассматривать ее с точки зрения конверсии не следует. Рассчитаем конверсию на каждом из первых четырех этапов."
   ]
  },
  {
   "cell_type": "code",
   "execution_count": 32,
   "metadata": {},
   "outputs": [
    {
     "data": {
      "text/html": [
       "<div>\n",
       "<style scoped>\n",
       "    .dataframe tbody tr th:only-of-type {\n",
       "        vertical-align: middle;\n",
       "    }\n",
       "\n",
       "    .dataframe tbody tr th {\n",
       "        vertical-align: top;\n",
       "    }\n",
       "\n",
       "    .dataframe thead th {\n",
       "        text-align: right;\n",
       "    }\n",
       "</style>\n",
       "<table border=\"1\" class=\"dataframe\">\n",
       "  <thead>\n",
       "    <tr style=\"text-align: right;\">\n",
       "      <th></th>\n",
       "      <th>event</th>\n",
       "      <th>user_cnt</th>\n",
       "      <th>conversion</th>\n",
       "    </tr>\n",
       "  </thead>\n",
       "  <tbody>\n",
       "    <tr>\n",
       "      <th>0</th>\n",
       "      <td>Главный экран</td>\n",
       "      <td>7419</td>\n",
       "      <td>NaN</td>\n",
       "    </tr>\n",
       "    <tr>\n",
       "      <th>1</th>\n",
       "      <td>Экран предложений</td>\n",
       "      <td>4593</td>\n",
       "      <td>61.91</td>\n",
       "    </tr>\n",
       "    <tr>\n",
       "      <th>2</th>\n",
       "      <td>Корзина</td>\n",
       "      <td>3734</td>\n",
       "      <td>81.30</td>\n",
       "    </tr>\n",
       "    <tr>\n",
       "      <th>3</th>\n",
       "      <td>Успешная оплата</td>\n",
       "      <td>3539</td>\n",
       "      <td>94.78</td>\n",
       "    </tr>\n",
       "  </tbody>\n",
       "</table>\n",
       "</div>"
      ],
      "text/plain": [
       "               event  user_cnt  conversion\n",
       "0      Главный экран      7419         NaN\n",
       "1  Экран предложений      4593       61.91\n",
       "2            Корзина      3734       81.30\n",
       "3    Успешная оплата      3539       94.78"
      ]
     },
     "execution_count": 32,
     "metadata": {},
     "output_type": "execute_result"
    }
   ],
   "source": [
    "funnel = events[['event', 'user_cnt']][1:]\\\n",
    "                .sort_values('user_cnt', ascending=False)\\\n",
    "                .reset_index(drop=True)\n",
    "funnel['conversion'] = np.round((funnel['user_cnt'][1:] / funnel['user_cnt'].shift(1)[1:]),\n",
    "                                decimals=4) * 100\n",
    "\n",
    "funnel"
   ]
  },
  {
   "cell_type": "markdown",
   "metadata": {},
   "source": [
    "Как видно, наихудшая конверсия у самого первого шага - от главного экрана к экрану предложений переходит чуть меньше 62% пользователей, далее, в корзину переходит больше 81% пользователей, а на последнем шаге конверсия самая высокая - почти 95%."
   ]
  },
  {
   "cell_type": "code",
   "execution_count": 33,
   "metadata": {},
   "outputs": [
    {
     "name": "stdout",
     "output_type": "stream",
     "text": [
      "От главного экрана до оплаты доходят 47.70% пользователей\n"
     ]
    }
   ],
   "source": [
    "print(f'От главного экрана до оплаты доходят {funnel.iloc[3][\"user_cnt\"] / funnel.iloc[0][\"user_cnt\"]:.2%} пользователей')"
   ]
  },
  {
   "cell_type": "markdown",
   "metadata": {},
   "source": [
    "### Вывод\n",
    "\n",
    "1. Из пяти типов событий, которые попали в логи, четыре выстраиваются в последовательную цепочку: заход на главный экран, на экран предложений, в корзину и успешная оплата. Обучение не пользуется популярностью у пользователей, его проходят достаточно редко, и оно не является обязательным шагом на пути к покупке.\n",
    "2. Наше приложение, по-видимому, используют достаточно мотивированные пользователи, так что 47.7% людей, заходящих в него (нужно обратить внимание на то, что заход на главный экран зафиксирован не для всех пользователей), доходят до покупки. Наихудшая конверсия наблюдается на переходе с главного экрана на экран предложений (здесь мы теряем почти 40% пользователей), далее, на переходе в корзину, мы теряем чуть меньше 20% пользователей. Наконец, 95% пользователей, перешедших в корзину, успешно завершают покупку."
   ]
  },
  {
   "cell_type": "markdown",
   "metadata": {},
   "source": [
    "[Наверх](#contents)"
   ]
  },
  {
   "cell_type": "markdown",
   "metadata": {},
   "source": [
    "## 4. Анализ результатов A/A/B-эксперимента <a id='aab'></a>  "
   ]
  },
  {
   "cell_type": "markdown",
   "metadata": {},
   "source": [
    "В данных есть сведения о трех группах: двух контрольных (им не показывали новый шрифт) и одной тестовой, которая видела новый шрифт. Мы будем сравнивать доли - какая часть пользователей из определенной группы совершает то или иное событие, - поэтому применим серию z-тестов с критическим уровнем значимости равным 0.05. Общий план исследования результатов эксперимента такой:\n",
    "1. Рассчитать для каждой группы количество пользователей, совершивших каждое действие.\n",
    "2. Сравнить между собой две контрольные выборки, чтобы убедиться в корректности дизайна эксперимента (ожидается, что значимых различий между этими двумя группами нет).\n",
    "3. Сравнить каждую группу A и группу B.\n",
    "4. Сравнить объединенную группу A и группу B. Несмотря на разницу в численности, такое сравнение возможно, так как обе группы достаточно большие."
   ]
  },
  {
   "cell_type": "code",
   "execution_count": 34,
   "metadata": {},
   "outputs": [],
   "source": [
    "aab_data = df_good.pivot_table(index='event', columns='group', values='uid', aggfunc='nunique')\\\n",
    "                    .sort_values('A1', ascending=False)\n",
    "aab_data.rename(index=event_dct, inplace=True)\n",
    "aab_data.loc['Всего', :] = df_good.groupby('group').agg({'uid': 'nunique'}).transpose().values\n",
    "aab_data['A'] = aab_data['A1'] + aab_data['A2']\n",
    "aab_data = aab_data.astype(int)"
   ]
  },
  {
   "cell_type": "code",
   "execution_count": 35,
   "metadata": {},
   "outputs": [
    {
     "data": {
      "text/html": [
       "<div>\n",
       "<style scoped>\n",
       "    .dataframe tbody tr th:only-of-type {\n",
       "        vertical-align: middle;\n",
       "    }\n",
       "\n",
       "    .dataframe tbody tr th {\n",
       "        vertical-align: top;\n",
       "    }\n",
       "\n",
       "    .dataframe thead th {\n",
       "        text-align: right;\n",
       "    }\n",
       "</style>\n",
       "<table border=\"1\" class=\"dataframe\">\n",
       "  <thead>\n",
       "    <tr style=\"text-align: right;\">\n",
       "      <th>group</th>\n",
       "      <th>A1</th>\n",
       "      <th>A2</th>\n",
       "      <th>B</th>\n",
       "      <th>A</th>\n",
       "    </tr>\n",
       "    <tr>\n",
       "      <th>event</th>\n",
       "      <th></th>\n",
       "      <th></th>\n",
       "      <th></th>\n",
       "      <th></th>\n",
       "    </tr>\n",
       "  </thead>\n",
       "  <tbody>\n",
       "    <tr>\n",
       "      <th>Главный экран</th>\n",
       "      <td>2450</td>\n",
       "      <td>2476</td>\n",
       "      <td>2493</td>\n",
       "      <td>4926</td>\n",
       "    </tr>\n",
       "    <tr>\n",
       "      <th>Экран предложений</th>\n",
       "      <td>1542</td>\n",
       "      <td>1520</td>\n",
       "      <td>1531</td>\n",
       "      <td>3062</td>\n",
       "    </tr>\n",
       "    <tr>\n",
       "      <th>Корзина</th>\n",
       "      <td>1266</td>\n",
       "      <td>1238</td>\n",
       "      <td>1230</td>\n",
       "      <td>2504</td>\n",
       "    </tr>\n",
       "    <tr>\n",
       "      <th>Успешная оплата</th>\n",
       "      <td>1200</td>\n",
       "      <td>1158</td>\n",
       "      <td>1181</td>\n",
       "      <td>2358</td>\n",
       "    </tr>\n",
       "    <tr>\n",
       "      <th>Обучение</th>\n",
       "      <td>278</td>\n",
       "      <td>283</td>\n",
       "      <td>279</td>\n",
       "      <td>561</td>\n",
       "    </tr>\n",
       "    <tr>\n",
       "      <th>Всего</th>\n",
       "      <td>2484</td>\n",
       "      <td>2513</td>\n",
       "      <td>2537</td>\n",
       "      <td>4997</td>\n",
       "    </tr>\n",
       "  </tbody>\n",
       "</table>\n",
       "</div>"
      ],
      "text/plain": [
       "group                A1    A2     B     A\n",
       "event                                    \n",
       "Главный экран      2450  2476  2493  4926\n",
       "Экран предложений  1542  1520  1531  3062\n",
       "Корзина            1266  1238  1230  2504\n",
       "Успешная оплата    1200  1158  1181  2358\n",
       "Обучение            278   283   279   561\n",
       "Всего              2484  2513  2537  4997"
      ]
     },
     "execution_count": 35,
     "metadata": {},
     "output_type": "execute_result"
    }
   ],
   "source": [
    "aab_data"
   ]
  },
  {
   "cell_type": "markdown",
   "metadata": {},
   "source": [
    "Мы получили таблицу, в которой для каждой выборки рассчитано число пользователей на каждом событии, а также общее число пользователей. Как уже отмечалось, выборки близки по размеру - в каждой примерно по 2500 человек, чего достаточно для проведения корректного статистического теста."
   ]
  },
  {
   "cell_type": "markdown",
   "metadata": {},
   "source": [
    "Для оптимизации расчетов создадим функцию для проведения теста."
   ]
  },
  {
   "cell_type": "code",
   "execution_count": 36,
   "metadata": {},
   "outputs": [],
   "source": [
    "def z_test(group1, group2, event, alpha=0.05):\n",
    "    total = np.array([aab_data.loc['Всего'][group1], aab_data.loc['Всего'][group2]])\n",
    "    events = np.array([aab_data.loc[event][group1], aab_data.loc[event][group2]])\n",
    "    \n",
    "    # доли по группам, доля по комбинированной выборке, разница долей по группам\n",
    "    p1 = events[0] / total[0]\n",
    "    p2 = events[1] / total[1]\n",
    "    p_comb = np.sum(events) / np.sum(total)\n",
    "    diff = abs(p1 - p2)\n",
    "    \n",
    "    # z-статистика\n",
    "    z_value = diff / np.sqrt(p_comb * (1 - p_comb) * (1 / total[0] + 1 / total[1]))\n",
    "    \n",
    "    # p-value\n",
    "    distr = st.norm(0, 1)\n",
    "    p_value = (1 - distr.cdf(z_value)) * 2\n",
    "    \n",
    "    print(f'Результаты z-теста для выборок {group1} и {group2} и события \"{event}\"')\n",
    "    print(f'\\tz-статистика: {z_value}')\n",
    "    print(f'\\tp-значение: {p_value}')\n",
    "    \n",
    "    if p_value < alpha:\n",
    "        print('Отвергаем нулевую гипотезу\\n\\n')\n",
    "    else:\n",
    "        print('Не удалось отвергнуть нулевую гипотезу\\n\\n')\n",
    "        \n",
    "    return z_value, p_value"
   ]
  },
  {
   "cell_type": "markdown",
   "metadata": {},
   "source": [
    "### A. Сравнение контрольных выборок <a id='aa'></a>"
   ]
  },
  {
   "cell_type": "markdown",
   "metadata": {},
   "source": [
    "Задача сравнения контрольных выборок - убедиться, что эксперимент поставлен корректно, то есть мы ожидаем, что различий между ними нет. Сравним их по доле пользователей, совершивших каждое из пяти событий. Нулевая гипотеза: статистически значимых различий между долями пользователей в двух выборках нет. Альтернативная гипотеза: выборки значимо отличаются."
   ]
  },
  {
   "cell_type": "code",
   "execution_count": 37,
   "metadata": {},
   "outputs": [
    {
     "name": "stdout",
     "output_type": "stream",
     "text": [
      "Результаты z-теста для выборок A1 и A2 и события \"Главный экран\"\n",
      "\tz-статистика: 0.3093441851418436\n",
      "\tp-значение: 0.7570597232046099\n",
      "Не удалось отвергнуть нулевую гипотезу\n",
      "\n",
      "\n",
      "Результаты z-теста для выборок A1 и A2 и события \"Экран предложений\"\n",
      "\tz-статистика: 1.154987713610383\n",
      "\tp-значение: 0.2480954578522181\n",
      "Не удалось отвергнуть нулевую гипотезу\n",
      "\n",
      "\n",
      "Результаты z-теста для выборок A1 и A2 и события \"Корзина\"\n",
      "\tz-статистика: 1.203368576486285\n",
      "\tp-значение: 0.22883372237997213\n",
      "Не удалось отвергнуть нулевую гипотезу\n",
      "\n",
      "\n",
      "Результаты z-теста для выборок A1 и A2 и события \"Успешная оплата\"\n",
      "\tz-статистика: 1.5779948491596598\n",
      "\tp-значение: 0.11456679313141849\n",
      "Не удалось отвергнуть нулевую гипотезу\n",
      "\n",
      "\n",
      "Результаты z-теста для выборок A1 и A2 и события \"Обучение\"\n",
      "\tz-статистика: 0.0781614596617372\n",
      "\tp-значение: 0.9376996189257114\n",
      "Не удалось отвергнуть нулевую гипотезу\n",
      "\n",
      "\n"
     ]
    }
   ],
   "source": [
    "for event in aab_data.index[:-1]:\n",
    "    z_test('A1', 'A2', event)"
   ]
  },
  {
   "cell_type": "markdown",
   "metadata": {},
   "source": [
    "Как и ожидалось, ни в одном из пяти тестов мы не нашли статистически значимых различий между двумя контрольными выборками. Таким образом, можно утверждать, что разбиение на группы было корректным и мы можем на основании имеющихся данных сравнить тестовую выборку с контрольными группами."
   ]
  },
  {
   "cell_type": "markdown",
   "metadata": {},
   "source": [
    "### B. Сравнение тестовой и контрольных групп <a id='ab'></a>"
   ]
  },
  {
   "cell_type": "markdown",
   "metadata": {},
   "source": [
    "Сравнение тестовой и контрольных групп должно дать основания для выводов об эффективности эксперимента. Сравним их также по доле пользователей, совершивших каждое из пяти событий. Нулевая гипотеза: статистически значимых различий между долями пользователей в двух выборках нет. Альтернативная гипотеза: выборки значимо отличаются."
   ]
  },
  {
   "cell_type": "code",
   "execution_count": 38,
   "metadata": {},
   "outputs": [
    {
     "name": "stdout",
     "output_type": "stream",
     "text": [
      "Результаты z-теста для выборок A1 и B и события \"Главный экран\"\n",
      "\tz-статистика: 1.0472762353383693\n",
      "\tp-значение: 0.2949721933554552\n",
      "Не удалось отвергнуть нулевую гипотезу\n",
      "\n",
      "\n",
      "Результаты z-теста для выборок A1 и B и события \"Экран предложений\"\n",
      "\tz-статистика: 1.2580821335711887\n",
      "\tp-значение: 0.20836205402738917\n",
      "Не удалось отвергнуть нулевую гипотезу\n",
      "\n",
      "\n",
      "Результаты z-теста для выборок A1 и B и события \"Корзина\"\n",
      "\tz-статистика: 1.7598736474548398\n",
      "\tp-значение: 0.07842923237520116\n",
      "Не удалось отвергнуть нулевую гипотезу\n",
      "\n",
      "\n",
      "Результаты z-теста для выборок A1 и B и события \"Успешная оплата\"\n",
      "\tz-статистика: 1.2473878277158326\n",
      "\tp-значение: 0.2122553275697796\n",
      "Не удалось отвергнуть нулевую гипотезу\n",
      "\n",
      "\n",
      "Результаты z-теста для выборок A1 и B и события \"Обучение\"\n",
      "\tz-статистика: 0.21928326020412683\n",
      "\tp-значение: 0.8264294010087645\n",
      "Не удалось отвергнуть нулевую гипотезу\n",
      "\n",
      "\n"
     ]
    }
   ],
   "source": [
    "for event in aab_data.index[:-1]:\n",
    "    z_test('A1', 'B', event)"
   ]
  },
  {
   "cell_type": "markdown",
   "metadata": {},
   "source": [
    "Статистически значимых различий между двумя группами не обнаружено."
   ]
  },
  {
   "cell_type": "code",
   "execution_count": 39,
   "metadata": {},
   "outputs": [
    {
     "name": "stdout",
     "output_type": "stream",
     "text": [
      "Результаты z-теста для выборок A2 и B и события \"Главный экран\"\n",
      "\tz-статистика: 0.740980338642352\n",
      "\tp-значение: 0.4587053616621515\n",
      "Не удалось отвергнуть нулевую гипотезу\n",
      "\n",
      "\n",
      "Результаты z-теста для выборок A2 и B и события \"Экран предложений\"\n",
      "\tz-статистика: 0.1007086015299871\n",
      "\tp-значение: 0.9197817830592261\n",
      "Не удалось отвергнуть нулевую гипотезу\n",
      "\n",
      "\n",
      "Результаты z-теста для выборок A2 и B и события \"Корзина\"\n",
      "\tz-статистика: 0.5554019078073092\n",
      "\tp-значение: 0.5786197879539783\n",
      "Не удалось отвергнуть нулевую гипотезу\n",
      "\n",
      "\n",
      "Результаты z-теста для выборок A2 и B и события \"Успешная оплата\"\n",
      "\tz-статистика: 0.3353759529753951\n",
      "\tp-значение: 0.7373415053803964\n",
      "Не удалось отвергнуть нулевую гипотезу\n",
      "\n",
      "\n",
      "Результаты z-теста для выборок A2 и B и события \"Обучение\"\n",
      "\tz-статистика: 0.2984969253006019\n",
      "\tp-значение: 0.765323922474501\n",
      "Не удалось отвергнуть нулевую гипотезу\n",
      "\n",
      "\n"
     ]
    }
   ],
   "source": [
    "for event in aab_data.index[:-1]:\n",
    "    z_test('A2', 'B', event)"
   ]
  },
  {
   "cell_type": "markdown",
   "metadata": {},
   "source": [
    "Статистически значимых различий между двумя группами не обнаружено."
   ]
  },
  {
   "cell_type": "code",
   "execution_count": 40,
   "metadata": {},
   "outputs": [
    {
     "name": "stdout",
     "output_type": "stream",
     "text": [
      "Результаты z-теста для выборок A и B и события \"Главный экран\"\n",
      "\tz-статистика: 1.048854111361149\n",
      "\tp-значение: 0.29424526837179577\n",
      "Не удалось отвергнуть нулевую гипотезу\n",
      "\n",
      "\n",
      "Результаты z-теста для выборок A и B и события \"Экран предложений\"\n",
      "\tz-статистика: 0.7819303684733905\n",
      "\tp-значение: 0.43425549655188256\n",
      "Не удалось отвергнуть нулевую гипотезу\n",
      "\n",
      "\n",
      "Результаты z-теста для выборок A и B и события \"Корзина\"\n",
      "\tz-статистика: 1.3353593793146474\n",
      "\tp-значение: 0.18175875284404386\n",
      "Не удалось отвергнуть нулевую гипотезу\n",
      "\n",
      "\n",
      "Результаты z-теста для выборок A и B и события \"Успешная оплата\"\n",
      "\tz-статистика: 0.5237830725856985\n",
      "\tp-значение: 0.6004294282308704\n",
      "Не удалось отвергнуть нулевую гипотезу\n",
      "\n",
      "\n",
      "Результаты z-теста для выборок A и B и события \"Обучение\"\n",
      "\tz-статистика: 0.2991016694401563\n",
      "\tp-значение: 0.764862472531507\n",
      "Не удалось отвергнуть нулевую гипотезу\n",
      "\n",
      "\n"
     ]
    }
   ],
   "source": [
    "for event in aab_data.index[:-1]:\n",
    "    z_test('A', 'B', event)"
   ]
  },
  {
   "cell_type": "markdown",
   "metadata": {},
   "source": [
    "Статистически значимых различий между двумя группами не обнаружено."
   ]
  },
  {
   "cell_type": "markdown",
   "metadata": {},
   "source": [
    "### Вывод\n",
    "\n",
    "По результатам 15 тестов, выявить статистически значимые различия между группами A1, A2 и B ни по одному событию не удалось. Следует особо заметить, что, несмотря на большое количество тестов, мы не применяли поправки на множественное сравнение (поправку Бонферрони, метода Холма-Бонферрони или другие), поскольку они призваны уменьшить вероятность ошибки первого рода (то есть шанс ложно отклонить нулевую гипотезу), о которой в нашем случае речь не идет. Таким образом, мы можем утверждать, что, по результатам эксперимента, нововведение (шрифт) не повлияло на поведение пользователей ни в положительную, ни в отрицательную сторону."
   ]
  },
  {
   "cell_type": "markdown",
   "metadata": {},
   "source": [
    "[Наверх](#contents)"
   ]
  },
  {
   "cell_type": "markdown",
   "metadata": {},
   "source": [
    "## 5. Общий вывод <a id='conclusion'></a>"
   ]
  },
  {
   "cell_type": "markdown",
   "metadata": {},
   "source": [
    "1. Проведенное исследование мобильного приложения стартапа, продающего продукты питания, основывалось на логах за первую неделю (с 1 по 8) августа 2019 года, в которых зафиксированы около 240 тысяч событий и 7500 уникальных пользователей (в среднем 32 события на одного пользователя).\n",
    "2. Из пяти типов событий, которые попали в логи, четыре выстраиваются в последовательную воронку: заход на главный экран, на экран предложений, в корзину и, наконец, успешная оплата. Имеющееся кроме них обучение  проходят достаточно редко, оно не является обязательным шагом на пути к покупке.\n",
    "3. Всего 47.7% людей, заходящих в него (нужно обратить внимание на то, что заход на главный экран зафиксирован не для всех, а примерно для 98.5% пользователей), доходят до покупки. Наихудшая конверсия наблюдается на переходе с главного экрана на экран предложений (61.8%), далее, на переходе в корзину, - 81.3% . Наконец, 94.8% пользователей, перешедших в корзину, успешно завершают покупку.\n",
    "4. Цифры, приведенные в п. 3, показывают, что в основном у нас достаточно мотивированные пользователи, что в целом логично, так как если пользователь ставит себе приложение, единственная функция которого - магазин еды, то, вероятно, он предполагает что-то купить. В связи с этим следует подробнее изучить поведение пользователей на переходе от главного экрана к экрану предложений: получается, что почти 40% пользователей, скачавших приложение-магазин, не посмотрели, что оно, собственно, продает. Возможно, показатели на этом этапе можно улучшить.\n",
    "5. Кроме изучения воронки, было проведено исследование результатов A/A/B-эксперимента, в котором проверялось, как изменение шрифта в приложении влияет на поведение пользователей. В результате последовательного сравнения долей уникальных пользователей в каждой группе на каждом событии не удалось выявить статистически значимые различия между тестовой и контрольными группами, таким образом, эксперимент показал, что такое изменение шрифта не влияет на поведение пользователей ни в лучшую, ни в худшую сторону."
   ]
  },
  {
   "cell_type": "markdown",
   "metadata": {},
   "source": [
    "[Наверх](#contents)"
   ]
  }
 ],
 "metadata": {
  "kernelspec": {
   "display_name": "Python 3",
   "language": "python",
   "name": "python3"
  },
  "language_info": {
   "codemirror_mode": {
    "name": "ipython",
    "version": 3
   },
   "file_extension": ".py",
   "mimetype": "text/x-python",
   "name": "python",
   "nbconvert_exporter": "python",
   "pygments_lexer": "ipython3",
   "version": "3.8.5"
  }
 },
 "nbformat": 4,
 "nbformat_minor": 2
}
