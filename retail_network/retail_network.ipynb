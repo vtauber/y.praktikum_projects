{
 "cells": [
  {
   "cell_type": "markdown",
   "metadata": {},
   "source": [
    "# Оценка эффективности торговых точек\n",
    "\n",
    "Задачей работы является анализ сетевых магазинов строительных материалов. На основе датасета, содержащего данные о покупках за декабрь 2016 - февраль 2017 года, требуется сравнить эффективность отдельных торговых точек.\n",
    "\n",
    "### Материалы\n",
    "- [Дашборд](https://public.tableau.com/profile/vladimir.tauber#!/vizhome/retail_analysis/Dashboard1)"
   ]
  },
  {
   "cell_type": "markdown",
   "metadata": {},
   "source": [
    "## Содержание <a id='contents'></a>\n",
    "1. [План решения задачи](#decompose)\n",
    "2. [Загрузка и предобработка данных](#load)\n",
    "3. [Исследовательский анализ данных](#eda)\n",
    "4. [Расчет основных метрик и  сравнение магазинов](#metrics)\n",
    "5. [Проведение статистических тестов](#test)\n",
    "6. [Классификация небольших магазинов](#clusters)\n",
    "7. [Общий вывод](#conclusion)"
   ]
  },
  {
   "cell_type": "markdown",
   "metadata": {},
   "source": [
    "## 1. План решения задачи <a id='decompose'></a>"
   ]
  },
  {
   "cell_type": "markdown",
   "metadata": {},
   "source": [
    "<details>\n",
    "  <summary>Click to expand</summary>\n",
    "  \n",
    "#### 1. Загрузка и преобработка данных\n",
    "- Нужно ли изменить типы данных, переименовать столбцы?\n",
    "- Есть ли в данных пропуски, как они могли возникнуть и стоит ли их заполнять?\n",
    "- Есть ли в данных дубликаты?\n",
    "- Что могут обозначать нереалистичные значения - нулевые и отрицательные цена и количество? Могут ли это быть подарки, возвраты и т.д.?\n",
    "- Необходимо расчитать стоимость каждой позиции для дальнейшего анализа.\n",
    "- Каковы максимальные, минимальные и средние/медианные размеры одной позиции? Есть ли среди них выбросы?\n",
    "\n",
    "#### 2. Исследовательский анализ данных\n",
    "- Как данные распределены во времени? Есть ли зависимость продаж от дня недели/времени суток? \n",
    "- Сколько покупают отдельные пользователи? Есть ли у нас возвращающиеся пользователи (хотя, понятно, период достаточно короткий)? Насколько часто они ходят в один и тот же магазин, есть ли здесь какая-то связь с программой лояльности?\n",
    "\n",
    "#### 3. Расчет основных метрик\n",
    "- Как продажи распределены по магазинам? (скорее всего, самый большой магазин окажется абсолютным лидером, но, возможно, удастастся сделать какие-то наблюдения относительно более мелких магазинов)?\n",
    "- Каковы средние размеры чека в нашей сети? Каков средний чек и средняя глубина чека в каждом магазине?\n",
    "- Можем ли мы рассчитать долю возврата в отдельных магазинах?  \n",
    "- Какая доля выручки создается пользователями программы лояльности?\n",
    "    \n",
    "#### 4. Анализ отдельных групп магазинов\n",
    "- Можем ли мы выделить отдельные группы магазинов?  \n",
    "- Можно ли для решения этой задачи применить кластеризацию?      \n",
    "\n",
    "#### 5. Проведение статистических тестов\n",
    "Конкретные формулировки гипотез зависят от результатов предыдущих этапов анализа. Поскольку у нас много магазинов и не для всех достаточно данных, проводить множественные тесты для всех них по отдельности нецелесообразно. Более обоснованным представляется сравнение показателей в самом большом магазине и всех остальных в совокупности. Возможно, \"все остальные\" также не составляют монолитной группы и, если получится выделить в них 2-3 категории, то показатели для каждой из них можно будет сравнить между собой и с самым большим магазином. Пока что, предполагая деление магазинов на \"самый большой\" и \"все остальные\", можно выдвинуть следующие предварительные гипотезы (это не формулировки нулевых гипотез в статистическом смысле, а предположения, которые можно проверить):\n",
    "- Величина среднего чека в крупном магазине больше, чем во всех остальных.\n",
    "\n",
    "#### 6. Общий вывод, подготовка презентации и дашборда\n",
    "\n",
    "\n",
    "---\n",
    "\n",
    "[Наверх](#contents)\n",
    "</details>"
   ]
  },
  {
   "cell_type": "markdown",
   "metadata": {},
   "source": [
    "---"
   ]
  },
  {
   "cell_type": "markdown",
   "metadata": {},
   "source": [
    "## 2. Загрузка и предобработка данных <a id='load'></a>"
   ]
  },
  {
   "cell_type": "code",
   "execution_count": 1,
   "metadata": {},
   "outputs": [],
   "source": [
    "import pandas as pd\n",
    "import numpy as np\n",
    "import matplotlib.pyplot as plt\n",
    "import seaborn as sns\n",
    "\n",
    "from warnings import filterwarnings\n",
    "from IPython.display import display\n",
    "from collections import Counter\n",
    "from scipy import stats as st\n",
    "from sklearn.cluster import KMeans\n",
    "from sklearn.preprocessing import StandardScaler\n",
    "from scipy.cluster.hierarchy import dendrogram, linkage \n",
    "\n",
    "filterwarnings('ignore')\n",
    "plt.style.use('seaborn')\n",
    "plt.rcParams['figure.figsize'] = (12,9)\n",
    "plt.rcParams['axes.titlesize'] = 16\n",
    "plt.rcParams['figure.titlesize'] = 18\n",
    "plt.rcParams['axes.labelsize'] = 14"
   ]
  },
  {
   "cell_type": "code",
   "execution_count": 2,
   "metadata": {},
   "outputs": [
    {
     "name": "stdout",
     "output_type": "stream",
     "text": [
      "<class 'pandas.core.frame.DataFrame'>\n",
      "RangeIndex: 105335 entries, 0 to 105334\n",
      "Data columns (total 7 columns):\n",
      " #   Column           Non-Null Count   Dtype  \n",
      "---  ------           --------------   -----  \n",
      " 0   purchaseid       105335 non-null  object \n",
      " 1   item_ID          105335 non-null  object \n",
      " 2   Quantity         105335 non-null  int64  \n",
      " 3   purchasedate     105335 non-null  object \n",
      " 4   CustomerID       69125 non-null   float64\n",
      " 5   ShopID           105335 non-null  object \n",
      " 6   loyalty_program  105335 non-null  float64\n",
      "dtypes: float64(2), int64(1), object(4)\n",
      "memory usage: 5.6+ MB\n",
      "None\n",
      "            Quantity    CustomerID  loyalty_program\n",
      "count  105335.000000  69125.000000    105335.000000\n",
      "mean        7.821218  21019.302047         0.226345\n",
      "std       327.946695   1765.444679         0.418467\n",
      "min    -74216.000000  18025.000000         0.000000\n",
      "25%         0.000000  19544.000000         0.000000\n",
      "50%         2.000000  20990.000000         0.000000\n",
      "75%         7.000000  22659.000000         0.000000\n",
      "max     74214.000000  23962.000000         1.000000\n"
     ]
    },
    {
     "data": {
      "text/html": [
       "<div>\n",
       "<style scoped>\n",
       "    .dataframe tbody tr th:only-of-type {\n",
       "        vertical-align: middle;\n",
       "    }\n",
       "\n",
       "    .dataframe tbody tr th {\n",
       "        vertical-align: top;\n",
       "    }\n",
       "\n",
       "    .dataframe thead th {\n",
       "        text-align: right;\n",
       "    }\n",
       "</style>\n",
       "<table border=\"1\" class=\"dataframe\">\n",
       "  <thead>\n",
       "    <tr style=\"text-align: right;\">\n",
       "      <th></th>\n",
       "      <th>purchaseid</th>\n",
       "      <th>item_ID</th>\n",
       "      <th>Quantity</th>\n",
       "      <th>purchasedate</th>\n",
       "      <th>CustomerID</th>\n",
       "      <th>ShopID</th>\n",
       "      <th>loyalty_program</th>\n",
       "    </tr>\n",
       "  </thead>\n",
       "  <tbody>\n",
       "    <tr>\n",
       "      <th>0</th>\n",
       "      <td>538280</td>\n",
       "      <td>21873</td>\n",
       "      <td>11</td>\n",
       "      <td>2016-12-10 12:50:00</td>\n",
       "      <td>18427.0</td>\n",
       "      <td>Shop 0</td>\n",
       "      <td>0.0</td>\n",
       "    </tr>\n",
       "    <tr>\n",
       "      <th>1</th>\n",
       "      <td>538862</td>\n",
       "      <td>22195</td>\n",
       "      <td>0</td>\n",
       "      <td>2016-12-14 14:11:00</td>\n",
       "      <td>22389.0</td>\n",
       "      <td>Shop 0</td>\n",
       "      <td>1.0</td>\n",
       "    </tr>\n",
       "    <tr>\n",
       "      <th>2</th>\n",
       "      <td>538855</td>\n",
       "      <td>21239</td>\n",
       "      <td>7</td>\n",
       "      <td>2016-12-14 13:50:00</td>\n",
       "      <td>22182.0</td>\n",
       "      <td>Shop 0</td>\n",
       "      <td>1.0</td>\n",
       "    </tr>\n",
       "    <tr>\n",
       "      <th>3</th>\n",
       "      <td>543543</td>\n",
       "      <td>22271</td>\n",
       "      <td>0</td>\n",
       "      <td>2017-02-09 15:33:00</td>\n",
       "      <td>23522.0</td>\n",
       "      <td>Shop 0</td>\n",
       "      <td>1.0</td>\n",
       "    </tr>\n",
       "    <tr>\n",
       "      <th>4</th>\n",
       "      <td>543812</td>\n",
       "      <td>79321</td>\n",
       "      <td>0</td>\n",
       "      <td>2017-02-13 14:40:00</td>\n",
       "      <td>23151.0</td>\n",
       "      <td>Shop 0</td>\n",
       "      <td>1.0</td>\n",
       "    </tr>\n",
       "  </tbody>\n",
       "</table>\n",
       "</div>"
      ],
      "text/plain": [
       "  purchaseid item_ID  Quantity         purchasedate  CustomerID  ShopID  \\\n",
       "0     538280   21873        11  2016-12-10 12:50:00     18427.0  Shop 0   \n",
       "1     538862   22195         0  2016-12-14 14:11:00     22389.0  Shop 0   \n",
       "2     538855   21239         7  2016-12-14 13:50:00     22182.0  Shop 0   \n",
       "3     543543   22271         0  2017-02-09 15:33:00     23522.0  Shop 0   \n",
       "4     543812   79321         0  2017-02-13 14:40:00     23151.0  Shop 0   \n",
       "\n",
       "   loyalty_program  \n",
       "0              0.0  \n",
       "1              1.0  \n",
       "2              1.0  \n",
       "3              1.0  \n",
       "4              1.0  "
      ]
     },
     "execution_count": 2,
     "metadata": {},
     "output_type": "execute_result"
    }
   ],
   "source": [
    "retail_data = pd.read_csv(r'retail_dataset.csv')\n",
    "print(retail_data.info())\n",
    "print(retail_data.describe())\n",
    "retail_data.head()"
   ]
  },
  {
   "cell_type": "code",
   "execution_count": 3,
   "metadata": {},
   "outputs": [
    {
     "data": {
      "text/plain": [
       "'Число полных дубликатов: 1033'"
      ]
     },
     "execution_count": 3,
     "metadata": {},
     "output_type": "execute_result"
    }
   ],
   "source": [
    "f'Число полных дубликатов: {retail_data.duplicated().sum()}'"
   ]
  },
  {
   "cell_type": "markdown",
   "metadata": {},
   "source": [
    "Первые наблюдения:\n",
    "1. В таблице очень много пропусков в столбце `CustomerID` (примерно треть).\n",
    "2. В столбце `Quantity` очень много нулей (больше 25%, т.к. первый квартиль равен нулю), кроме того, есть отрицательные значения, возможно, возвраты.\n",
    "3. В таблице чуть меньше 1% дубликатов.\n",
    "4. Нужно заменить типы данных: `purchasedate` на `datetime`, `CustomerID` на `str` (желательно, но сначала нужно обработать дубликаты), `loyalty_program` на `int`.\n",
    "5. Нужно создать дополнительные признаки - дату и время покупки, а также общую стоимость каждой позиции (на основе данных двух таблиц)."
   ]
  },
  {
   "cell_type": "code",
   "execution_count": 4,
   "metadata": {},
   "outputs": [],
   "source": [
    "# переименуем столбцы для удобства\n",
    "retail_data.columns = ['purchase_id', 'item_id', 'quantity', 'purchase_dt', 'customer_id', 'shop_id', 'is_loyal']"
   ]
  },
  {
   "cell_type": "code",
   "execution_count": 5,
   "metadata": {},
   "outputs": [
    {
     "name": "stdout",
     "output_type": "stream",
     "text": [
      "<class 'pandas.core.frame.DataFrame'>\n",
      "RangeIndex: 9969 entries, 0 to 9968\n",
      "Data columns (total 2 columns):\n",
      " #   Column         Non-Null Count  Dtype  \n",
      "---  ------         --------------  -----  \n",
      " 0   productID      9969 non-null   object \n",
      " 1   price_per_one  9969 non-null   float64\n",
      "dtypes: float64(1), object(1)\n",
      "memory usage: 155.9+ KB\n",
      "None\n",
      "       price_per_one\n",
      "count    9969.000000\n",
      "mean       19.503697\n",
      "std       330.880754\n",
      "min         0.000000\n",
      "25%         1.250000\n",
      "50%         2.550000\n",
      "75%         5.510000\n",
      "max     16888.020000\n"
     ]
    },
    {
     "data": {
      "text/html": [
       "<div>\n",
       "<style scoped>\n",
       "    .dataframe tbody tr th:only-of-type {\n",
       "        vertical-align: middle;\n",
       "    }\n",
       "\n",
       "    .dataframe tbody tr th {\n",
       "        vertical-align: top;\n",
       "    }\n",
       "\n",
       "    .dataframe thead th {\n",
       "        text-align: right;\n",
       "    }\n",
       "</style>\n",
       "<table border=\"1\" class=\"dataframe\">\n",
       "  <thead>\n",
       "    <tr style=\"text-align: right;\">\n",
       "      <th></th>\n",
       "      <th>productID</th>\n",
       "      <th>price_per_one</th>\n",
       "    </tr>\n",
       "  </thead>\n",
       "  <tbody>\n",
       "    <tr>\n",
       "      <th>0</th>\n",
       "      <td>85123A</td>\n",
       "      <td>2.55</td>\n",
       "    </tr>\n",
       "    <tr>\n",
       "      <th>1</th>\n",
       "      <td>71053</td>\n",
       "      <td>3.39</td>\n",
       "    </tr>\n",
       "    <tr>\n",
       "      <th>2</th>\n",
       "      <td>84406B</td>\n",
       "      <td>2.75</td>\n",
       "    </tr>\n",
       "    <tr>\n",
       "      <th>3</th>\n",
       "      <td>84029G</td>\n",
       "      <td>3.39</td>\n",
       "    </tr>\n",
       "    <tr>\n",
       "      <th>4</th>\n",
       "      <td>84029E</td>\n",
       "      <td>3.39</td>\n",
       "    </tr>\n",
       "  </tbody>\n",
       "</table>\n",
       "</div>"
      ],
      "text/plain": [
       "  productID  price_per_one\n",
       "0    85123A           2.55\n",
       "1     71053           3.39\n",
       "2    84406B           2.75\n",
       "3    84029G           3.39\n",
       "4    84029E           3.39"
      ]
     },
     "execution_count": 5,
     "metadata": {},
     "output_type": "execute_result"
    }
   ],
   "source": [
    "product_codes = pd.read_csv(r'product_codes.csv')\n",
    "print(product_codes.info())\n",
    "print(product_codes.describe())\n",
    "product_codes.head()"
   ]
  },
  {
   "cell_type": "code",
   "execution_count": 6,
   "metadata": {},
   "outputs": [
    {
     "name": "stdout",
     "output_type": "stream",
     "text": [
      "\n",
      "Число полных дубликатов: 0\n",
      "Число дубликатов по ID товара: 6810\n",
      "\n"
     ]
    }
   ],
   "source": [
    "print(f'''\n",
    "Число полных дубликатов: {product_codes.duplicated().sum()}\n",
    "Число дубликатов по ID товара: {product_codes.duplicated(subset=['productID']).sum()}\n",
    "''')"
   ]
  },
  {
   "cell_type": "markdown",
   "metadata": {},
   "source": [
    "Первые наблюдения:\n",
    "1. Пропусков и полных дубликатов нет, типы данных. \n",
    "2. Многие товары имеют больше одной цены.\n",
    "3. Нужно сравнить ID продуктов в двух таблицах, прежде чем их объединять."
   ]
  },
  {
   "cell_type": "code",
   "execution_count": 7,
   "metadata": {},
   "outputs": [],
   "source": [
    "# переименуем столбцы для удобства\n",
    "product_codes.columns = ['product_id', 'price_per_unit']"
   ]
  },
  {
   "cell_type": "markdown",
   "metadata": {},
   "source": [
    "### Обработка дубликатов"
   ]
  },
  {
   "cell_type": "code",
   "execution_count": 8,
   "metadata": {},
   "outputs": [
    {
     "name": "stdout",
     "output_type": "stream",
     "text": [
      "\n",
      "Число полных дубликатов: 1033\n",
      "Доля полных дубликатов: 0.98%\n",
      "\n"
     ]
    }
   ],
   "source": [
    "print(f'''\n",
    "Число полных дубликатов: {retail_data.duplicated().sum()}\n",
    "Доля полных дубликатов: {retail_data.duplicated().sum() / len(retail_data):.2%}\n",
    "''')"
   ]
  },
  {
   "cell_type": "markdown",
   "metadata": {},
   "source": [
    "Как уже отмечалось, в нашем основном датафрейме 1033 дубликата, их доля составляет меньше 1%, как представляется, они возникли в результате технических проблем, так что их можно безболезненно удалить."
   ]
  },
  {
   "cell_type": "code",
   "execution_count": 9,
   "metadata": {},
   "outputs": [],
   "source": [
    "retail_data.drop_duplicates(inplace=True)"
   ]
  },
  {
   "cell_type": "markdown",
   "metadata": {},
   "source": [
    "Сложнее ситуация с дубликатами в таблице цен. По-видимому, в течение интересующего нас периода цены на товары менялись. Если это так, то мы ожидаем, что в таблице есть некоторое количество пар/троек/четверок предметов, значения цен для которых отличаются. Проверим, как выглядят дубликаты в таблице цен с этой точки зрения."
   ]
  },
  {
   "cell_type": "code",
   "execution_count": 10,
   "metadata": {
    "scrolled": false
   },
   "outputs": [
    {
     "data": {
      "text/html": [
       "<div>\n",
       "<style scoped>\n",
       "    .dataframe tbody tr th:only-of-type {\n",
       "        vertical-align: middle;\n",
       "    }\n",
       "\n",
       "    .dataframe tbody tr th {\n",
       "        vertical-align: top;\n",
       "    }\n",
       "\n",
       "    .dataframe thead th {\n",
       "        text-align: right;\n",
       "    }\n",
       "</style>\n",
       "<table border=\"1\" class=\"dataframe\">\n",
       "  <thead>\n",
       "    <tr style=\"text-align: right;\">\n",
       "      <th></th>\n",
       "      <th>count</th>\n",
       "      <th>min</th>\n",
       "      <th>max</th>\n",
       "      <th>mean</th>\n",
       "      <th>median</th>\n",
       "    </tr>\n",
       "    <tr>\n",
       "      <th>product_id</th>\n",
       "      <th></th>\n",
       "      <th></th>\n",
       "      <th></th>\n",
       "      <th></th>\n",
       "      <th></th>\n",
       "    </tr>\n",
       "  </thead>\n",
       "  <tbody>\n",
       "    <tr>\n",
       "      <th>DOT</th>\n",
       "      <td>174</td>\n",
       "      <td>2.51</td>\n",
       "      <td>950.99</td>\n",
       "      <td>278.734425</td>\n",
       "      <td>198.190</td>\n",
       "    </tr>\n",
       "    <tr>\n",
       "      <th>M</th>\n",
       "      <td>59</td>\n",
       "      <td>0.19</td>\n",
       "      <td>1715.85</td>\n",
       "      <td>253.765932</td>\n",
       "      <td>12.750</td>\n",
       "    </tr>\n",
       "    <tr>\n",
       "      <th>S</th>\n",
       "      <td>29</td>\n",
       "      <td>2.80</td>\n",
       "      <td>128.56</td>\n",
       "      <td>30.125172</td>\n",
       "      <td>12.950</td>\n",
       "    </tr>\n",
       "    <tr>\n",
       "      <th>POST</th>\n",
       "      <td>15</td>\n",
       "      <td>0.00</td>\n",
       "      <td>40.00</td>\n",
       "      <td>16.638000</td>\n",
       "      <td>12.990</td>\n",
       "    </tr>\n",
       "    <tr>\n",
       "      <th>D</th>\n",
       "      <td>13</td>\n",
       "      <td>5.76</td>\n",
       "      <td>281.00</td>\n",
       "      <td>77.072308</td>\n",
       "      <td>42.500</td>\n",
       "    </tr>\n",
       "    <tr>\n",
       "      <th>79321</th>\n",
       "      <td>11</td>\n",
       "      <td>0.00</td>\n",
       "      <td>12.46</td>\n",
       "      <td>7.013636</td>\n",
       "      <td>5.750</td>\n",
       "    </tr>\n",
       "    <tr>\n",
       "      <th>47566</th>\n",
       "      <td>10</td>\n",
       "      <td>3.75</td>\n",
       "      <td>10.79</td>\n",
       "      <td>6.846000</td>\n",
       "      <td>6.625</td>\n",
       "    </tr>\n",
       "    <tr>\n",
       "      <th>84406B</th>\n",
       "      <td>10</td>\n",
       "      <td>0.00</td>\n",
       "      <td>8.29</td>\n",
       "      <td>4.253000</td>\n",
       "      <td>3.625</td>\n",
       "    </tr>\n",
       "    <tr>\n",
       "      <th>AMAZONFEE</th>\n",
       "      <td>9</td>\n",
       "      <td>1.00</td>\n",
       "      <td>16888.02</td>\n",
       "      <td>9268.762222</td>\n",
       "      <td>6706.710</td>\n",
       "    </tr>\n",
       "    <tr>\n",
       "      <th>22834</th>\n",
       "      <td>9</td>\n",
       "      <td>0.85</td>\n",
       "      <td>5.06</td>\n",
       "      <td>2.938889</td>\n",
       "      <td>2.100</td>\n",
       "    </tr>\n",
       "    <tr>\n",
       "      <th>21673</th>\n",
       "      <td>9</td>\n",
       "      <td>0.00</td>\n",
       "      <td>3.36</td>\n",
       "      <td>1.812222</td>\n",
       "      <td>1.490</td>\n",
       "    </tr>\n",
       "    <tr>\n",
       "      <th>22111</th>\n",
       "      <td>9</td>\n",
       "      <td>4.25</td>\n",
       "      <td>12.72</td>\n",
       "      <td>8.105556</td>\n",
       "      <td>5.910</td>\n",
       "    </tr>\n",
       "    <tr>\n",
       "      <th>22378</th>\n",
       "      <td>9</td>\n",
       "      <td>0.85</td>\n",
       "      <td>5.06</td>\n",
       "      <td>2.938889</td>\n",
       "      <td>2.100</td>\n",
       "    </tr>\n",
       "    <tr>\n",
       "      <th>22112</th>\n",
       "      <td>9</td>\n",
       "      <td>0.00</td>\n",
       "      <td>12.72</td>\n",
       "      <td>7.543333</td>\n",
       "      <td>5.910</td>\n",
       "    </tr>\n",
       "    <tr>\n",
       "      <th>21671</th>\n",
       "      <td>9</td>\n",
       "      <td>0.85</td>\n",
       "      <td>3.36</td>\n",
       "      <td>2.177778</td>\n",
       "      <td>2.460</td>\n",
       "    </tr>\n",
       "    <tr>\n",
       "      <th>82484</th>\n",
       "      <td>9</td>\n",
       "      <td>4.77</td>\n",
       "      <td>16.63</td>\n",
       "      <td>8.860000</td>\n",
       "      <td>6.750</td>\n",
       "    </tr>\n",
       "    <tr>\n",
       "      <th>21670</th>\n",
       "      <td>9</td>\n",
       "      <td>0.00</td>\n",
       "      <td>3.36</td>\n",
       "      <td>1.807778</td>\n",
       "      <td>1.490</td>\n",
       "    </tr>\n",
       "    <tr>\n",
       "      <th>21080</th>\n",
       "      <td>8</td>\n",
       "      <td>0.00</td>\n",
       "      <td>2.51</td>\n",
       "      <td>1.308750</td>\n",
       "      <td>1.240</td>\n",
       "    </tr>\n",
       "    <tr>\n",
       "      <th>21557</th>\n",
       "      <td>8</td>\n",
       "      <td>2.46</td>\n",
       "      <td>5.91</td>\n",
       "      <td>4.192500</td>\n",
       "      <td>4.290</td>\n",
       "    </tr>\n",
       "    <tr>\n",
       "      <th>21621</th>\n",
       "      <td>8</td>\n",
       "      <td>0.00</td>\n",
       "      <td>16.98</td>\n",
       "      <td>10.451250</td>\n",
       "      <td>10.665</td>\n",
       "    </tr>\n",
       "  </tbody>\n",
       "</table>\n",
       "</div>"
      ],
      "text/plain": [
       "            count   min       max         mean    median\n",
       "product_id                                              \n",
       "DOT           174  2.51    950.99   278.734425   198.190\n",
       "M              59  0.19   1715.85   253.765932    12.750\n",
       "S              29  2.80    128.56    30.125172    12.950\n",
       "POST           15  0.00     40.00    16.638000    12.990\n",
       "D              13  5.76    281.00    77.072308    42.500\n",
       "79321          11  0.00     12.46     7.013636     5.750\n",
       "47566          10  3.75     10.79     6.846000     6.625\n",
       "84406B         10  0.00      8.29     4.253000     3.625\n",
       "AMAZONFEE       9  1.00  16888.02  9268.762222  6706.710\n",
       "22834           9  0.85      5.06     2.938889     2.100\n",
       "21673           9  0.00      3.36     1.812222     1.490\n",
       "22111           9  4.25     12.72     8.105556     5.910\n",
       "22378           9  0.85      5.06     2.938889     2.100\n",
       "22112           9  0.00     12.72     7.543333     5.910\n",
       "21671           9  0.85      3.36     2.177778     2.460\n",
       "82484           9  4.77     16.63     8.860000     6.750\n",
       "21670           9  0.00      3.36     1.807778     1.490\n",
       "21080           8  0.00      2.51     1.308750     1.240\n",
       "21557           8  2.46      5.91     4.192500     4.290\n",
       "21621           8  0.00     16.98    10.451250    10.665"
      ]
     },
     "execution_count": 10,
     "metadata": {},
     "output_type": "execute_result"
    }
   ],
   "source": [
    "prices = product_codes.groupby('product_id', as_index=False).agg(['count', 'min', 'max', 'mean', 'median'])\n",
    "prices.columns = ['count', 'min', 'max', 'mean', 'median']\n",
    "\n",
    "prices.sort_values('count', ascending=False).head(20)"
   ]
  },
  {
   "cell_type": "code",
   "execution_count": 11,
   "metadata": {},
   "outputs": [
    {
     "data": {
      "text/plain": [
       "count    3159.000000\n",
       "mean        3.155745\n",
       "std         3.635523\n",
       "min         1.000000\n",
       "25%         2.000000\n",
       "50%         3.000000\n",
       "75%         4.000000\n",
       "max       174.000000\n",
       "Name: count, dtype: float64"
      ]
     },
     "execution_count": 11,
     "metadata": {},
     "output_type": "execute_result"
    }
   ],
   "source": [
    "prices['count'].describe()"
   ]
  },
  {
   "cell_type": "code",
   "execution_count": 12,
   "metadata": {},
   "outputs": [
    {
     "data": {
      "text/plain": [
       "175"
      ]
     },
     "execution_count": 12,
     "metadata": {},
     "output_type": "execute_result"
    }
   ],
   "source": [
    "retail_data[retail_data['item_id'] == 'DOT']['purchase_id'].count()"
   ]
  },
  {
   "cell_type": "code",
   "execution_count": 13,
   "metadata": {},
   "outputs": [
    {
     "data": {
      "text/plain": [
       "217"
      ]
     },
     "execution_count": 13,
     "metadata": {},
     "output_type": "execute_result"
    }
   ],
   "source": [
    "retail_data[retail_data['item_id'] == 'POST']['purchase_id'].count()"
   ]
  },
  {
   "cell_type": "code",
   "execution_count": 14,
   "metadata": {},
   "outputs": [
    {
     "data": {
      "text/plain": [
       "231"
      ]
     },
     "execution_count": 14,
     "metadata": {},
     "output_type": "execute_result"
    }
   ],
   "source": [
    "retail_data[retail_data['item_id'] == '22834']['purchase_id'].count()"
   ]
  },
  {
   "cell_type": "code",
   "execution_count": 15,
   "metadata": {},
   "outputs": [
    {
     "data": {
      "text/plain": [
       "231"
      ]
     },
     "execution_count": 15,
     "metadata": {},
     "output_type": "execute_result"
    }
   ],
   "source": [
    "retail_data[retail_data['item_id'].str.contains('22834')]['purchase_id'].count()"
   ]
  },
  {
   "cell_type": "markdown",
   "metadata": {},
   "source": [
    "Итак, мы видим, что у нас есть дубликаты нескольких видов. Товары `POST`, `AMAZONFEE` и им подобные - это тарифы, комиссии и т.д., соответственно, они имеют много значений, причем назначаются, очевидно, по-разному: напримери, `DOT` имеет 174 варианта на 175 упоминаний (то есть это какая-то \"индивидуальная\" штука), тогда как `POST` (плата за доставку по почте?) - всего 15 значений на 217 упоминаний - набор фиксированных тарифов. Не вполне понятно, чем обусловлено большое количество и и большой разброс цен у некоторых товаров с \"нормальными\" ID вроде `22834`, едва ли цены на них меняли 9 раз за четыре месяца, всего подняв в пять раз. Тем более что некоторые из этих товаров имеют минимальную цену 0. Впрочем, большая часть упоминаемых товаров ведет себя предсказуемо: для 75% есть 4 и меньше цены, что, скорее всего, объясняется их планым подорожанием и изменением цен в ходе акций.  \n",
    "Мы не можем соотнести не имеющие хронологической привязки цены с конкретными покупками, поэтому будем оперировать медианной ценой на каждый товар из таблицы `price`. Медиана более обоснована, чем среднее арифметическое, потому что даже по 20 первым товарам мы видим достаточно сильный разброс и выбросы (например, товар `M` имеет медиану 12.75 при среднем в 253.77 и максимуме в 1715.85)."
   ]
  },
  {
   "cell_type": "markdown",
   "metadata": {},
   "source": [
    "### Обработка пропусков"
   ]
  },
  {
   "cell_type": "markdown",
   "metadata": {},
   "source": [
    "Учитывая, что пропуски есть только в одном столбце, - с ID пользователя, можно предположить два объяснения их появления: либо это результат технического сбоя, либо покупки неиндентифицированных пользователей. Скорее всего, в первом случае они были бы как-то характерно распределены по магазинам и по времени (например, если сбой был в течение некоторого периода). Во втором случае ни один пользователь без ID не должен быть обозначен как участник программы лояльности. Проверим эти предположения."
   ]
  },
  {
   "cell_type": "code",
   "execution_count": 16,
   "metadata": {},
   "outputs": [
    {
     "data": {
      "text/html": [
       "<div>\n",
       "<style scoped>\n",
       "    .dataframe tbody tr th:only-of-type {\n",
       "        vertical-align: middle;\n",
       "    }\n",
       "\n",
       "    .dataframe tbody tr th {\n",
       "        vertical-align: top;\n",
       "    }\n",
       "\n",
       "    .dataframe thead th {\n",
       "        text-align: right;\n",
       "    }\n",
       "</style>\n",
       "<table border=\"1\" class=\"dataframe\">\n",
       "  <thead>\n",
       "    <tr style=\"text-align: right;\">\n",
       "      <th></th>\n",
       "      <th>purchase_id</th>\n",
       "      <th>item_id</th>\n",
       "      <th>quantity</th>\n",
       "      <th>purchase_dt</th>\n",
       "      <th>customer_id</th>\n",
       "      <th>shop_id</th>\n",
       "      <th>is_loyal</th>\n",
       "    </tr>\n",
       "  </thead>\n",
       "  <tbody>\n",
       "    <tr>\n",
       "      <th>6</th>\n",
       "      <td>540468</td>\n",
       "      <td>22189</td>\n",
       "      <td>0</td>\n",
       "      <td>2017-01-07 13:55:00</td>\n",
       "      <td>NaN</td>\n",
       "      <td>Shop 0</td>\n",
       "      <td>0.0</td>\n",
       "    </tr>\n",
       "    <tr>\n",
       "      <th>7</th>\n",
       "      <td>541424</td>\n",
       "      <td>79321</td>\n",
       "      <td>1</td>\n",
       "      <td>2017-01-17 17:57:00</td>\n",
       "      <td>NaN</td>\n",
       "      <td>Shop 0</td>\n",
       "      <td>0.0</td>\n",
       "    </tr>\n",
       "    <tr>\n",
       "      <th>8</th>\n",
       "      <td>538883</td>\n",
       "      <td>22891</td>\n",
       "      <td>0</td>\n",
       "      <td>2016-12-14 15:56:00</td>\n",
       "      <td>NaN</td>\n",
       "      <td>Shop 0</td>\n",
       "      <td>0.0</td>\n",
       "    </tr>\n",
       "    <tr>\n",
       "      <th>11</th>\n",
       "      <td>541696</td>\n",
       "      <td>22197</td>\n",
       "      <td>4</td>\n",
       "      <td>2017-01-20 18:08:00</td>\n",
       "      <td>NaN</td>\n",
       "      <td>Shop 0</td>\n",
       "      <td>0.0</td>\n",
       "    </tr>\n",
       "    <tr>\n",
       "      <th>16</th>\n",
       "      <td>539744</td>\n",
       "      <td>22300</td>\n",
       "      <td>5</td>\n",
       "      <td>2016-12-21 15:21:00</td>\n",
       "      <td>NaN</td>\n",
       "      <td>Shop 0</td>\n",
       "      <td>0.0</td>\n",
       "    </tr>\n",
       "  </tbody>\n",
       "</table>\n",
       "</div>"
      ],
      "text/plain": [
       "   purchase_id item_id  quantity          purchase_dt  customer_id shop_id  \\\n",
       "6       540468   22189         0  2017-01-07 13:55:00          NaN  Shop 0   \n",
       "7       541424   79321         1  2017-01-17 17:57:00          NaN  Shop 0   \n",
       "8       538883   22891         0  2016-12-14 15:56:00          NaN  Shop 0   \n",
       "11      541696   22197         4  2017-01-20 18:08:00          NaN  Shop 0   \n",
       "16      539744   22300         5  2016-12-21 15:21:00          NaN  Shop 0   \n",
       "\n",
       "    is_loyal  \n",
       "6        0.0  \n",
       "7        0.0  \n",
       "8        0.0  \n",
       "11       0.0  \n",
       "16       0.0  "
      ]
     },
     "execution_count": 16,
     "metadata": {},
     "output_type": "execute_result"
    }
   ],
   "source": [
    "retail_data[retail_data['customer_id'].isnull()].head()"
   ]
  },
  {
   "cell_type": "code",
   "execution_count": 17,
   "metadata": {
    "scrolled": false
   },
   "outputs": [
    {
     "data": {
      "text/html": [
       "<div>\n",
       "<style scoped>\n",
       "    .dataframe tbody tr th:only-of-type {\n",
       "        vertical-align: middle;\n",
       "    }\n",
       "\n",
       "    .dataframe tbody tr th {\n",
       "        vertical-align: top;\n",
       "    }\n",
       "\n",
       "    .dataframe thead th {\n",
       "        text-align: right;\n",
       "    }\n",
       "</style>\n",
       "<table border=\"1\" class=\"dataframe\">\n",
       "  <thead>\n",
       "    <tr style=\"text-align: right;\">\n",
       "      <th></th>\n",
       "      <th>item_id</th>\n",
       "    </tr>\n",
       "    <tr>\n",
       "      <th>shop_id</th>\n",
       "      <th></th>\n",
       "    </tr>\n",
       "  </thead>\n",
       "  <tbody>\n",
       "    <tr>\n",
       "      <th>Shop 0</th>\n",
       "      <td>96370</td>\n",
       "    </tr>\n",
       "    <tr>\n",
       "      <th>Shop 4</th>\n",
       "      <td>1739</td>\n",
       "    </tr>\n",
       "    <tr>\n",
       "      <th>Shop 1</th>\n",
       "      <td>1540</td>\n",
       "    </tr>\n",
       "    <tr>\n",
       "      <th>Shop 6</th>\n",
       "      <td>1030</td>\n",
       "    </tr>\n",
       "    <tr>\n",
       "      <th>Shop 8</th>\n",
       "      <td>560</td>\n",
       "    </tr>\n",
       "    <tr>\n",
       "      <th>Shop 3</th>\n",
       "      <td>492</td>\n",
       "    </tr>\n",
       "    <tr>\n",
       "      <th>Shop 7</th>\n",
       "      <td>312</td>\n",
       "    </tr>\n",
       "    <tr>\n",
       "      <th>Shop 10</th>\n",
       "      <td>299</td>\n",
       "    </tr>\n",
       "    <tr>\n",
       "      <th>Shop 12</th>\n",
       "      <td>278</td>\n",
       "    </tr>\n",
       "    <tr>\n",
       "      <th>Shop 18</th>\n",
       "      <td>255</td>\n",
       "    </tr>\n",
       "    <tr>\n",
       "      <th>Shop 2</th>\n",
       "      <td>252</td>\n",
       "    </tr>\n",
       "    <tr>\n",
       "      <th>Shop 5</th>\n",
       "      <td>179</td>\n",
       "    </tr>\n",
       "    <tr>\n",
       "      <th>Shop 11</th>\n",
       "      <td>169</td>\n",
       "    </tr>\n",
       "    <tr>\n",
       "      <th>Shop 14</th>\n",
       "      <td>154</td>\n",
       "    </tr>\n",
       "    <tr>\n",
       "      <th>Shop 19</th>\n",
       "      <td>74</td>\n",
       "    </tr>\n",
       "    <tr>\n",
       "      <th>Shop 9</th>\n",
       "      <td>61</td>\n",
       "    </tr>\n",
       "    <tr>\n",
       "      <th>Shop 15</th>\n",
       "      <td>60</td>\n",
       "    </tr>\n",
       "    <tr>\n",
       "      <th>Shop 16</th>\n",
       "      <td>59</td>\n",
       "    </tr>\n",
       "    <tr>\n",
       "      <th>Shop 26</th>\n",
       "      <td>56</td>\n",
       "    </tr>\n",
       "    <tr>\n",
       "      <th>Shop 25</th>\n",
       "      <td>53</td>\n",
       "    </tr>\n",
       "    <tr>\n",
       "      <th>Shop 27</th>\n",
       "      <td>45</td>\n",
       "    </tr>\n",
       "    <tr>\n",
       "      <th>Shop 17</th>\n",
       "      <td>40</td>\n",
       "    </tr>\n",
       "    <tr>\n",
       "      <th>Shop 22</th>\n",
       "      <td>40</td>\n",
       "    </tr>\n",
       "    <tr>\n",
       "      <th>Shop 13</th>\n",
       "      <td>35</td>\n",
       "    </tr>\n",
       "    <tr>\n",
       "      <th>Shop 24</th>\n",
       "      <td>32</td>\n",
       "    </tr>\n",
       "    <tr>\n",
       "      <th>Shop 21</th>\n",
       "      <td>32</td>\n",
       "    </tr>\n",
       "    <tr>\n",
       "      <th>Shop 28</th>\n",
       "      <td>30</td>\n",
       "    </tr>\n",
       "    <tr>\n",
       "      <th>Shop 20</th>\n",
       "      <td>30</td>\n",
       "    </tr>\n",
       "    <tr>\n",
       "      <th>Shop 30</th>\n",
       "      <td>15</td>\n",
       "    </tr>\n",
       "    <tr>\n",
       "      <th>Shop 29</th>\n",
       "      <td>9</td>\n",
       "    </tr>\n",
       "    <tr>\n",
       "      <th>Shop 23</th>\n",
       "      <td>2</td>\n",
       "    </tr>\n",
       "  </tbody>\n",
       "</table>\n",
       "</div>"
      ],
      "text/plain": [
       "         item_id\n",
       "shop_id         \n",
       "Shop 0     96370\n",
       "Shop 4      1739\n",
       "Shop 1      1540\n",
       "Shop 6      1030\n",
       "Shop 8       560\n",
       "Shop 3       492\n",
       "Shop 7       312\n",
       "Shop 10      299\n",
       "Shop 12      278\n",
       "Shop 18      255\n",
       "Shop 2       252\n",
       "Shop 5       179\n",
       "Shop 11      169\n",
       "Shop 14      154\n",
       "Shop 19       74\n",
       "Shop 9        61\n",
       "Shop 15       60\n",
       "Shop 16       59\n",
       "Shop 26       56\n",
       "Shop 25       53\n",
       "Shop 27       45\n",
       "Shop 17       40\n",
       "Shop 22       40\n",
       "Shop 13       35\n",
       "Shop 24       32\n",
       "Shop 21       32\n",
       "Shop 28       30\n",
       "Shop 20       30\n",
       "Shop 30       15\n",
       "Shop 29        9\n",
       "Shop 23        2"
      ]
     },
     "execution_count": 17,
     "metadata": {},
     "output_type": "execute_result"
    }
   ],
   "source": [
    "retail_data.groupby('shop_id').agg({'item_id': 'count'}).sort_values(by='item_id', ascending=False)"
   ]
  },
  {
   "cell_type": "code",
   "execution_count": 18,
   "metadata": {},
   "outputs": [
    {
     "data": {
      "text/html": [
       "<div>\n",
       "<style scoped>\n",
       "    .dataframe tbody tr th:only-of-type {\n",
       "        vertical-align: middle;\n",
       "    }\n",
       "\n",
       "    .dataframe tbody tr th {\n",
       "        vertical-align: top;\n",
       "    }\n",
       "\n",
       "    .dataframe thead th {\n",
       "        text-align: right;\n",
       "    }\n",
       "</style>\n",
       "<table border=\"1\" class=\"dataframe\">\n",
       "  <thead>\n",
       "    <tr style=\"text-align: right;\">\n",
       "      <th></th>\n",
       "      <th>item_id</th>\n",
       "    </tr>\n",
       "    <tr>\n",
       "      <th>shop_id</th>\n",
       "      <th></th>\n",
       "    </tr>\n",
       "  </thead>\n",
       "  <tbody>\n",
       "    <tr>\n",
       "      <th>Shop 0</th>\n",
       "      <td>35952</td>\n",
       "    </tr>\n",
       "    <tr>\n",
       "      <th>Shop 6</th>\n",
       "      <td>127</td>\n",
       "    </tr>\n",
       "    <tr>\n",
       "      <th>Shop 25</th>\n",
       "      <td>53</td>\n",
       "    </tr>\n",
       "    <tr>\n",
       "      <th>Shop 21</th>\n",
       "      <td>14</td>\n",
       "    </tr>\n",
       "    <tr>\n",
       "      <th>Shop 23</th>\n",
       "      <td>2</td>\n",
       "    </tr>\n",
       "  </tbody>\n",
       "</table>\n",
       "</div>"
      ],
      "text/plain": [
       "         item_id\n",
       "shop_id         \n",
       "Shop 0     35952\n",
       "Shop 6       127\n",
       "Shop 25       53\n",
       "Shop 21       14\n",
       "Shop 23        2"
      ]
     },
     "execution_count": 18,
     "metadata": {},
     "output_type": "execute_result"
    }
   ],
   "source": [
    "retail_data[retail_data['customer_id'].isnull()]\\\n",
    "                        .groupby('shop_id').agg({'item_id': 'count'}).sort_values(by='item_id', ascending=False)"
   ]
  },
  {
   "cell_type": "code",
   "execution_count": 19,
   "metadata": {},
   "outputs": [],
   "source": [
    "# создаем столбцы с датой и временем\n",
    "retail_data['purchase_dt'] = pd.to_datetime(retail_data['purchase_dt'])\n",
    "retail_data['date'] = retail_data['purchase_dt'].dt.date\n",
    "retail_data['hour'] = retail_data['purchase_dt'].dt.hour\n",
    "retail_data['dow'] = retail_data['purchase_dt'].dt.dayofweek"
   ]
  },
  {
   "cell_type": "code",
   "execution_count": 20,
   "metadata": {},
   "outputs": [
    {
     "data": {
      "image/png": "[encoded data removed]",
      "text/plain": [
       "<Figure size 864x648 with 1 Axes>"
      ]
     },
     "metadata": {},
     "output_type": "display_data"
    }
   ],
   "source": [
    "retail_data[retail_data['customer_id'].isnull()].groupby('date').agg({'item_id': 'count'})\\\n",
    "                        .plot(title='Распределение пропусков ID пользователей во времени', legend=False)\n",
    "plt.xlabel('Дата')\n",
    "plt.ylabel('Число пропусков')\n",
    "plt.legend\n",
    "plt.show()"
   ]
  },
  {
   "cell_type": "markdown",
   "metadata": {},
   "source": [
    "Во-первых, заметим, что у нас очень неравномерное распределение данных по магазинам - больше трех четвертей датасета относятся к одному Shop 0. Мы подробнее исследуем этот факт далее, в ходе EDA. Во-вторых, в этом же магазине большая часть пропусков. Причем на пропуски приходится окло 40% всех товаров, купленных в этом магазине. В-третьих, распределение пропусков во времени не похоже на временный сбой - хначительные колебания от нуля до нескольких сотен значений наблюдаются в течение всего периода. Также, судя по графику, у нас нет данных для нескольких дней около Нового года - на это также обратим внимание в ходе EDA. В целом, эти пропуски не выглядят случайными, скорее, это какая-то особенность продаж в Shop 0 и некоторых других магазинах. Проверим, как пропуски соотносятся с программой лояльности."
   ]
  },
  {
   "cell_type": "code",
   "execution_count": 21,
   "metadata": {},
   "outputs": [
    {
     "data": {
      "text/html": [
       "<div>\n",
       "<style scoped>\n",
       "    .dataframe tbody tr th:only-of-type {\n",
       "        vertical-align: middle;\n",
       "    }\n",
       "\n",
       "    .dataframe tbody tr th {\n",
       "        vertical-align: top;\n",
       "    }\n",
       "\n",
       "    .dataframe thead th {\n",
       "        text-align: right;\n",
       "    }\n",
       "</style>\n",
       "<table border=\"1\" class=\"dataframe\">\n",
       "  <thead>\n",
       "    <tr style=\"text-align: right;\">\n",
       "      <th></th>\n",
       "      <th>item_id</th>\n",
       "    </tr>\n",
       "    <tr>\n",
       "      <th>is_loyal</th>\n",
       "      <th></th>\n",
       "    </tr>\n",
       "  </thead>\n",
       "  <tbody>\n",
       "    <tr>\n",
       "      <th>0.0</th>\n",
       "      <td>36148</td>\n",
       "    </tr>\n",
       "  </tbody>\n",
       "</table>\n",
       "</div>"
      ],
      "text/plain": [
       "          item_id\n",
       "is_loyal         \n",
       "0.0         36148"
      ]
     },
     "execution_count": 21,
     "metadata": {},
     "output_type": "execute_result"
    }
   ],
   "source": [
    "retail_data[retail_data['customer_id'].isnull()].groupby('is_loyal').agg({'item_id': 'count'})"
   ]
  },
  {
   "cell_type": "markdown",
   "metadata": {},
   "source": [
    "Ни один пользователь с неизвестным ID не является участником программы лояльности. Проверим, есть ли покупки, совершенные в одно время пользователями с ID и без ID."
   ]
  },
  {
   "cell_type": "code",
   "execution_count": 22,
   "metadata": {},
   "outputs": [
    {
     "name": "stdout",
     "output_type": "stream",
     "text": [
      "(64, 3)\n"
     ]
    },
    {
     "data": {
      "text/html": [
       "<div>\n",
       "<style scoped>\n",
       "    .dataframe tbody tr th:only-of-type {\n",
       "        vertical-align: middle;\n",
       "    }\n",
       "\n",
       "    .dataframe tbody tr th {\n",
       "        vertical-align: top;\n",
       "    }\n",
       "\n",
       "    .dataframe thead th {\n",
       "        text-align: right;\n",
       "    }\n",
       "</style>\n",
       "<table border=\"1\" class=\"dataframe\">\n",
       "  <thead>\n",
       "    <tr style=\"text-align: right;\">\n",
       "      <th></th>\n",
       "      <th>purchase_dt</th>\n",
       "      <th>item_id_x</th>\n",
       "      <th>item_id_y</th>\n",
       "    </tr>\n",
       "  </thead>\n",
       "  <tbody>\n",
       "    <tr>\n",
       "      <th>0</th>\n",
       "      <td>2016-12-01 14:33:00</td>\n",
       "      <td>14</td>\n",
       "      <td>2</td>\n",
       "    </tr>\n",
       "    <tr>\n",
       "      <th>1</th>\n",
       "      <td>2016-12-01 14:34:00</td>\n",
       "      <td>31</td>\n",
       "      <td>3</td>\n",
       "    </tr>\n",
       "    <tr>\n",
       "      <th>2</th>\n",
       "      <td>2016-12-02 11:45:00</td>\n",
       "      <td>16</td>\n",
       "      <td>11</td>\n",
       "    </tr>\n",
       "    <tr>\n",
       "      <th>3</th>\n",
       "      <td>2016-12-02 14:23:00</td>\n",
       "      <td>1</td>\n",
       "      <td>19</td>\n",
       "    </tr>\n",
       "    <tr>\n",
       "      <th>4</th>\n",
       "      <td>2016-12-02 14:42:00</td>\n",
       "      <td>12</td>\n",
       "      <td>1</td>\n",
       "    </tr>\n",
       "  </tbody>\n",
       "</table>\n",
       "</div>"
      ],
      "text/plain": [
       "          purchase_dt  item_id_x  item_id_y\n",
       "0 2016-12-01 14:33:00         14          2\n",
       "1 2016-12-01 14:34:00         31          3\n",
       "2 2016-12-02 11:45:00         16         11\n",
       "3 2016-12-02 14:23:00          1         19\n",
       "4 2016-12-02 14:42:00         12          1"
      ]
     },
     "execution_count": 22,
     "metadata": {},
     "output_type": "execute_result"
    }
   ],
   "source": [
    "same_time = retail_data[~retail_data['customer_id'].isnull()].groupby('purchase_dt', as_index=False).agg({'item_id': 'count'})\\\n",
    "    .merge(retail_data[retail_data['customer_id'].isnull()].groupby('purchase_dt', as_index=False).agg({'item_id': 'count'}),\n",
    "          on='purchase_dt')\n",
    "\n",
    "print(same_time.shape)\n",
    "same_time.head()"
   ]
  },
  {
   "cell_type": "code",
   "execution_count": 23,
   "metadata": {},
   "outputs": [
    {
     "name": "stdout",
     "output_type": "stream",
     "text": [
      "\n",
      "Число товарных позиций, купленных пользователями с ID и без ID в одно время: \n",
      "994 и 1492\n",
      "\n"
     ]
    }
   ],
   "source": [
    "print(f'''\n",
    "Число товарных позиций, купленных пользователями с ID и без ID в одно время: \n",
    "{np.sum(same_time['item_id_x'])} и {np.sum(same_time['item_id_y'])}\n",
    "''')"
   ]
  },
  {
   "cell_type": "markdown",
   "metadata": {},
   "source": [
    "Если бы у нас были данные об очень большом числе покупок, совершенных пользователями с ID и без ID в одно и то же время, то мы могли бы предположить, что одни и те же чеки по какой-то причине не были полностью \"записаны\" на пользователя. Однако их число относительно невелико - оно вполне может объясняться одновременными покупками.  \n",
    "Таким образом, мы считаем, что покупки без ID покупателя - это какая-то особенность нашего бизнеса, например, продажи людям \"с улицы\". Отбрасывать их совсем нельзя - это очень большая часть данных, следовательно, их надо заполнять. Можно предложить несколько вариантов заполнения:\n",
    "1. Заполнить их все одним условным значением. Это вариант плох тем, что мы, по сути, получим одного \"суперпокупателя\", которого не сможем учитывать в дальнейших агрегированных расчетах (например, для расчета среднего чека);\n",
    "2. Заполнить их все разными условными значениями. Этот вариант плох по той же причине - у нас получится множество мелких покупателей, которые также не будут вписываться в общие расчеты;\n",
    "3. Агрегировать покупки с неизвестным ID по времени и для каждой временной отметки ввести свое условное значение.  \n",
    "\n",
    "Посмотрим, как третий вариант отразится на данных. Для этого рассчитаем число товарных позиций в чеках известных пользователей и для каждой временной отметки у неизвестных и сравним значения."
   ]
  },
  {
   "cell_type": "code",
   "execution_count": 24,
   "metadata": {
    "scrolled": false
   },
   "outputs": [
    {
     "name": "stdout",
     "output_type": "stream",
     "text": [
      "Известные ID\n"
     ]
    },
    {
     "data": {
      "text/html": [
       "<div>\n",
       "<style scoped>\n",
       "    .dataframe tbody tr th:only-of-type {\n",
       "        vertical-align: middle;\n",
       "    }\n",
       "\n",
       "    .dataframe tbody tr th {\n",
       "        vertical-align: top;\n",
       "    }\n",
       "\n",
       "    .dataframe thead th {\n",
       "        text-align: right;\n",
       "    }\n",
       "</style>\n",
       "<table border=\"1\" class=\"dataframe\">\n",
       "  <thead>\n",
       "    <tr style=\"text-align: right;\">\n",
       "      <th></th>\n",
       "      <th></th>\n",
       "      <th>item_id</th>\n",
       "    </tr>\n",
       "    <tr>\n",
       "      <th>customer_id</th>\n",
       "      <th>purchase_dt</th>\n",
       "      <th></th>\n",
       "    </tr>\n",
       "  </thead>\n",
       "  <tbody>\n",
       "    <tr>\n",
       "      <th>23016.0</th>\n",
       "      <th>2017-02-02 17:06:00</th>\n",
       "      <td>244</td>\n",
       "    </tr>\n",
       "    <tr>\n",
       "      <th>18760.0</th>\n",
       "      <th>2017-01-06 16:41:00</th>\n",
       "      <td>171</td>\n",
       "    </tr>\n",
       "    <tr>\n",
       "      <th>21143.0</th>\n",
       "      <th>2017-01-05 15:56:00</th>\n",
       "      <td>155</td>\n",
       "    </tr>\n",
       "    <tr>\n",
       "      <th>18853.0</th>\n",
       "      <th>2016-12-05 16:24:00</th>\n",
       "      <td>152</td>\n",
       "    </tr>\n",
       "    <tr>\n",
       "      <th>18180.0</th>\n",
       "      <th>2017-01-07 12:28:00</th>\n",
       "      <td>149</td>\n",
       "    </tr>\n",
       "  </tbody>\n",
       "</table>\n",
       "</div>"
      ],
      "text/plain": [
       "                                 item_id\n",
       "customer_id purchase_dt                 \n",
       "23016.0     2017-02-02 17:06:00      244\n",
       "18760.0     2017-01-06 16:41:00      171\n",
       "21143.0     2017-01-05 15:56:00      155\n",
       "18853.0     2016-12-05 16:24:00      152\n",
       "18180.0     2017-01-07 12:28:00      149"
      ]
     },
     "metadata": {},
     "output_type": "display_data"
    },
    {
     "data": {
      "text/html": [
       "<div>\n",
       "<style scoped>\n",
       "    .dataframe tbody tr th:only-of-type {\n",
       "        vertical-align: middle;\n",
       "    }\n",
       "\n",
       "    .dataframe tbody tr th {\n",
       "        vertical-align: top;\n",
       "    }\n",
       "\n",
       "    .dataframe thead th {\n",
       "        text-align: right;\n",
       "    }\n",
       "</style>\n",
       "<table border=\"1\" class=\"dataframe\">\n",
       "  <thead>\n",
       "    <tr style=\"text-align: right;\">\n",
       "      <th></th>\n",
       "      <th>item_id</th>\n",
       "    </tr>\n",
       "  </thead>\n",
       "  <tbody>\n",
       "    <tr>\n",
       "      <th>count</th>\n",
       "      <td>4121.000000</td>\n",
       "    </tr>\n",
       "    <tr>\n",
       "      <th>mean</th>\n",
       "      <td>16.538219</td>\n",
       "    </tr>\n",
       "    <tr>\n",
       "      <th>std</th>\n",
       "      <td>19.069216</td>\n",
       "    </tr>\n",
       "    <tr>\n",
       "      <th>min</th>\n",
       "      <td>1.000000</td>\n",
       "    </tr>\n",
       "    <tr>\n",
       "      <th>25%</th>\n",
       "      <td>3.000000</td>\n",
       "    </tr>\n",
       "    <tr>\n",
       "      <th>50%</th>\n",
       "      <td>11.000000</td>\n",
       "    </tr>\n",
       "    <tr>\n",
       "      <th>75%</th>\n",
       "      <td>22.000000</td>\n",
       "    </tr>\n",
       "    <tr>\n",
       "      <th>max</th>\n",
       "      <td>244.000000</td>\n",
       "    </tr>\n",
       "  </tbody>\n",
       "</table>\n",
       "</div>"
      ],
      "text/plain": [
       "           item_id\n",
       "count  4121.000000\n",
       "mean     16.538219\n",
       "std      19.069216\n",
       "min       1.000000\n",
       "25%       3.000000\n",
       "50%      11.000000\n",
       "75%      22.000000\n",
       "max     244.000000"
      ]
     },
     "metadata": {},
     "output_type": "display_data"
    },
    {
     "name": "stdout",
     "output_type": "stream",
     "text": [
      "\n",
      "Неизвестные ID\n"
     ]
    },
    {
     "data": {
      "text/html": [
       "<div>\n",
       "<style scoped>\n",
       "    .dataframe tbody tr th:only-of-type {\n",
       "        vertical-align: middle;\n",
       "    }\n",
       "\n",
       "    .dataframe tbody tr th {\n",
       "        vertical-align: top;\n",
       "    }\n",
       "\n",
       "    .dataframe thead th {\n",
       "        text-align: right;\n",
       "    }\n",
       "</style>\n",
       "<table border=\"1\" class=\"dataframe\">\n",
       "  <thead>\n",
       "    <tr style=\"text-align: right;\">\n",
       "      <th></th>\n",
       "      <th></th>\n",
       "      <th>item_id</th>\n",
       "    </tr>\n",
       "    <tr>\n",
       "      <th>shop_id</th>\n",
       "      <th>purchase_dt</th>\n",
       "      <th></th>\n",
       "    </tr>\n",
       "  </thead>\n",
       "  <tbody>\n",
       "    <tr>\n",
       "      <th rowspan=\"5\" valign=\"top\">Shop 0</th>\n",
       "      <th>2016-12-06 16:57:00</th>\n",
       "      <td>675</td>\n",
       "    </tr>\n",
       "    <tr>\n",
       "      <th>2016-12-09 14:09:00</th>\n",
       "      <td>651</td>\n",
       "    </tr>\n",
       "    <tr>\n",
       "      <th>2016-12-10 14:59:00</th>\n",
       "      <td>614</td>\n",
       "    </tr>\n",
       "    <tr>\n",
       "      <th>2016-12-07 15:28:00</th>\n",
       "      <td>601</td>\n",
       "    </tr>\n",
       "    <tr>\n",
       "      <th>2016-12-06 09:58:00</th>\n",
       "      <td>597</td>\n",
       "    </tr>\n",
       "  </tbody>\n",
       "</table>\n",
       "</div>"
      ],
      "text/plain": [
       "                             item_id\n",
       "shop_id purchase_dt                 \n",
       "Shop 0  2016-12-06 16:57:00      675\n",
       "        2016-12-09 14:09:00      651\n",
       "        2016-12-10 14:59:00      614\n",
       "        2016-12-07 15:28:00      601\n",
       "        2016-12-06 09:58:00      597"
      ]
     },
     "metadata": {},
     "output_type": "display_data"
    },
    {
     "data": {
      "text/html": [
       "<div>\n",
       "<style scoped>\n",
       "    .dataframe tbody tr th:only-of-type {\n",
       "        vertical-align: middle;\n",
       "    }\n",
       "\n",
       "    .dataframe tbody tr th {\n",
       "        vertical-align: top;\n",
       "    }\n",
       "\n",
       "    .dataframe thead th {\n",
       "        text-align: right;\n",
       "    }\n",
       "</style>\n",
       "<table border=\"1\" class=\"dataframe\">\n",
       "  <thead>\n",
       "    <tr style=\"text-align: right;\">\n",
       "      <th></th>\n",
       "      <th>item_id</th>\n",
       "    </tr>\n",
       "  </thead>\n",
       "  <tbody>\n",
       "    <tr>\n",
       "      <th>count</th>\n",
       "      <td>629.000000</td>\n",
       "    </tr>\n",
       "    <tr>\n",
       "      <th>mean</th>\n",
       "      <td>57.468998</td>\n",
       "    </tr>\n",
       "    <tr>\n",
       "      <th>std</th>\n",
       "      <td>123.472944</td>\n",
       "    </tr>\n",
       "    <tr>\n",
       "      <th>min</th>\n",
       "      <td>1.000000</td>\n",
       "    </tr>\n",
       "    <tr>\n",
       "      <th>25%</th>\n",
       "      <td>1.000000</td>\n",
       "    </tr>\n",
       "    <tr>\n",
       "      <th>50%</th>\n",
       "      <td>2.000000</td>\n",
       "    </tr>\n",
       "    <tr>\n",
       "      <th>75%</th>\n",
       "      <td>48.000000</td>\n",
       "    </tr>\n",
       "    <tr>\n",
       "      <th>max</th>\n",
       "      <td>675.000000</td>\n",
       "    </tr>\n",
       "  </tbody>\n",
       "</table>\n",
       "</div>"
      ],
      "text/plain": [
       "          item_id\n",
       "count  629.000000\n",
       "mean    57.468998\n",
       "std    123.472944\n",
       "min      1.000000\n",
       "25%      1.000000\n",
       "50%      2.000000\n",
       "75%     48.000000\n",
       "max    675.000000"
      ]
     },
     "metadata": {},
     "output_type": "display_data"
    }
   ],
   "source": [
    "id_checks = retail_data[~retail_data['customer_id'].isnull()].groupby(['customer_id', 'purchase_dt'])\\\n",
    "                        .agg({'item_id': 'count'}).sort_values('item_id', ascending=False)\n",
    "no_id_checks = retail_data[retail_data['customer_id'].isnull()].groupby(['shop_id', 'purchase_dt'])\\\n",
    "                .agg({'item_id': 'count'}).sort_values('item_id', ascending=False)\n",
    "    \n",
    "\n",
    "print('Известные ID')\n",
    "display(id_checks.head())\n",
    "display(id_checks.describe())\n",
    "print()\n",
    "print('Неизвестные ID')\n",
    "display(no_id_checks.head())\n",
    "display(no_id_checks.describe())"
   ]
  },
  {
   "cell_type": "markdown",
   "metadata": {},
   "source": [
    "Как видно, третий путь тоже плох: в одну временную отметку совершается много покупок и мы рискуем добавить несколько \"суперпользователей\".  \n",
    "Этот способ можно модифицировать, если вводить \"условного пользователя\" не для каждой временной отметки, а для каких-то более мелких групп, например, приписывать один ID на каждые 11 товарных позиций (медианное значение для известных пользователей). Мы можем рассчитывать, что таким образом получим суммы наших \"искусственных\" чеков, не сильно отдаленные от средних значений тех данных, которые у нас есть. Чтобы иметь возможность быстро отсеить \"искусственные\" ID, зададим их в виде `new00000`. Также заменим тип данных в столбце `customer_id` на `str`."
   ]
  },
  {
   "cell_type": "code",
   "execution_count": 25,
   "metadata": {},
   "outputs": [],
   "source": [
    "split_number = np.ceil(len(retail_data[retail_data['customer_id'].isnull()]) / id_checks.median())\n",
    "split_by_average_check = np.array_split(retail_data[retail_data['customer_id'].isnull()], 3500, axis=0)\n",
    "\n",
    "for counter, df in enumerate(split_by_average_check):\n",
    "    new_id = 'new' + str(counter).zfill(5)\n",
    "    df.fillna(value=new_id, inplace=True) \n",
    "\n",
    "id_filled = pd.concat(split_by_average_check)"
   ]
  },
  {
   "cell_type": "code",
   "execution_count": 26,
   "metadata": {},
   "outputs": [],
   "source": [
    "id_given = retail_data[~retail_data['customer_id'].isnull()]\n",
    "id_given['customer_id'] = id_given['customer_id'].astype(int).astype(str)\n",
    "data = pd.concat([id_filled, retail_data[~retail_data['customer_id'].isnull()]])\n",
    "data.sort_index(inplace=True)"
   ]
  },
  {
   "cell_type": "code",
   "execution_count": 27,
   "metadata": {},
   "outputs": [
    {
     "name": "stdout",
     "output_type": "stream",
     "text": [
      "<class 'pandas.core.frame.DataFrame'>\n",
      "Int64Index: 104302 entries, 0 to 105334\n",
      "Data columns (total 10 columns):\n",
      " #   Column       Non-Null Count   Dtype         \n",
      "---  ------       --------------   -----         \n",
      " 0   purchase_id  104302 non-null  object        \n",
      " 1   item_id      104302 non-null  object        \n",
      " 2   quantity     104302 non-null  int64         \n",
      " 3   purchase_dt  104302 non-null  datetime64[ns]\n",
      " 4   customer_id  104302 non-null  object        \n",
      " 5   shop_id      104302 non-null  object        \n",
      " 6   is_loyal     104302 non-null  float64       \n",
      " 7   date         104302 non-null  object        \n",
      " 8   hour         104302 non-null  int64         \n",
      " 9   dow          104302 non-null  int64         \n",
      "dtypes: datetime64[ns](1), float64(1), int64(3), object(5)\n",
      "memory usage: 8.8+ MB\n"
     ]
    }
   ],
   "source": [
    "data.info()"
   ]
  },
  {
   "cell_type": "markdown",
   "metadata": {},
   "source": [
    "Пропуски заполнены, однако надо иметь в виду, что показатели для \"искусственных\" пользователей могут отличаться от цифр для известных пользователей. В дальнейшем можно будет проверить качество заполнения по сумме чеков. Далее мы будем работать с датафреймом `data`."
   ]
  },
  {
   "cell_type": "markdown",
   "metadata": {},
   "source": [
    "### Обработка нулей и отрицательных значений"
   ]
  },
  {
   "cell_type": "markdown",
   "metadata": {},
   "source": [
    "В столбце `quantity` есть отрицательные и нулевые значения, противоречащие логике задачи. Попробуем их интерпретировать."
   ]
  },
  {
   "cell_type": "code",
   "execution_count": 28,
   "metadata": {
    "scrolled": true
   },
   "outputs": [
    {
     "name": "stdout",
     "output_type": "stream",
     "text": [
      "\n",
      "Число отрицательных значений: 2076\n",
      "Число нулевых значений: 32362\n",
      "\n"
     ]
    }
   ],
   "source": [
    "print(f'''\n",
    "Число отрицательных значений: {data[data['quantity'] < 0]['purchase_id'].count()}\n",
    "Число нулевых значений: {data[data['quantity'] == 0]['purchase_id'].count()}\n",
    "''')"
   ]
  },
  {
   "cell_type": "code",
   "execution_count": 29,
   "metadata": {},
   "outputs": [
    {
     "data": {
      "text/plain": [
       "count    104302.000000\n",
       "mean          7.883003\n",
       "std         329.565540\n",
       "min      -74216.000000\n",
       "25%           0.000000\n",
       "50%           2.000000\n",
       "75%           7.000000\n",
       "max       74214.000000\n",
       "Name: quantity, dtype: float64"
      ]
     },
     "execution_count": 29,
     "metadata": {},
     "output_type": "execute_result"
    }
   ],
   "source": [
    "data['quantity'].describe()"
   ]
  },
  {
   "cell_type": "code",
   "execution_count": 30,
   "metadata": {},
   "outputs": [
    {
     "data": {
      "text/html": [
       "<div>\n",
       "<style scoped>\n",
       "    .dataframe tbody tr th:only-of-type {\n",
       "        vertical-align: middle;\n",
       "    }\n",
       "\n",
       "    .dataframe tbody tr th {\n",
       "        vertical-align: top;\n",
       "    }\n",
       "\n",
       "    .dataframe thead th {\n",
       "        text-align: right;\n",
       "    }\n",
       "</style>\n",
       "<table border=\"1\" class=\"dataframe\">\n",
       "  <thead>\n",
       "    <tr style=\"text-align: right;\">\n",
       "      <th></th>\n",
       "      <th>purchase_id</th>\n",
       "      <th>item_id</th>\n",
       "      <th>quantity</th>\n",
       "      <th>purchase_dt</th>\n",
       "      <th>customer_id</th>\n",
       "      <th>shop_id</th>\n",
       "      <th>is_loyal</th>\n",
       "      <th>date</th>\n",
       "      <th>hour</th>\n",
       "      <th>dow</th>\n",
       "    </tr>\n",
       "  </thead>\n",
       "  <tbody>\n",
       "    <tr>\n",
       "      <th>49411</th>\n",
       "      <td>C541433</td>\n",
       "      <td>23166</td>\n",
       "      <td>-74216</td>\n",
       "      <td>2017-01-18 10:17:00</td>\n",
       "      <td>18025.0</td>\n",
       "      <td>Shop 0</td>\n",
       "      <td>0.0</td>\n",
       "      <td>2017-01-18</td>\n",
       "      <td>10</td>\n",
       "      <td>2</td>\n",
       "    </tr>\n",
       "    <tr>\n",
       "      <th>69074</th>\n",
       "      <td>541431</td>\n",
       "      <td>23166</td>\n",
       "      <td>74214</td>\n",
       "      <td>2017-01-18 10:01:00</td>\n",
       "      <td>18025.0</td>\n",
       "      <td>Shop 0</td>\n",
       "      <td>0.0</td>\n",
       "      <td>2017-01-18</td>\n",
       "      <td>10</td>\n",
       "      <td>2</td>\n",
       "    </tr>\n",
       "  </tbody>\n",
       "</table>\n",
       "</div>"
      ],
      "text/plain": [
       "      purchase_id item_id  quantity         purchase_dt customer_id shop_id  \\\n",
       "49411     C541433   23166    -74216 2017-01-18 10:17:00     18025.0  Shop 0   \n",
       "69074      541431   23166     74214 2017-01-18 10:01:00     18025.0  Shop 0   \n",
       "\n",
       "       is_loyal        date  hour  dow  \n",
       "49411       0.0  2017-01-18    10    2  \n",
       "69074       0.0  2017-01-18    10    2  "
      ]
     },
     "execution_count": 30,
     "metadata": {},
     "output_type": "execute_result"
    }
   ],
   "source": [
    "data[np.logical_or(data['quantity'] == -74216, data['quantity'] == 74214)]"
   ]
  },
  {
   "cell_type": "markdown",
   "metadata": {},
   "source": [
    "Отрицательные значения, вероятно, обозначают возвраты. В таком случае у нас должны быть и покупки такого же количества того же товара. Впрочем, самые большие совпадают не полностью, хотя и близки, как будто вернули больше, чем купили. По ним можно предположить, что это отмена покупки (отрицательная транзакция произошла там же, с тем же покупателем, через 16 минут после положительной), а также что все отрицательные транзакции имеют ID, начинающийся с \"C\". проверим это. "
   ]
  },
  {
   "cell_type": "code",
   "execution_count": 31,
   "metadata": {},
   "outputs": [
    {
     "data": {
      "text/html": [
       "<div>\n",
       "<style scoped>\n",
       "    .dataframe tbody tr th:only-of-type {\n",
       "        vertical-align: middle;\n",
       "    }\n",
       "\n",
       "    .dataframe tbody tr th {\n",
       "        vertical-align: top;\n",
       "    }\n",
       "\n",
       "    .dataframe thead th {\n",
       "        text-align: right;\n",
       "    }\n",
       "</style>\n",
       "<table border=\"1\" class=\"dataframe\">\n",
       "  <thead>\n",
       "    <tr style=\"text-align: right;\">\n",
       "      <th></th>\n",
       "      <th>purchase_id</th>\n",
       "      <th>item_id</th>\n",
       "      <th>quantity</th>\n",
       "      <th>purchase_dt</th>\n",
       "      <th>customer_id</th>\n",
       "      <th>shop_id</th>\n",
       "      <th>is_loyal</th>\n",
       "      <th>date</th>\n",
       "      <th>hour</th>\n",
       "      <th>dow</th>\n",
       "    </tr>\n",
       "  </thead>\n",
       "  <tbody>\n",
       "    <tr>\n",
       "      <th>468</th>\n",
       "      <td>537032</td>\n",
       "      <td>21275</td>\n",
       "      <td>-31</td>\n",
       "      <td>2016-12-03 16:50:00</td>\n",
       "      <td>new00014</td>\n",
       "      <td>Shop 0</td>\n",
       "      <td>0.0</td>\n",
       "      <td>2016-12-03</td>\n",
       "      <td>16</td>\n",
       "      <td>5</td>\n",
       "    </tr>\n",
       "    <tr>\n",
       "      <th>503</th>\n",
       "      <td>540119</td>\n",
       "      <td>22865</td>\n",
       "      <td>-61</td>\n",
       "      <td>2017-01-05 10:07:00</td>\n",
       "      <td>new00015</td>\n",
       "      <td>Shop 0</td>\n",
       "      <td>0.0</td>\n",
       "      <td>2017-01-05</td>\n",
       "      <td>10</td>\n",
       "      <td>3</td>\n",
       "    </tr>\n",
       "    <tr>\n",
       "      <th>910</th>\n",
       "      <td>540241</td>\n",
       "      <td>35957</td>\n",
       "      <td>-940</td>\n",
       "      <td>2017-01-05 15:17:00</td>\n",
       "      <td>new00029</td>\n",
       "      <td>Shop 0</td>\n",
       "      <td>0.0</td>\n",
       "      <td>2017-01-05</td>\n",
       "      <td>15</td>\n",
       "      <td>3</td>\n",
       "    </tr>\n",
       "    <tr>\n",
       "      <th>1784</th>\n",
       "      <td>537009</td>\n",
       "      <td>84534B</td>\n",
       "      <td>-81</td>\n",
       "      <td>2016-12-03 15:38:00</td>\n",
       "      <td>new00058</td>\n",
       "      <td>Shop 0</td>\n",
       "      <td>0.0</td>\n",
       "      <td>2016-12-03</td>\n",
       "      <td>15</td>\n",
       "      <td>5</td>\n",
       "    </tr>\n",
       "    <tr>\n",
       "      <th>1928</th>\n",
       "      <td>540010</td>\n",
       "      <td>22501</td>\n",
       "      <td>-101</td>\n",
       "      <td>2017-01-04 11:13:00</td>\n",
       "      <td>new00063</td>\n",
       "      <td>Shop 0</td>\n",
       "      <td>0.0</td>\n",
       "      <td>2017-01-04</td>\n",
       "      <td>11</td>\n",
       "      <td>2</td>\n",
       "    </tr>\n",
       "    <tr>\n",
       "      <th>...</th>\n",
       "      <td>...</td>\n",
       "      <td>...</td>\n",
       "      <td>...</td>\n",
       "      <td>...</td>\n",
       "      <td>...</td>\n",
       "      <td>...</td>\n",
       "      <td>...</td>\n",
       "      <td>...</td>\n",
       "      <td>...</td>\n",
       "      <td>...</td>\n",
       "    </tr>\n",
       "    <tr>\n",
       "      <th>103022</th>\n",
       "      <td>542225</td>\n",
       "      <td>85096</td>\n",
       "      <td>-60</td>\n",
       "      <td>2017-01-26 13:10:00</td>\n",
       "      <td>new03421</td>\n",
       "      <td>Shop 0</td>\n",
       "      <td>0.0</td>\n",
       "      <td>2017-01-26</td>\n",
       "      <td>13</td>\n",
       "      <td>3</td>\n",
       "    </tr>\n",
       "    <tr>\n",
       "      <th>103534</th>\n",
       "      <td>540558</td>\n",
       "      <td>21258</td>\n",
       "      <td>-30</td>\n",
       "      <td>2017-01-10 10:04:00</td>\n",
       "      <td>new03438</td>\n",
       "      <td>Shop 0</td>\n",
       "      <td>0.0</td>\n",
       "      <td>2017-01-10</td>\n",
       "      <td>10</td>\n",
       "      <td>1</td>\n",
       "    </tr>\n",
       "    <tr>\n",
       "      <th>104588</th>\n",
       "      <td>541487</td>\n",
       "      <td>85118</td>\n",
       "      <td>-36</td>\n",
       "      <td>2017-01-18 13:19:00</td>\n",
       "      <td>new03474</td>\n",
       "      <td>Shop 0</td>\n",
       "      <td>0.0</td>\n",
       "      <td>2017-01-18</td>\n",
       "      <td>13</td>\n",
       "      <td>2</td>\n",
       "    </tr>\n",
       "    <tr>\n",
       "      <th>104960</th>\n",
       "      <td>540564</td>\n",
       "      <td>22617</td>\n",
       "      <td>-2601</td>\n",
       "      <td>2017-01-10 10:36:00</td>\n",
       "      <td>new03485</td>\n",
       "      <td>Shop 0</td>\n",
       "      <td>0.0</td>\n",
       "      <td>2017-01-10</td>\n",
       "      <td>10</td>\n",
       "      <td>1</td>\n",
       "    </tr>\n",
       "    <tr>\n",
       "      <th>105139</th>\n",
       "      <td>542572</td>\n",
       "      <td>85064</td>\n",
       "      <td>-2</td>\n",
       "      <td>2017-01-28 14:54:00</td>\n",
       "      <td>new03492</td>\n",
       "      <td>Shop 0</td>\n",
       "      <td>0.0</td>\n",
       "      <td>2017-01-28</td>\n",
       "      <td>14</td>\n",
       "      <td>5</td>\n",
       "    </tr>\n",
       "  </tbody>\n",
       "</table>\n",
       "<p>214 rows × 10 columns</p>\n",
       "</div>"
      ],
      "text/plain": [
       "       purchase_id item_id  quantity         purchase_dt customer_id shop_id  \\\n",
       "468         537032   21275       -31 2016-12-03 16:50:00    new00014  Shop 0   \n",
       "503         540119   22865       -61 2017-01-05 10:07:00    new00015  Shop 0   \n",
       "910         540241   35957      -940 2017-01-05 15:17:00    new00029  Shop 0   \n",
       "1784        537009  84534B       -81 2016-12-03 15:38:00    new00058  Shop 0   \n",
       "1928        540010   22501      -101 2017-01-04 11:13:00    new00063  Shop 0   \n",
       "...            ...     ...       ...                 ...         ...     ...   \n",
       "103022      542225   85096       -60 2017-01-26 13:10:00    new03421  Shop 0   \n",
       "103534      540558   21258       -30 2017-01-10 10:04:00    new03438  Shop 0   \n",
       "104588      541487   85118       -36 2017-01-18 13:19:00    new03474  Shop 0   \n",
       "104960      540564   22617     -2601 2017-01-10 10:36:00    new03485  Shop 0   \n",
       "105139      542572   85064        -2 2017-01-28 14:54:00    new03492  Shop 0   \n",
       "\n",
       "        is_loyal        date  hour  dow  \n",
       "468          0.0  2016-12-03    16    5  \n",
       "503          0.0  2017-01-05    10    3  \n",
       "910          0.0  2017-01-05    15    3  \n",
       "1784         0.0  2016-12-03    15    5  \n",
       "1928         0.0  2017-01-04    11    2  \n",
       "...          ...         ...   ...  ...  \n",
       "103022       0.0  2017-01-26    13    3  \n",
       "103534       0.0  2017-01-10    10    1  \n",
       "104588       0.0  2017-01-18    13    2  \n",
       "104960       0.0  2017-01-10    10    1  \n",
       "105139       0.0  2017-01-28    14    5  \n",
       "\n",
       "[214 rows x 10 columns]"
      ]
     },
     "execution_count": 31,
     "metadata": {},
     "output_type": "execute_result"
    }
   ],
   "source": [
    "data[np.logical_and(data['quantity'] < 0, ~data['purchase_id'].str.contains('C'))]"
   ]
  },
  {
   "cell_type": "code",
   "execution_count": 32,
   "metadata": {},
   "outputs": [
    {
     "data": {
      "text/html": [
       "<div>\n",
       "<style scoped>\n",
       "    .dataframe tbody tr th:only-of-type {\n",
       "        vertical-align: middle;\n",
       "    }\n",
       "\n",
       "    .dataframe tbody tr th {\n",
       "        vertical-align: top;\n",
       "    }\n",
       "\n",
       "    .dataframe thead th {\n",
       "        text-align: right;\n",
       "    }\n",
       "</style>\n",
       "<table border=\"1\" class=\"dataframe\">\n",
       "  <thead>\n",
       "    <tr style=\"text-align: right;\">\n",
       "      <th></th>\n",
       "      <th>purchase_id</th>\n",
       "      <th>item_id</th>\n",
       "      <th>quantity</th>\n",
       "      <th>purchase_dt</th>\n",
       "      <th>customer_id</th>\n",
       "      <th>shop_id</th>\n",
       "      <th>is_loyal</th>\n",
       "      <th>date</th>\n",
       "      <th>hour</th>\n",
       "      <th>dow</th>\n",
       "    </tr>\n",
       "  </thead>\n",
       "  <tbody>\n",
       "  </tbody>\n",
       "</table>\n",
       "</div>"
      ],
      "text/plain": [
       "Empty DataFrame\n",
       "Columns: [purchase_id, item_id, quantity, purchase_dt, customer_id, shop_id, is_loyal, date, hour, dow]\n",
       "Index: []"
      ]
     },
     "execution_count": 32,
     "metadata": {},
     "output_type": "execute_result"
    }
   ],
   "source": [
    "data[np.logical_and(data['quantity'] >= 0, data['purchase_id'].str.contains('C'))]"
   ]
  },
  {
   "cell_type": "markdown",
   "metadata": {},
   "source": [
    "У нас есть отрицательные транзакции с ID без \"C\", но нет положительных с ID с \"C\". Приверим, сколько у нас пар отрицательных и неотрицательных транзакций. Для этого мы будем оперировать таблицей с незаполненными дубликатами, так как иначе мы не можем включить пользователей в ключ - наши \"искусственные\" пользователи могут исказить картину."
   ]
  },
  {
   "cell_type": "code",
   "execution_count": 33,
   "metadata": {},
   "outputs": [
    {
     "data": {
      "text/html": [
       "<div>\n",
       "<style scoped>\n",
       "    .dataframe tbody tr th:only-of-type {\n",
       "        vertical-align: middle;\n",
       "    }\n",
       "\n",
       "    .dataframe tbody tr th {\n",
       "        vertical-align: top;\n",
       "    }\n",
       "\n",
       "    .dataframe thead th {\n",
       "        text-align: right;\n",
       "    }\n",
       "</style>\n",
       "<table border=\"1\" class=\"dataframe\">\n",
       "  <thead>\n",
       "    <tr style=\"text-align: right;\">\n",
       "      <th></th>\n",
       "      <th></th>\n",
       "      <th></th>\n",
       "      <th>count</th>\n",
       "      <th>min</th>\n",
       "      <th>max</th>\n",
       "    </tr>\n",
       "    <tr>\n",
       "      <th>item_id</th>\n",
       "      <th>customer_id</th>\n",
       "      <th>shop_id</th>\n",
       "      <th></th>\n",
       "      <th></th>\n",
       "      <th></th>\n",
       "    </tr>\n",
       "  </thead>\n",
       "  <tbody>\n",
       "    <tr>\n",
       "      <th>23166</th>\n",
       "      <th>18025.0</th>\n",
       "      <th>Shop 0</th>\n",
       "      <td>2</td>\n",
       "      <td>-74216</td>\n",
       "      <td>74214</td>\n",
       "    </tr>\n",
       "    <tr>\n",
       "      <th>15036</th>\n",
       "      <th>18587.0</th>\n",
       "      <th>Shop 0</th>\n",
       "      <td>2</td>\n",
       "      <td>-601</td>\n",
       "      <td>599</td>\n",
       "    </tr>\n",
       "    <tr>\n",
       "      <th>85123A</th>\n",
       "      <th>21692.0</th>\n",
       "      <th>Shop 0</th>\n",
       "      <td>4</td>\n",
       "      <td>-501</td>\n",
       "      <td>499</td>\n",
       "    </tr>\n",
       "    <tr>\n",
       "      <th>20733</th>\n",
       "      <th>21692.0</th>\n",
       "      <th>Shop 0</th>\n",
       "      <td>3</td>\n",
       "      <td>-301</td>\n",
       "      <td>299</td>\n",
       "    </tr>\n",
       "    <tr>\n",
       "      <th>85232B</th>\n",
       "      <th>23083.0</th>\n",
       "      <th>Shop 19</th>\n",
       "      <td>2</td>\n",
       "      <td>-241</td>\n",
       "      <td>239</td>\n",
       "    </tr>\n",
       "    <tr>\n",
       "      <th>22630</th>\n",
       "      <th>19835.0</th>\n",
       "      <th>Shop 6</th>\n",
       "      <td>3</td>\n",
       "      <td>-193</td>\n",
       "      <td>191</td>\n",
       "    </tr>\n",
       "    <tr>\n",
       "      <th>84754</th>\n",
       "      <th>21192.0</th>\n",
       "      <th>Shop 0</th>\n",
       "      <td>2</td>\n",
       "      <td>-145</td>\n",
       "      <td>143</td>\n",
       "    </tr>\n",
       "    <tr>\n",
       "      <th>35924</th>\n",
       "      <th>19477.0</th>\n",
       "      <th>Shop 0</th>\n",
       "      <td>5</td>\n",
       "      <td>-145</td>\n",
       "      <td>143</td>\n",
       "    </tr>\n",
       "    <tr>\n",
       "      <th>21877</th>\n",
       "      <th>22363.0</th>\n",
       "      <th>Shop 0</th>\n",
       "      <td>2</td>\n",
       "      <td>-145</td>\n",
       "      <td>143</td>\n",
       "    </tr>\n",
       "    <tr>\n",
       "      <th>22699</th>\n",
       "      <th>19835.0</th>\n",
       "      <th>Shop 6</th>\n",
       "      <td>3</td>\n",
       "      <td>-121</td>\n",
       "      <td>119</td>\n",
       "    </tr>\n",
       "    <tr>\n",
       "      <th>22363</th>\n",
       "      <th>19835.0</th>\n",
       "      <th>Shop 6</th>\n",
       "      <td>2</td>\n",
       "      <td>-121</td>\n",
       "      <td>119</td>\n",
       "    </tr>\n",
       "    <tr>\n",
       "      <th>20866</th>\n",
       "      <th>23047.0</th>\n",
       "      <th>Shop 0</th>\n",
       "      <td>2</td>\n",
       "      <td>-121</td>\n",
       "      <td>119</td>\n",
       "    </tr>\n",
       "    <tr>\n",
       "      <th>20725</th>\n",
       "      <th>19359.0</th>\n",
       "      <th>Shop 0</th>\n",
       "      <td>2</td>\n",
       "      <td>-101</td>\n",
       "      <td>99</td>\n",
       "    </tr>\n",
       "    <tr>\n",
       "      <th>85099B</th>\n",
       "      <th>19359.0</th>\n",
       "      <th>Shop 0</th>\n",
       "      <td>2</td>\n",
       "      <td>-101</td>\n",
       "      <td>99</td>\n",
       "    </tr>\n",
       "    <tr>\n",
       "      <th>35957</th>\n",
       "      <th>20590.0</th>\n",
       "      <th>Shop 6</th>\n",
       "      <td>2</td>\n",
       "      <td>-97</td>\n",
       "      <td>95</td>\n",
       "    </tr>\n",
       "  </tbody>\n",
       "</table>\n",
       "</div>"
      ],
      "text/plain": [
       "                             count    min    max\n",
       "item_id customer_id shop_id                     \n",
       "23166   18025.0     Shop 0       2 -74216  74214\n",
       "15036   18587.0     Shop 0       2   -601    599\n",
       "85123A  21692.0     Shop 0       4   -501    499\n",
       "20733   21692.0     Shop 0       3   -301    299\n",
       "85232B  23083.0     Shop 19      2   -241    239\n",
       "22630   19835.0     Shop 6       3   -193    191\n",
       "84754   21192.0     Shop 0       2   -145    143\n",
       "35924   19477.0     Shop 0       5   -145    143\n",
       "21877   22363.0     Shop 0       2   -145    143\n",
       "22699   19835.0     Shop 6       3   -121    119\n",
       "22363   19835.0     Shop 6       2   -121    119\n",
       "20866   23047.0     Shop 0       2   -121    119\n",
       "20725   19359.0     Shop 0       2   -101     99\n",
       "85099B  19359.0     Shop 0       2   -101     99\n",
       "35957   20590.0     Shop 6       2    -97     95"
      ]
     },
     "execution_count": 33,
     "metadata": {},
     "output_type": "execute_result"
    }
   ],
   "source": [
    "returns = retail_data.groupby(['item_id', 'customer_id', 'shop_id']).agg({'quantity': ['count', 'min', 'max']})\n",
    "returns.columns = ['count', 'min', 'max']\n",
    "returns[np.logical_and(returns['count'] >= 2, returns['min'] < 0)].sort_values('min').head(15)"
   ]
  },
  {
   "cell_type": "code",
   "execution_count": 34,
   "metadata": {},
   "outputs": [
    {
     "data": {
      "text/html": [
       "<div>\n",
       "<style scoped>\n",
       "    .dataframe tbody tr th:only-of-type {\n",
       "        vertical-align: middle;\n",
       "    }\n",
       "\n",
       "    .dataframe tbody tr th {\n",
       "        vertical-align: top;\n",
       "    }\n",
       "\n",
       "    .dataframe thead th {\n",
       "        text-align: right;\n",
       "    }\n",
       "</style>\n",
       "<table border=\"1\" class=\"dataframe\">\n",
       "  <thead>\n",
       "    <tr style=\"text-align: right;\">\n",
       "      <th></th>\n",
       "      <th></th>\n",
       "      <th></th>\n",
       "      <th>count</th>\n",
       "      <th>min</th>\n",
       "      <th>max</th>\n",
       "    </tr>\n",
       "    <tr>\n",
       "      <th>item_id</th>\n",
       "      <th>customer_id</th>\n",
       "      <th>shop_id</th>\n",
       "      <th></th>\n",
       "      <th></th>\n",
       "      <th></th>\n",
       "    </tr>\n",
       "  </thead>\n",
       "  <tbody>\n",
       "  </tbody>\n",
       "</table>\n",
       "</div>"
      ],
      "text/plain": [
       "Empty DataFrame\n",
       "Columns: [count, min, max]\n",
       "Index: []"
      ]
     },
     "execution_count": 34,
     "metadata": {},
     "output_type": "execute_result"
    }
   ],
   "source": [
    "returns[np.logical_and(returns['count'] >= 2, returns['min'] == -1)]"
   ]
  },
  {
   "cell_type": "code",
   "execution_count": 35,
   "metadata": {},
   "outputs": [
    {
     "data": {
      "text/html": [
       "<div>\n",
       "<style scoped>\n",
       "    .dataframe tbody tr th:only-of-type {\n",
       "        vertical-align: middle;\n",
       "    }\n",
       "\n",
       "    .dataframe tbody tr th {\n",
       "        vertical-align: top;\n",
       "    }\n",
       "\n",
       "    .dataframe thead th {\n",
       "        text-align: right;\n",
       "    }\n",
       "</style>\n",
       "<table border=\"1\" class=\"dataframe\">\n",
       "  <thead>\n",
       "    <tr style=\"text-align: right;\">\n",
       "      <th></th>\n",
       "      <th></th>\n",
       "      <th></th>\n",
       "      <th>count</th>\n",
       "      <th>min</th>\n",
       "      <th>max</th>\n",
       "    </tr>\n",
       "    <tr>\n",
       "      <th>item_id</th>\n",
       "      <th>customer_id</th>\n",
       "      <th>shop_id</th>\n",
       "      <th></th>\n",
       "      <th></th>\n",
       "      <th></th>\n",
       "    </tr>\n",
       "  </thead>\n",
       "  <tbody>\n",
       "    <tr>\n",
       "      <th>15056N</th>\n",
       "      <th>19456.0</th>\n",
       "      <th>Shop 0</th>\n",
       "      <td>3</td>\n",
       "      <td>-2</td>\n",
       "      <td>35</td>\n",
       "    </tr>\n",
       "    <tr>\n",
       "      <th>15056P</th>\n",
       "      <th>19456.0</th>\n",
       "      <th>Shop 0</th>\n",
       "      <td>2</td>\n",
       "      <td>-2</td>\n",
       "      <td>47</td>\n",
       "    </tr>\n",
       "    <tr>\n",
       "      <th>16258A</th>\n",
       "      <th>21193.0</th>\n",
       "      <th>Shop 0</th>\n",
       "      <td>3</td>\n",
       "      <td>-2</td>\n",
       "      <td>0</td>\n",
       "    </tr>\n",
       "    <tr>\n",
       "      <th>20685</th>\n",
       "      <th>18427.0</th>\n",
       "      <th>Shop 0</th>\n",
       "      <td>3</td>\n",
       "      <td>-2</td>\n",
       "      <td>0</td>\n",
       "    </tr>\n",
       "    <tr>\n",
       "      <th>20705</th>\n",
       "      <th>21824.0</th>\n",
       "      <th>Shop 0</th>\n",
       "      <td>3</td>\n",
       "      <td>-2</td>\n",
       "      <td>23</td>\n",
       "    </tr>\n",
       "  </tbody>\n",
       "</table>\n",
       "</div>"
      ],
      "text/plain": [
       "                             count  min  max\n",
       "item_id customer_id shop_id                 \n",
       "15056N  19456.0     Shop 0       3   -2   35\n",
       "15056P  19456.0     Shop 0       2   -2   47\n",
       "16258A  21193.0     Shop 0       3   -2    0\n",
       "20685   18427.0     Shop 0       3   -2    0\n",
       "20705   21824.0     Shop 0       3   -2   23"
      ]
     },
     "execution_count": 35,
     "metadata": {},
     "output_type": "execute_result"
    }
   ],
   "source": [
    "returns[np.logical_and(returns['count'] >= 2, returns['min'] == -2)].head()"
   ]
  },
  {
   "cell_type": "markdown",
   "metadata": {},
   "source": [
    "Самые большие по модулю отрицательные значения имеют положительные пары, причем в каждом случае отрицательное значение по модулю больше на 2. При этом у нас нет значений равных -1. Посчитаем самые популярные значения."
   ]
  },
  {
   "cell_type": "code",
   "execution_count": 36,
   "metadata": {},
   "outputs": [
    {
     "data": {
      "text/plain": [
       "[(0, 32362),\n",
       " (1, 16137),\n",
       " (11, 10265),\n",
       " (5, 7931),\n",
       " (2, 7444),\n",
       " (3, 6796),\n",
       " (23, 4122),\n",
       " (9, 2959),\n",
       " (4, 2425),\n",
       " (7, 2403)]"
      ]
     },
     "execution_count": 36,
     "metadata": {},
     "output_type": "execute_result"
    }
   ],
   "source": [
    "Counter(data['quantity'].to_list()).most_common(10)"
   ]
  },
  {
   "cell_type": "markdown",
   "metadata": {},
   "source": [
    "Мы видим, что наиболее часто встречающееся число покупок в наших данных - 0, за ним примерно вдвое меньше - 1. При этом у нас нет значений, равных -1, но есть -2. Все аномалии в количестве могут быть объяснены, если мы предположим, что у нас точка отсчета - это не 0, а -1. Тогда, мы получаем ожидаемое:\n",
    "- нет нулевых значений (поскольку нет -1);\n",
    "- больше всего покупок - по одной единице, и большие значения - покупки по 12 и 24 (часто покупают дюжинами);\n",
    "- равные по модулю положительные и отрицательные транзакции, следовательно, последние мы считаем возвратами/отменами.  \n",
    "\n",
    "По какой причине 0 \"съехал\" на -1 - непонятно, возможно, это технический сбой или некая неочевидная особенность учета товаров. Для компенсации этого добавим к количеству в нашей рабочей таблице 1. Отрицательные значения мы убирать не будем, поскольку они компенсируют положительные при подсчете суммарных продаж и т.п. При необходимости мы будем их отсеивать."
   ]
  },
  {
   "cell_type": "markdown",
   "metadata": {},
   "source": [
    "Для дополнительной проверки посмотрим, в скольких магазинах есть нули."
   ]
  },
  {
   "cell_type": "code",
   "execution_count": 37,
   "metadata": {},
   "outputs": [
    {
     "data": {
      "text/plain": [
       "17"
      ]
     },
     "execution_count": 37,
     "metadata": {},
     "output_type": "execute_result"
    }
   ],
   "source": [
    "zero_shops = data[data['quantity'] == 0]['shop_id'].unique()\n",
    "len(zero_shops)"
   ]
  },
  {
   "cell_type": "code",
   "execution_count": 38,
   "metadata": {},
   "outputs": [
    {
     "data": {
      "text/plain": [
       "(722, 10)"
      ]
     },
     "execution_count": 38,
     "metadata": {},
     "output_type": "execute_result"
    }
   ],
   "source": [
    "data[~data['shop_id'].isin(zero_shops)].shape"
   ]
  },
  {
   "cell_type": "code",
   "execution_count": 39,
   "metadata": {},
   "outputs": [
    {
     "data": {
      "text/html": [
       "<div>\n",
       "<style scoped>\n",
       "    .dataframe tbody tr th:only-of-type {\n",
       "        vertical-align: middle;\n",
       "    }\n",
       "\n",
       "    .dataframe tbody tr th {\n",
       "        vertical-align: top;\n",
       "    }\n",
       "\n",
       "    .dataframe thead th {\n",
       "        text-align: right;\n",
       "    }\n",
       "</style>\n",
       "<table border=\"1\" class=\"dataframe\">\n",
       "  <thead>\n",
       "    <tr style=\"text-align: right;\">\n",
       "      <th></th>\n",
       "      <th>purchase_id</th>\n",
       "      <th>item_id</th>\n",
       "      <th>quantity</th>\n",
       "      <th>purchase_dt</th>\n",
       "      <th>customer_id</th>\n",
       "      <th>shop_id</th>\n",
       "      <th>is_loyal</th>\n",
       "      <th>date</th>\n",
       "      <th>hour</th>\n",
       "      <th>dow</th>\n",
       "    </tr>\n",
       "  </thead>\n",
       "  <tbody>\n",
       "    <tr>\n",
       "      <th>68</th>\n",
       "      <td>545065</td>\n",
       "      <td>22505</td>\n",
       "      <td>3</td>\n",
       "      <td>2017-02-27 14:43:00</td>\n",
       "      <td>18110.0</td>\n",
       "      <td>Shop 2</td>\n",
       "      <td>0.0</td>\n",
       "      <td>2017-02-27</td>\n",
       "      <td>14</td>\n",
       "      <td>0</td>\n",
       "    </tr>\n",
       "    <tr>\n",
       "      <th>218</th>\n",
       "      <td>540267</td>\n",
       "      <td>21238</td>\n",
       "      <td>95</td>\n",
       "      <td>2017-01-06 11:12:00</td>\n",
       "      <td>18094.0</td>\n",
       "      <td>Shop 2</td>\n",
       "      <td>0.0</td>\n",
       "      <td>2017-01-06</td>\n",
       "      <td>11</td>\n",
       "      <td>4</td>\n",
       "    </tr>\n",
       "    <tr>\n",
       "      <th>554</th>\n",
       "      <td>542276</td>\n",
       "      <td>22652</td>\n",
       "      <td>9</td>\n",
       "      <td>2017-01-27 10:19:00</td>\n",
       "      <td>18443.0</td>\n",
       "      <td>Shop 27</td>\n",
       "      <td>0.0</td>\n",
       "      <td>2017-01-27</td>\n",
       "      <td>10</td>\n",
       "      <td>4</td>\n",
       "    </tr>\n",
       "    <tr>\n",
       "      <th>802</th>\n",
       "      <td>540267</td>\n",
       "      <td>21239</td>\n",
       "      <td>95</td>\n",
       "      <td>2017-01-06 11:12:00</td>\n",
       "      <td>18094.0</td>\n",
       "      <td>Shop 2</td>\n",
       "      <td>0.0</td>\n",
       "      <td>2017-01-06</td>\n",
       "      <td>11</td>\n",
       "      <td>4</td>\n",
       "    </tr>\n",
       "    <tr>\n",
       "      <th>1103</th>\n",
       "      <td>542276</td>\n",
       "      <td>82600</td>\n",
       "      <td>11</td>\n",
       "      <td>2017-01-27 10:19:00</td>\n",
       "      <td>18443.0</td>\n",
       "      <td>Shop 27</td>\n",
       "      <td>0.0</td>\n",
       "      <td>2017-01-27</td>\n",
       "      <td>10</td>\n",
       "      <td>4</td>\n",
       "    </tr>\n",
       "    <tr>\n",
       "      <th>1141</th>\n",
       "      <td>541975</td>\n",
       "      <td>20961</td>\n",
       "      <td>9</td>\n",
       "      <td>2017-01-24 14:24:00</td>\n",
       "      <td>new00037</td>\n",
       "      <td>Shop 25</td>\n",
       "      <td>0.0</td>\n",
       "      <td>2017-01-24</td>\n",
       "      <td>14</td>\n",
       "      <td>1</td>\n",
       "    </tr>\n",
       "    <tr>\n",
       "      <th>1152</th>\n",
       "      <td>542276</td>\n",
       "      <td>85150</td>\n",
       "      <td>5</td>\n",
       "      <td>2017-01-27 10:19:00</td>\n",
       "      <td>18443.0</td>\n",
       "      <td>Shop 27</td>\n",
       "      <td>0.0</td>\n",
       "      <td>2017-01-27</td>\n",
       "      <td>10</td>\n",
       "      <td>4</td>\n",
       "    </tr>\n",
       "    <tr>\n",
       "      <th>1403</th>\n",
       "      <td>544108</td>\n",
       "      <td>22193</td>\n",
       "      <td>11</td>\n",
       "      <td>2017-02-16 10:53:00</td>\n",
       "      <td>18332.0</td>\n",
       "      <td>Shop 21</td>\n",
       "      <td>0.0</td>\n",
       "      <td>2017-02-16</td>\n",
       "      <td>10</td>\n",
       "      <td>3</td>\n",
       "    </tr>\n",
       "    <tr>\n",
       "      <th>1445</th>\n",
       "      <td>544108</td>\n",
       "      <td>22629</td>\n",
       "      <td>23</td>\n",
       "      <td>2017-02-16 10:53:00</td>\n",
       "      <td>18332.0</td>\n",
       "      <td>Shop 21</td>\n",
       "      <td>0.0</td>\n",
       "      <td>2017-02-16</td>\n",
       "      <td>10</td>\n",
       "      <td>3</td>\n",
       "    </tr>\n",
       "    <tr>\n",
       "      <th>1446</th>\n",
       "      <td>541267</td>\n",
       "      <td>21110</td>\n",
       "      <td>23</td>\n",
       "      <td>2017-01-17 10:37:00</td>\n",
       "      <td>18458.0</td>\n",
       "      <td>Shop 9</td>\n",
       "      <td>0.0</td>\n",
       "      <td>2017-01-17</td>\n",
       "      <td>10</td>\n",
       "      <td>1</td>\n",
       "    </tr>\n",
       "  </tbody>\n",
       "</table>\n",
       "</div>"
      ],
      "text/plain": [
       "     purchase_id item_id  quantity         purchase_dt customer_id  shop_id  \\\n",
       "68        545065   22505         3 2017-02-27 14:43:00     18110.0   Shop 2   \n",
       "218       540267   21238        95 2017-01-06 11:12:00     18094.0   Shop 2   \n",
       "554       542276   22652         9 2017-01-27 10:19:00     18443.0  Shop 27   \n",
       "802       540267   21239        95 2017-01-06 11:12:00     18094.0   Shop 2   \n",
       "1103      542276   82600        11 2017-01-27 10:19:00     18443.0  Shop 27   \n",
       "1141      541975   20961         9 2017-01-24 14:24:00    new00037  Shop 25   \n",
       "1152      542276   85150         5 2017-01-27 10:19:00     18443.0  Shop 27   \n",
       "1403      544108   22193        11 2017-02-16 10:53:00     18332.0  Shop 21   \n",
       "1445      544108   22629        23 2017-02-16 10:53:00     18332.0  Shop 21   \n",
       "1446      541267   21110        23 2017-01-17 10:37:00     18458.0   Shop 9   \n",
       "\n",
       "      is_loyal        date  hour  dow  \n",
       "68         0.0  2017-02-27    14    0  \n",
       "218        0.0  2017-01-06    11    4  \n",
       "554        0.0  2017-01-27    10    4  \n",
       "802        0.0  2017-01-06    11    4  \n",
       "1103       0.0  2017-01-27    10    4  \n",
       "1141       0.0  2017-01-24    14    1  \n",
       "1152       0.0  2017-01-27    10    4  \n",
       "1403       0.0  2017-02-16    10    3  \n",
       "1445       0.0  2017-02-16    10    3  \n",
       "1446       0.0  2017-01-17    10    1  "
      ]
     },
     "execution_count": 39,
     "metadata": {},
     "output_type": "execute_result"
    }
   ],
   "source": [
    "data[~data['shop_id'].isin(zero_shops)].head(10)"
   ]
  },
  {
   "cell_type": "code",
   "execution_count": 40,
   "metadata": {},
   "outputs": [
    {
     "data": {
      "text/plain": [
       "array(['Shop 2', 'Shop 27', 'Shop 25', 'Shop 21', 'Shop 9', 'Shop 28',\n",
       "       'Shop 29', 'Shop 17', 'Shop 13', 'Shop 26', 'Shop 24', 'Shop 15',\n",
       "       'Shop 23', 'Shop 30'], dtype=object)"
      ]
     },
     "execution_count": 40,
     "metadata": {},
     "output_type": "execute_result"
    }
   ],
   "source": [
    "data[~data['shop_id'].isin(zero_shops)]['shop_id'].unique()"
   ]
  },
  {
   "cell_type": "code",
   "execution_count": 41,
   "metadata": {},
   "outputs": [
    {
     "data": {
      "text/html": [
       "<div>\n",
       "<style scoped>\n",
       "    .dataframe tbody tr th:only-of-type {\n",
       "        vertical-align: middle;\n",
       "    }\n",
       "\n",
       "    .dataframe tbody tr th {\n",
       "        vertical-align: top;\n",
       "    }\n",
       "\n",
       "    .dataframe thead th {\n",
       "        text-align: right;\n",
       "    }\n",
       "</style>\n",
       "<table border=\"1\" class=\"dataframe\">\n",
       "  <thead>\n",
       "    <tr style=\"text-align: right;\">\n",
       "      <th></th>\n",
       "      <th></th>\n",
       "      <th></th>\n",
       "      <th>count</th>\n",
       "      <th>min</th>\n",
       "      <th>max</th>\n",
       "    </tr>\n",
       "    <tr>\n",
       "      <th>item_id</th>\n",
       "      <th>customer_id</th>\n",
       "      <th>shop_id</th>\n",
       "      <th></th>\n",
       "      <th></th>\n",
       "      <th></th>\n",
       "    </tr>\n",
       "  </thead>\n",
       "  <tbody>\n",
       "    <tr>\n",
       "      <th>72802B</th>\n",
       "      <th>new00691</th>\n",
       "      <th>Shop 23</th>\n",
       "      <td>1</td>\n",
       "      <td>-55</td>\n",
       "      <td>-55</td>\n",
       "    </tr>\n",
       "    <tr>\n",
       "      <th>22474</th>\n",
       "      <th>18345.0</th>\n",
       "      <th>Shop 21</th>\n",
       "      <td>1</td>\n",
       "      <td>-33</td>\n",
       "      <td>-33</td>\n",
       "    </tr>\n",
       "    <tr>\n",
       "      <th>84792</th>\n",
       "      <th>18345.0</th>\n",
       "      <th>Shop 21</th>\n",
       "      <td>1</td>\n",
       "      <td>-25</td>\n",
       "      <td>-25</td>\n",
       "    </tr>\n",
       "    <tr>\n",
       "      <th>22087</th>\n",
       "      <th>22000.0</th>\n",
       "      <th>Shop 2</th>\n",
       "      <td>4</td>\n",
       "      <td>-19</td>\n",
       "      <td>17</td>\n",
       "    </tr>\n",
       "    <tr>\n",
       "      <th>22333</th>\n",
       "      <th>18113.0</th>\n",
       "      <th>Shop 2</th>\n",
       "      <td>1</td>\n",
       "      <td>-8</td>\n",
       "      <td>-8</td>\n",
       "    </tr>\n",
       "    <tr>\n",
       "      <th>22094</th>\n",
       "      <th>18113.0</th>\n",
       "      <th>Shop 2</th>\n",
       "      <td>1</td>\n",
       "      <td>-6</td>\n",
       "      <td>-6</td>\n",
       "    </tr>\n",
       "    <tr>\n",
       "      <th>22325</th>\n",
       "      <th>22000.0</th>\n",
       "      <th>Shop 2</th>\n",
       "      <td>3</td>\n",
       "      <td>-4</td>\n",
       "      <td>2</td>\n",
       "    </tr>\n",
       "    <tr>\n",
       "      <th>21217</th>\n",
       "      <th>18113.0</th>\n",
       "      <th>Shop 2</th>\n",
       "      <td>1</td>\n",
       "      <td>-2</td>\n",
       "      <td>-2</td>\n",
       "    </tr>\n",
       "  </tbody>\n",
       "</table>\n",
       "</div>"
      ],
      "text/plain": [
       "                             count  min  max\n",
       "item_id customer_id shop_id                 \n",
       "72802B  new00691    Shop 23      1  -55  -55\n",
       "22474   18345.0     Shop 21      1  -33  -33\n",
       "84792   18345.0     Shop 21      1  -25  -25\n",
       "22087   22000.0     Shop 2       4  -19   17\n",
       "22333   18113.0     Shop 2       1   -8   -8\n",
       "22094   18113.0     Shop 2       1   -6   -6\n",
       "22325   22000.0     Shop 2       3   -4    2\n",
       "21217   18113.0     Shop 2       1   -2   -2"
      ]
     },
     "execution_count": 41,
     "metadata": {},
     "output_type": "execute_result"
    }
   ],
   "source": [
    "non_null_returns = data[~data['shop_id'].isin(zero_shops)]\\\n",
    "                    .groupby(['item_id', 'customer_id', 'shop_id']).agg({'quantity': ['count', 'min', 'max']})\n",
    "non_null_returns.columns = ['count', 'min', 'max']\n",
    "non_null_returns[non_null_returns['min'] < 0].sort_values('min').head(15)"
   ]
  },
  {
   "cell_type": "markdown",
   "metadata": {},
   "source": [
    "В тринадцати магазинах нет нулевых значений, но в одном из них есть такой же \"перекос\" между положительными и отрицательными значениями, так что, вероятно, там есть та же проблема с указанием количества, а отсутствие нулей (то есть единичных покупок) объясняется небольшой выборкой либо спецификой магазина, например, склада стройматериалов. В любом случае, даже если мы исказим таким образом данные, это небольшая их часть - всего 700 из 100 с лишним тысяч. По этой же таблице видно, что у нас есть непарные отрицательные значения, по-видимому, возвраты того, что куплено раньше нашего периода. Мы не будем их удалять, предполагая, что они более-менее компенсируют те товары, которые куплены в конце периода и будут возвращены в следующем."
   ]
  },
  {
   "cell_type": "code",
   "execution_count": 42,
   "metadata": {},
   "outputs": [],
   "source": [
    "data['quantity'] = data['quantity'] + 1"
   ]
  },
  {
   "cell_type": "code",
   "execution_count": 43,
   "metadata": {},
   "outputs": [],
   "source": [
    "retail_data['quantity'] = retail_data['quantity'] + 1"
   ]
  },
  {
   "cell_type": "markdown",
   "metadata": {},
   "source": [
    "### Расчет стоимости каждой позиции"
   ]
  },
  {
   "cell_type": "markdown",
   "metadata": {},
   "source": [
    "Для расчета стоимости каждой позиции объединим датафрейм с данными и датафрейм с медианной ценой каждого товара, а затем умножим ее на количество."
   ]
  },
  {
   "cell_type": "code",
   "execution_count": 44,
   "metadata": {},
   "outputs": [],
   "source": [
    "prices = prices.reset_index()\n",
    "data = data.merge(prices[['product_id', 'median']], how='left', left_on='item_id', right_on='product_id')"
   ]
  },
  {
   "cell_type": "code",
   "execution_count": 45,
   "metadata": {
    "scrolled": true
   },
   "outputs": [
    {
     "data": {
      "text/plain": [
       "'Позиций с неизвестной ценой: 0'"
      ]
     },
     "execution_count": 45,
     "metadata": {},
     "output_type": "execute_result"
    }
   ],
   "source": [
    "f'Позиций с неизвестной ценой: {data[\"median\"].isna().sum()}'"
   ]
  },
  {
   "cell_type": "code",
   "execution_count": 46,
   "metadata": {},
   "outputs": [
    {
     "data": {
      "text/html": [
       "<div>\n",
       "<style scoped>\n",
       "    .dataframe tbody tr th:only-of-type {\n",
       "        vertical-align: middle;\n",
       "    }\n",
       "\n",
       "    .dataframe tbody tr th {\n",
       "        vertical-align: top;\n",
       "    }\n",
       "\n",
       "    .dataframe thead th {\n",
       "        text-align: right;\n",
       "    }\n",
       "</style>\n",
       "<table border=\"1\" class=\"dataframe\">\n",
       "  <thead>\n",
       "    <tr style=\"text-align: right;\">\n",
       "      <th></th>\n",
       "      <th>purchase_id</th>\n",
       "      <th>item_id</th>\n",
       "      <th>quantity</th>\n",
       "      <th>purchase_dt</th>\n",
       "      <th>customer_id</th>\n",
       "      <th>shop_id</th>\n",
       "      <th>is_loyal</th>\n",
       "      <th>date</th>\n",
       "      <th>hour</th>\n",
       "      <th>dow</th>\n",
       "      <th>price</th>\n",
       "    </tr>\n",
       "  </thead>\n",
       "  <tbody>\n",
       "    <tr>\n",
       "      <th>0</th>\n",
       "      <td>538280</td>\n",
       "      <td>21873</td>\n",
       "      <td>12</td>\n",
       "      <td>2016-12-10 12:50:00</td>\n",
       "      <td>18427.0</td>\n",
       "      <td>Shop 0</td>\n",
       "      <td>0.0</td>\n",
       "      <td>2016-12-10</td>\n",
       "      <td>12</td>\n",
       "      <td>5</td>\n",
       "      <td>19.56</td>\n",
       "    </tr>\n",
       "    <tr>\n",
       "      <th>1</th>\n",
       "      <td>538862</td>\n",
       "      <td>22195</td>\n",
       "      <td>1</td>\n",
       "      <td>2016-12-14 14:11:00</td>\n",
       "      <td>22389.0</td>\n",
       "      <td>Shop 0</td>\n",
       "      <td>1.0</td>\n",
       "      <td>2016-12-14</td>\n",
       "      <td>14</td>\n",
       "      <td>2</td>\n",
       "      <td>3.29</td>\n",
       "    </tr>\n",
       "    <tr>\n",
       "      <th>2</th>\n",
       "      <td>538855</td>\n",
       "      <td>21239</td>\n",
       "      <td>8</td>\n",
       "      <td>2016-12-14 13:50:00</td>\n",
       "      <td>22182.0</td>\n",
       "      <td>Shop 0</td>\n",
       "      <td>1.0</td>\n",
       "      <td>2016-12-14</td>\n",
       "      <td>13</td>\n",
       "      <td>2</td>\n",
       "      <td>13.04</td>\n",
       "    </tr>\n",
       "    <tr>\n",
       "      <th>3</th>\n",
       "      <td>543543</td>\n",
       "      <td>22271</td>\n",
       "      <td>1</td>\n",
       "      <td>2017-02-09 15:33:00</td>\n",
       "      <td>23522.0</td>\n",
       "      <td>Shop 0</td>\n",
       "      <td>1.0</td>\n",
       "      <td>2017-02-09</td>\n",
       "      <td>15</td>\n",
       "      <td>3</td>\n",
       "      <td>4.37</td>\n",
       "    </tr>\n",
       "    <tr>\n",
       "      <th>4</th>\n",
       "      <td>543812</td>\n",
       "      <td>79321</td>\n",
       "      <td>1</td>\n",
       "      <td>2017-02-13 14:40:00</td>\n",
       "      <td>23151.0</td>\n",
       "      <td>Shop 0</td>\n",
       "      <td>1.0</td>\n",
       "      <td>2017-02-13</td>\n",
       "      <td>14</td>\n",
       "      <td>0</td>\n",
       "      <td>5.75</td>\n",
       "    </tr>\n",
       "  </tbody>\n",
       "</table>\n",
       "</div>"
      ],
      "text/plain": [
       "  purchase_id item_id  quantity         purchase_dt customer_id shop_id  \\\n",
       "0      538280   21873        12 2016-12-10 12:50:00     18427.0  Shop 0   \n",
       "1      538862   22195         1 2016-12-14 14:11:00     22389.0  Shop 0   \n",
       "2      538855   21239         8 2016-12-14 13:50:00     22182.0  Shop 0   \n",
       "3      543543   22271         1 2017-02-09 15:33:00     23522.0  Shop 0   \n",
       "4      543812   79321         1 2017-02-13 14:40:00     23151.0  Shop 0   \n",
       "\n",
       "   is_loyal        date  hour  dow  price  \n",
       "0       0.0  2016-12-10    12    5  19.56  \n",
       "1       1.0  2016-12-14    14    2   3.29  \n",
       "2       1.0  2016-12-14    13    2  13.04  \n",
       "3       1.0  2017-02-09    15    3   4.37  \n",
       "4       1.0  2017-02-13    14    0   5.75  "
      ]
     },
     "execution_count": 46,
     "metadata": {},
     "output_type": "execute_result"
    }
   ],
   "source": [
    "data['price'] = data['quantity'] * data['median']\n",
    "data.drop(columns=['product_id', 'median'], inplace=True)\n",
    "data.head()"
   ]
  },
  {
   "cell_type": "markdown",
   "metadata": {},
   "source": [
    "Стоимость каждой позиции добавлена."
   ]
  },
  {
   "cell_type": "markdown",
   "metadata": {},
   "source": [
    "### Анализ выбросов"
   ]
  },
  {
   "cell_type": "markdown",
   "metadata": {},
   "source": [
    "Рассмотрим, как распределены цены позиций, чтобы оценить, что можно считать выбросами."
   ]
  },
  {
   "cell_type": "code",
   "execution_count": 47,
   "metadata": {},
   "outputs": [
    {
     "data": {
      "text/plain": [
       "count    102266.000000\n",
       "mean         28.070442\n",
       "std         266.781342\n",
       "min          -0.000000\n",
       "25%           4.150000\n",
       "50%          10.400000\n",
       "75%          24.850000\n",
       "max       77183.600000\n",
       "Name: price, dtype: float64"
      ]
     },
     "execution_count": 47,
     "metadata": {},
     "output_type": "execute_result"
    }
   ],
   "source": [
    "data_sales = data[data['price'] >= 0]\n",
    "data_sales.price.describe()"
   ]
  },
  {
   "cell_type": "code",
   "execution_count": 48,
   "metadata": {},
   "outputs": [
    {
     "data": {
      "text/plain": [
       "'Число товаров с нулевой ценой: 59'"
      ]
     },
     "execution_count": 48,
     "metadata": {},
     "output_type": "execute_result"
    }
   ],
   "source": [
    "f'Число товаров с нулевой ценой: {len(data_sales[data[\"price\"] == 0][\"price\"])}'"
   ]
  },
  {
   "cell_type": "code",
   "execution_count": 49,
   "metadata": {},
   "outputs": [
    {
     "data": {
      "image/png": "[encoded data removed]",
      "text/plain": [
       "<Figure size 864x648 with 1 Axes>"
      ]
     },
     "metadata": {},
     "output_type": "display_data"
    }
   ],
   "source": [
    "data_sales[data['price'] < 100]['price'].hist(bins=30);\n",
    "plt.title('Распределение цен одной покупки (меньше 100)')\n",
    "plt.xlabel('Цена')\n",
    "plt.ylabel('Число наблюдений');"
   ]
  },
  {
   "cell_type": "code",
   "execution_count": 50,
   "metadata": {},
   "outputs": [
    {
     "name": "stdout",
     "output_type": "stream",
     "text": [
      "Третий квартиль плюс полтора межквартильных размаха: 55.90\n"
     ]
    },
    {
     "data": {
      "text/html": [
       "<div>\n",
       "<style scoped>\n",
       "    .dataframe tbody tr th:only-of-type {\n",
       "        vertical-align: middle;\n",
       "    }\n",
       "\n",
       "    .dataframe tbody tr th {\n",
       "        vertical-align: top;\n",
       "    }\n",
       "\n",
       "    .dataframe thead th {\n",
       "        text-align: right;\n",
       "    }\n",
       "</style>\n",
       "<table border=\"1\" class=\"dataframe\">\n",
       "  <thead>\n",
       "    <tr style=\"text-align: right;\">\n",
       "      <th></th>\n",
       "      <th>purchase_id</th>\n",
       "      <th>item_id</th>\n",
       "      <th>quantity</th>\n",
       "      <th>purchase_dt</th>\n",
       "      <th>customer_id</th>\n",
       "      <th>shop_id</th>\n",
       "      <th>is_loyal</th>\n",
       "      <th>date</th>\n",
       "      <th>hour</th>\n",
       "      <th>dow</th>\n",
       "      <th>price</th>\n",
       "    </tr>\n",
       "  </thead>\n",
       "  <tbody>\n",
       "    <tr>\n",
       "      <th>18</th>\n",
       "      <td>543193</td>\n",
       "      <td>22839</td>\n",
       "      <td>4</td>\n",
       "      <td>2017-02-04 12:18:00</td>\n",
       "      <td>19404.0</td>\n",
       "      <td>Shop 0</td>\n",
       "      <td>0.0</td>\n",
       "      <td>2017-02-04</td>\n",
       "      <td>12</td>\n",
       "      <td>5</td>\n",
       "      <td>88.24</td>\n",
       "    </tr>\n",
       "    <tr>\n",
       "      <th>33</th>\n",
       "      <td>544573</td>\n",
       "      <td>22303</td>\n",
       "      <td>36</td>\n",
       "      <td>2017-02-21 13:40:00</td>\n",
       "      <td>18300.0</td>\n",
       "      <td>Shop 4</td>\n",
       "      <td>0.0</td>\n",
       "      <td>2017-02-21</td>\n",
       "      <td>13</td>\n",
       "      <td>1</td>\n",
       "      <td>135.18</td>\n",
       "    </tr>\n",
       "    <tr>\n",
       "      <th>53</th>\n",
       "      <td>541220</td>\n",
       "      <td>22936</td>\n",
       "      <td>72</td>\n",
       "      <td>2017-01-14 14:11:00</td>\n",
       "      <td>19835.0</td>\n",
       "      <td>Shop 6</td>\n",
       "      <td>0.0</td>\n",
       "      <td>2017-01-14</td>\n",
       "      <td>14</td>\n",
       "      <td>5</td>\n",
       "      <td>234.00</td>\n",
       "    </tr>\n",
       "    <tr>\n",
       "      <th>57</th>\n",
       "      <td>544076</td>\n",
       "      <td>21671</td>\n",
       "      <td>24</td>\n",
       "      <td>2017-02-15 15:00:00</td>\n",
       "      <td>22086.0</td>\n",
       "      <td>Shop 0</td>\n",
       "      <td>1.0</td>\n",
       "      <td>2017-02-15</td>\n",
       "      <td>15</td>\n",
       "      <td>2</td>\n",
       "      <td>59.04</td>\n",
       "    </tr>\n",
       "    <tr>\n",
       "      <th>75</th>\n",
       "      <td>537640</td>\n",
       "      <td>21212</td>\n",
       "      <td>104</td>\n",
       "      <td>2016-12-07 15:31:00</td>\n",
       "      <td>new00001</td>\n",
       "      <td>Shop 0</td>\n",
       "      <td>0.0</td>\n",
       "      <td>2016-12-07</td>\n",
       "      <td>15</td>\n",
       "      <td>2</td>\n",
       "      <td>130.00</td>\n",
       "    </tr>\n",
       "    <tr>\n",
       "      <th>...</th>\n",
       "      <td>...</td>\n",
       "      <td>...</td>\n",
       "      <td>...</td>\n",
       "      <td>...</td>\n",
       "      <td>...</td>\n",
       "      <td>...</td>\n",
       "      <td>...</td>\n",
       "      <td>...</td>\n",
       "      <td>...</td>\n",
       "      <td>...</td>\n",
       "      <td>...</td>\n",
       "    </tr>\n",
       "    <tr>\n",
       "      <th>104246</th>\n",
       "      <td>541813</td>\n",
       "      <td>22969</td>\n",
       "      <td>24</td>\n",
       "      <td>2017-01-21 15:36:00</td>\n",
       "      <td>23918.0</td>\n",
       "      <td>Shop 0</td>\n",
       "      <td>1.0</td>\n",
       "      <td>2017-01-21</td>\n",
       "      <td>15</td>\n",
       "      <td>5</td>\n",
       "      <td>56.88</td>\n",
       "    </tr>\n",
       "    <tr>\n",
       "      <th>104259</th>\n",
       "      <td>538354</td>\n",
       "      <td>48138</td>\n",
       "      <td>6</td>\n",
       "      <td>2016-12-10 15:45:00</td>\n",
       "      <td>22552.0</td>\n",
       "      <td>Shop 0</td>\n",
       "      <td>1.0</td>\n",
       "      <td>2016-12-10</td>\n",
       "      <td>15</td>\n",
       "      <td>5</td>\n",
       "      <td>85.68</td>\n",
       "    </tr>\n",
       "    <tr>\n",
       "      <th>104265</th>\n",
       "      <td>536982</td>\n",
       "      <td>22734</td>\n",
       "      <td>13</td>\n",
       "      <td>2016-12-03 14:27:00</td>\n",
       "      <td>new03498</td>\n",
       "      <td>Shop 0</td>\n",
       "      <td>0.0</td>\n",
       "      <td>2016-12-03</td>\n",
       "      <td>14</td>\n",
       "      <td>5</td>\n",
       "      <td>65.78</td>\n",
       "    </tr>\n",
       "    <tr>\n",
       "      <th>104279</th>\n",
       "      <td>539750</td>\n",
       "      <td>22734</td>\n",
       "      <td>21</td>\n",
       "      <td>2016-12-21 15:40:00</td>\n",
       "      <td>new03498</td>\n",
       "      <td>Shop 0</td>\n",
       "      <td>0.0</td>\n",
       "      <td>2016-12-21</td>\n",
       "      <td>15</td>\n",
       "      <td>2</td>\n",
       "      <td>106.26</td>\n",
       "    </tr>\n",
       "    <tr>\n",
       "      <th>104292</th>\n",
       "      <td>536982</td>\n",
       "      <td>20719</td>\n",
       "      <td>70</td>\n",
       "      <td>2016-12-03 14:27:00</td>\n",
       "      <td>new03499</td>\n",
       "      <td>Shop 0</td>\n",
       "      <td>0.0</td>\n",
       "      <td>2016-12-03</td>\n",
       "      <td>14</td>\n",
       "      <td>5</td>\n",
       "      <td>114.10</td>\n",
       "    </tr>\n",
       "  </tbody>\n",
       "</table>\n",
       "<p>8710 rows × 11 columns</p>\n",
       "</div>"
      ],
      "text/plain": [
       "       purchase_id item_id  quantity         purchase_dt customer_id shop_id  \\\n",
       "18          543193   22839         4 2017-02-04 12:18:00     19404.0  Shop 0   \n",
       "33          544573   22303        36 2017-02-21 13:40:00     18300.0  Shop 4   \n",
       "53          541220   22936        72 2017-01-14 14:11:00     19835.0  Shop 6   \n",
       "57          544076   21671        24 2017-02-15 15:00:00     22086.0  Shop 0   \n",
       "75          537640   21212       104 2016-12-07 15:31:00    new00001  Shop 0   \n",
       "...            ...     ...       ...                 ...         ...     ...   \n",
       "104246      541813   22969        24 2017-01-21 15:36:00     23918.0  Shop 0   \n",
       "104259      538354   48138         6 2016-12-10 15:45:00     22552.0  Shop 0   \n",
       "104265      536982   22734        13 2016-12-03 14:27:00    new03498  Shop 0   \n",
       "104279      539750   22734        21 2016-12-21 15:40:00    new03498  Shop 0   \n",
       "104292      536982   20719        70 2016-12-03 14:27:00    new03499  Shop 0   \n",
       "\n",
       "        is_loyal        date  hour  dow   price  \n",
       "18           0.0  2017-02-04    12    5   88.24  \n",
       "33           0.0  2017-02-21    13    1  135.18  \n",
       "53           0.0  2017-01-14    14    5  234.00  \n",
       "57           1.0  2017-02-15    15    2   59.04  \n",
       "75           0.0  2016-12-07    15    2  130.00  \n",
       "...          ...         ...   ...  ...     ...  \n",
       "104246       1.0  2017-01-21    15    5   56.88  \n",
       "104259       1.0  2016-12-10    15    5   85.68  \n",
       "104265       0.0  2016-12-03    14    5   65.78  \n",
       "104279       0.0  2016-12-21    15    2  106.26  \n",
       "104292       0.0  2016-12-03    14    5  114.10  \n",
       "\n",
       "[8710 rows x 11 columns]"
      ]
     },
     "execution_count": 50,
     "metadata": {},
     "output_type": "execute_result"
    }
   ],
   "source": [
    "limit = data_sales['price'].quantile(q=0.75)\\\n",
    "                + 1.5 * (data_sales['price'].quantile(q=0.75)\\\n",
    "                - data_sales['price'].quantile(q=0.25))\n",
    "print(f'Третий квартиль плюс полтора межквартильных размаха: {limit:.2f}')\n",
    "data[data['price'] > limit]"
   ]
  },
  {
   "cell_type": "code",
   "execution_count": 51,
   "metadata": {},
   "outputs": [
    {
     "name": "stdout",
     "output_type": "stream",
     "text": [
      "\n",
      "90, 95 и 99 перцентили: [ 45.8     89.394  280.4982]\n",
      "\n"
     ]
    }
   ],
   "source": [
    "print(f'''\n",
    "90, 95 и 99 перцентили: {np.percentile(data['price'], [90, 95, 99])}\n",
    "''')"
   ]
  },
  {
   "cell_type": "code",
   "execution_count": 52,
   "metadata": {},
   "outputs": [
    {
     "data": {
      "text/html": [
       "<div>\n",
       "<style scoped>\n",
       "    .dataframe tbody tr th:only-of-type {\n",
       "        vertical-align: middle;\n",
       "    }\n",
       "\n",
       "    .dataframe tbody tr th {\n",
       "        vertical-align: top;\n",
       "    }\n",
       "\n",
       "    .dataframe thead th {\n",
       "        text-align: right;\n",
       "    }\n",
       "</style>\n",
       "<table border=\"1\" class=\"dataframe\">\n",
       "  <thead>\n",
       "    <tr style=\"text-align: right;\">\n",
       "      <th></th>\n",
       "      <th>purchase_id</th>\n",
       "      <th>item_id</th>\n",
       "      <th>quantity</th>\n",
       "      <th>purchase_dt</th>\n",
       "      <th>customer_id</th>\n",
       "      <th>shop_id</th>\n",
       "      <th>is_loyal</th>\n",
       "      <th>date</th>\n",
       "      <th>hour</th>\n",
       "      <th>dow</th>\n",
       "      <th>price</th>\n",
       "    </tr>\n",
       "  </thead>\n",
       "  <tbody>\n",
       "    <tr>\n",
       "      <th>18</th>\n",
       "      <td>543193</td>\n",
       "      <td>22839</td>\n",
       "      <td>4</td>\n",
       "      <td>2017-02-04 12:18:00</td>\n",
       "      <td>19404.0</td>\n",
       "      <td>Shop 0</td>\n",
       "      <td>0.0</td>\n",
       "      <td>2017-02-04</td>\n",
       "      <td>12</td>\n",
       "      <td>5</td>\n",
       "      <td>88.24</td>\n",
       "    </tr>\n",
       "    <tr>\n",
       "      <th>33</th>\n",
       "      <td>544573</td>\n",
       "      <td>22303</td>\n",
       "      <td>36</td>\n",
       "      <td>2017-02-21 13:40:00</td>\n",
       "      <td>18300.0</td>\n",
       "      <td>Shop 4</td>\n",
       "      <td>0.0</td>\n",
       "      <td>2017-02-21</td>\n",
       "      <td>13</td>\n",
       "      <td>1</td>\n",
       "      <td>135.18</td>\n",
       "    </tr>\n",
       "    <tr>\n",
       "      <th>53</th>\n",
       "      <td>541220</td>\n",
       "      <td>22936</td>\n",
       "      <td>72</td>\n",
       "      <td>2017-01-14 14:11:00</td>\n",
       "      <td>19835.0</td>\n",
       "      <td>Shop 6</td>\n",
       "      <td>0.0</td>\n",
       "      <td>2017-01-14</td>\n",
       "      <td>14</td>\n",
       "      <td>5</td>\n",
       "      <td>234.00</td>\n",
       "    </tr>\n",
       "    <tr>\n",
       "      <th>57</th>\n",
       "      <td>544076</td>\n",
       "      <td>21671</td>\n",
       "      <td>24</td>\n",
       "      <td>2017-02-15 15:00:00</td>\n",
       "      <td>22086.0</td>\n",
       "      <td>Shop 0</td>\n",
       "      <td>1.0</td>\n",
       "      <td>2017-02-15</td>\n",
       "      <td>15</td>\n",
       "      <td>2</td>\n",
       "      <td>59.04</td>\n",
       "    </tr>\n",
       "    <tr>\n",
       "      <th>75</th>\n",
       "      <td>537640</td>\n",
       "      <td>21212</td>\n",
       "      <td>104</td>\n",
       "      <td>2016-12-07 15:31:00</td>\n",
       "      <td>new00001</td>\n",
       "      <td>Shop 0</td>\n",
       "      <td>0.0</td>\n",
       "      <td>2016-12-07</td>\n",
       "      <td>15</td>\n",
       "      <td>2</td>\n",
       "      <td>130.00</td>\n",
       "    </tr>\n",
       "    <tr>\n",
       "      <th>...</th>\n",
       "      <td>...</td>\n",
       "      <td>...</td>\n",
       "      <td>...</td>\n",
       "      <td>...</td>\n",
       "      <td>...</td>\n",
       "      <td>...</td>\n",
       "      <td>...</td>\n",
       "      <td>...</td>\n",
       "      <td>...</td>\n",
       "      <td>...</td>\n",
       "      <td>...</td>\n",
       "    </tr>\n",
       "    <tr>\n",
       "      <th>104246</th>\n",
       "      <td>541813</td>\n",
       "      <td>22969</td>\n",
       "      <td>24</td>\n",
       "      <td>2017-01-21 15:36:00</td>\n",
       "      <td>23918.0</td>\n",
       "      <td>Shop 0</td>\n",
       "      <td>1.0</td>\n",
       "      <td>2017-01-21</td>\n",
       "      <td>15</td>\n",
       "      <td>5</td>\n",
       "      <td>56.88</td>\n",
       "    </tr>\n",
       "    <tr>\n",
       "      <th>104259</th>\n",
       "      <td>538354</td>\n",
       "      <td>48138</td>\n",
       "      <td>6</td>\n",
       "      <td>2016-12-10 15:45:00</td>\n",
       "      <td>22552.0</td>\n",
       "      <td>Shop 0</td>\n",
       "      <td>1.0</td>\n",
       "      <td>2016-12-10</td>\n",
       "      <td>15</td>\n",
       "      <td>5</td>\n",
       "      <td>85.68</td>\n",
       "    </tr>\n",
       "    <tr>\n",
       "      <th>104265</th>\n",
       "      <td>536982</td>\n",
       "      <td>22734</td>\n",
       "      <td>13</td>\n",
       "      <td>2016-12-03 14:27:00</td>\n",
       "      <td>new03498</td>\n",
       "      <td>Shop 0</td>\n",
       "      <td>0.0</td>\n",
       "      <td>2016-12-03</td>\n",
       "      <td>14</td>\n",
       "      <td>5</td>\n",
       "      <td>65.78</td>\n",
       "    </tr>\n",
       "    <tr>\n",
       "      <th>104279</th>\n",
       "      <td>539750</td>\n",
       "      <td>22734</td>\n",
       "      <td>21</td>\n",
       "      <td>2016-12-21 15:40:00</td>\n",
       "      <td>new03498</td>\n",
       "      <td>Shop 0</td>\n",
       "      <td>0.0</td>\n",
       "      <td>2016-12-21</td>\n",
       "      <td>15</td>\n",
       "      <td>2</td>\n",
       "      <td>106.26</td>\n",
       "    </tr>\n",
       "    <tr>\n",
       "      <th>104292</th>\n",
       "      <td>536982</td>\n",
       "      <td>20719</td>\n",
       "      <td>70</td>\n",
       "      <td>2016-12-03 14:27:00</td>\n",
       "      <td>new03499</td>\n",
       "      <td>Shop 0</td>\n",
       "      <td>0.0</td>\n",
       "      <td>2016-12-03</td>\n",
       "      <td>14</td>\n",
       "      <td>5</td>\n",
       "      <td>114.10</td>\n",
       "    </tr>\n",
       "  </tbody>\n",
       "</table>\n",
       "<p>8710 rows × 11 columns</p>\n",
       "</div>"
      ],
      "text/plain": [
       "       purchase_id item_id  quantity         purchase_dt customer_id shop_id  \\\n",
       "18          543193   22839         4 2017-02-04 12:18:00     19404.0  Shop 0   \n",
       "33          544573   22303        36 2017-02-21 13:40:00     18300.0  Shop 4   \n",
       "53          541220   22936        72 2017-01-14 14:11:00     19835.0  Shop 6   \n",
       "57          544076   21671        24 2017-02-15 15:00:00     22086.0  Shop 0   \n",
       "75          537640   21212       104 2016-12-07 15:31:00    new00001  Shop 0   \n",
       "...            ...     ...       ...                 ...         ...     ...   \n",
       "104246      541813   22969        24 2017-01-21 15:36:00     23918.0  Shop 0   \n",
       "104259      538354   48138         6 2016-12-10 15:45:00     22552.0  Shop 0   \n",
       "104265      536982   22734        13 2016-12-03 14:27:00    new03498  Shop 0   \n",
       "104279      539750   22734        21 2016-12-21 15:40:00    new03498  Shop 0   \n",
       "104292      536982   20719        70 2016-12-03 14:27:00    new03499  Shop 0   \n",
       "\n",
       "        is_loyal        date  hour  dow   price  \n",
       "18           0.0  2017-02-04    12    5   88.24  \n",
       "33           0.0  2017-02-21    13    1  135.18  \n",
       "53           0.0  2017-01-14    14    5  234.00  \n",
       "57           1.0  2017-02-15    15    2   59.04  \n",
       "75           0.0  2016-12-07    15    2  130.00  \n",
       "...          ...         ...   ...  ...     ...  \n",
       "104246       1.0  2017-01-21    15    5   56.88  \n",
       "104259       1.0  2016-12-10    15    5   85.68  \n",
       "104265       0.0  2016-12-03    14    5   65.78  \n",
       "104279       0.0  2016-12-21    15    2  106.26  \n",
       "104292       0.0  2016-12-03    14    5  114.10  \n",
       "\n",
       "[8710 rows x 11 columns]"
      ]
     },
     "execution_count": 52,
     "metadata": {},
     "output_type": "execute_result"
    }
   ],
   "source": [
    "limit_std = data['price'].mean() + 3 * data['price'].std()\n",
    "data[data['price'] > limit]"
   ]
  },
  {
   "cell_type": "markdown",
   "metadata": {},
   "source": [
    "Как видно, разброс значений очень значительный: при среднем в 29 стандартное отклонение 267, максимум - больше 77 тысяч, 95% значений меньше 90. Стандартный способ отсеивания выбросов, основанный на межквартильном размахе, исключает почти 9000 значений, что составляет существенную часть наших данных. Поэтому кажется более обоснованным отсеить данные, отличающиеся от среднего больше, чем на три стандартных отклонения (меньше 4% данных). Одновременно мы исключим отрицательные значения, которые по модулю больше этого лимита, чтобы отсеить соответствующие возвраты."
   ]
  },
  {
   "cell_type": "code",
   "execution_count": 53,
   "metadata": {
    "scrolled": true
   },
   "outputs": [
    {
     "name": "stdout",
     "output_type": "stream",
     "text": [
      "<class 'pandas.core.frame.DataFrame'>\n",
      "Int64Index: 95269 entries, 0 to 104301\n",
      "Data columns (total 11 columns):\n",
      " #   Column       Non-Null Count  Dtype         \n",
      "---  ------       --------------  -----         \n",
      " 0   purchase_id  95269 non-null  object        \n",
      " 1   item_id      95269 non-null  object        \n",
      " 2   quantity     95269 non-null  int64         \n",
      " 3   purchase_dt  95269 non-null  datetime64[ns]\n",
      " 4   customer_id  95269 non-null  object        \n",
      " 5   shop_id      95269 non-null  object        \n",
      " 6   is_loyal     95269 non-null  float64       \n",
      " 7   date         95269 non-null  object        \n",
      " 8   hour         95269 non-null  int64         \n",
      " 9   dow          95269 non-null  int64         \n",
      " 10  price        95269 non-null  float64       \n",
      "dtypes: datetime64[ns](1), float64(2), int64(3), object(5)\n",
      "memory usage: 8.7+ MB\n"
     ]
    }
   ],
   "source": [
    "data = data[np.logical_and(data['price'] < limit,\n",
    "                           data['price'] > -1 * limit)]\n",
    "data.info()"
   ]
  },
  {
   "cell_type": "code",
   "execution_count": 54,
   "metadata": {},
   "outputs": [
    {
     "data": {
      "text/html": [
       "<div>\n",
       "<style scoped>\n",
       "    .dataframe tbody tr th:only-of-type {\n",
       "        vertical-align: middle;\n",
       "    }\n",
       "\n",
       "    .dataframe tbody tr th {\n",
       "        vertical-align: top;\n",
       "    }\n",
       "\n",
       "    .dataframe thead th {\n",
       "        text-align: right;\n",
       "    }\n",
       "</style>\n",
       "<table border=\"1\" class=\"dataframe\">\n",
       "  <thead>\n",
       "    <tr style=\"text-align: right;\">\n",
       "      <th></th>\n",
       "      <th>quantity</th>\n",
       "      <th>is_loyal</th>\n",
       "      <th>hour</th>\n",
       "      <th>dow</th>\n",
       "      <th>price</th>\n",
       "    </tr>\n",
       "  </thead>\n",
       "  <tbody>\n",
       "    <tr>\n",
       "      <th>count</th>\n",
       "      <td>95269.000000</td>\n",
       "      <td>95269.000000</td>\n",
       "      <td>95269.000000</td>\n",
       "      <td>95269.000000</td>\n",
       "      <td>95269.000000</td>\n",
       "    </tr>\n",
       "    <tr>\n",
       "      <th>mean</th>\n",
       "      <td>5.085516</td>\n",
       "      <td>0.223451</td>\n",
       "      <td>13.097261</td>\n",
       "      <td>2.636052</td>\n",
       "      <td>12.847573</td>\n",
       "    </tr>\n",
       "    <tr>\n",
       "      <th>std</th>\n",
       "      <td>10.324268</td>\n",
       "      <td>0.416561</td>\n",
       "      <td>2.427832</td>\n",
       "      <td>1.621608</td>\n",
       "      <td>12.680204</td>\n",
       "    </tr>\n",
       "    <tr>\n",
       "      <th>min</th>\n",
       "      <td>-1430.000000</td>\n",
       "      <td>0.000000</td>\n",
       "      <td>7.000000</td>\n",
       "      <td>0.000000</td>\n",
       "      <td>-55.800000</td>\n",
       "    </tr>\n",
       "    <tr>\n",
       "      <th>25%</th>\n",
       "      <td>1.000000</td>\n",
       "      <td>0.000000</td>\n",
       "      <td>11.000000</td>\n",
       "      <td>1.000000</td>\n",
       "      <td>3.555000</td>\n",
       "    </tr>\n",
       "    <tr>\n",
       "      <th>50%</th>\n",
       "      <td>2.000000</td>\n",
       "      <td>0.000000</td>\n",
       "      <td>13.000000</td>\n",
       "      <td>3.000000</td>\n",
       "      <td>8.500000</td>\n",
       "    </tr>\n",
       "    <tr>\n",
       "      <th>75%</th>\n",
       "      <td>6.000000</td>\n",
       "      <td>0.000000</td>\n",
       "      <td>15.000000</td>\n",
       "      <td>4.000000</td>\n",
       "      <td>19.680000</td>\n",
       "    </tr>\n",
       "    <tr>\n",
       "      <th>max</th>\n",
       "      <td>1287.000000</td>\n",
       "      <td>1.000000</td>\n",
       "      <td>20.000000</td>\n",
       "      <td>5.000000</td>\n",
       "      <td>55.800000</td>\n",
       "    </tr>\n",
       "  </tbody>\n",
       "</table>\n",
       "</div>"
      ],
      "text/plain": [
       "           quantity      is_loyal          hour           dow         price\n",
       "count  95269.000000  95269.000000  95269.000000  95269.000000  95269.000000\n",
       "mean       5.085516      0.223451     13.097261      2.636052     12.847573\n",
       "std       10.324268      0.416561      2.427832      1.621608     12.680204\n",
       "min    -1430.000000      0.000000      7.000000      0.000000    -55.800000\n",
       "25%        1.000000      0.000000     11.000000      1.000000      3.555000\n",
       "50%        2.000000      0.000000     13.000000      3.000000      8.500000\n",
       "75%        6.000000      0.000000     15.000000      4.000000     19.680000\n",
       "max     1287.000000      1.000000     20.000000      5.000000     55.800000"
      ]
     },
     "execution_count": 54,
     "metadata": {},
     "output_type": "execute_result"
    }
   ],
   "source": [
    "data.describe()"
   ]
  },
  {
   "cell_type": "markdown",
   "metadata": {},
   "source": [
    "### Вывод\n",
    "1. В ходе предобработки были обработаны дубликаты - удалены в основной таблице и заменены медианой в таблице цен.\n",
    "2. Пропуски в ID пользователей, возникшие, скорее всего, не из-за случайной ошибки, были заполнены \"искусственными\" ID, каждому из которых соответствует медианное число позиций в чеке.\n",
    "3. Нулевые значения количества товара возникли из-за смещения нуля в этом столбце на -1, для исправления ко всем значениям в столбце мы прибавили единицу. Отрицательные значения обозначают возвраты и отмены покупок - мы оставили их в таблице и будем учитывать в дальнейшем.\n",
    "4. В таблицу была добавлена стоимость каждой позиции на основе количества и медианной цены единицы товара.\n",
    "5. Из данных исключен 1% самых дорогих покупок.\n",
    "6. В результате у нас есть таблица из 103181 записи, типы данных приведены к нужным, названия столбцов исправлены, данные готовы к анализу."
   ]
  },
  {
   "cell_type": "markdown",
   "metadata": {},
   "source": [
    "---"
   ]
  },
  {
   "cell_type": "markdown",
   "metadata": {},
   "source": [
    "[Наверх](#contents)"
   ]
  },
  {
   "cell_type": "markdown",
   "metadata": {},
   "source": [
    "---"
   ]
  },
  {
   "cell_type": "markdown",
   "metadata": {},
   "source": [
    "## 3. Исcледовательский анализ данных <a id='eda'></a> "
   ]
  },
  {
   "cell_type": "markdown",
   "metadata": {},
   "source": [
    "### Распределение данных во времени"
   ]
  },
  {
   "cell_type": "code",
   "execution_count": 55,
   "metadata": {},
   "outputs": [],
   "source": [
    "def time_distribution(col, name, df=data):\n",
    "    agg_by_time = df.pivot_table(index=col, values='purchase_id', aggfunc='count')\n",
    "    ax = agg_by_time.plot(title=f'Распределение покупок во времени ({name})', legend=False, kind='bar')\n",
    "    plt.xlabel(name)\n",
    "    plt.ylabel('число покупок')\n",
    "    return ax"
   ]
  },
  {
   "cell_type": "code",
   "execution_count": 56,
   "metadata": {},
   "outputs": [
    {
     "data": {
      "text/html": [
       "<div>\n",
       "<style scoped>\n",
       "    .dataframe tbody tr th:only-of-type {\n",
       "        vertical-align: middle;\n",
       "    }\n",
       "\n",
       "    .dataframe tbody tr th {\n",
       "        vertical-align: top;\n",
       "    }\n",
       "\n",
       "    .dataframe thead th {\n",
       "        text-align: right;\n",
       "    }\n",
       "</style>\n",
       "<table border=\"1\" class=\"dataframe\">\n",
       "  <thead>\n",
       "    <tr style=\"text-align: right;\">\n",
       "      <th></th>\n",
       "      <th>date</th>\n",
       "      <th>purchase_id</th>\n",
       "    </tr>\n",
       "  </thead>\n",
       "  <tbody>\n",
       "    <tr>\n",
       "      <th>0</th>\n",
       "      <td>2016-12-01</td>\n",
       "      <td>2790</td>\n",
       "    </tr>\n",
       "    <tr>\n",
       "      <th>1</th>\n",
       "      <td>2016-12-02</td>\n",
       "      <td>1834</td>\n",
       "    </tr>\n",
       "    <tr>\n",
       "      <th>2</th>\n",
       "      <td>2016-12-03</td>\n",
       "      <td>1967</td>\n",
       "    </tr>\n",
       "    <tr>\n",
       "      <th>3</th>\n",
       "      <td>2016-12-05</td>\n",
       "      <td>2481</td>\n",
       "    </tr>\n",
       "    <tr>\n",
       "      <th>4</th>\n",
       "      <td>2016-12-06</td>\n",
       "      <td>3654</td>\n",
       "    </tr>\n",
       "    <tr>\n",
       "      <th>...</th>\n",
       "      <td>...</td>\n",
       "      <td>...</td>\n",
       "    </tr>\n",
       "    <tr>\n",
       "      <th>63</th>\n",
       "      <td>2017-02-23</td>\n",
       "      <td>1464</td>\n",
       "    </tr>\n",
       "    <tr>\n",
       "      <th>64</th>\n",
       "      <td>2017-02-24</td>\n",
       "      <td>1177</td>\n",
       "    </tr>\n",
       "    <tr>\n",
       "      <th>65</th>\n",
       "      <td>2017-02-25</td>\n",
       "      <td>906</td>\n",
       "    </tr>\n",
       "    <tr>\n",
       "      <th>66</th>\n",
       "      <td>2017-02-27</td>\n",
       "      <td>736</td>\n",
       "    </tr>\n",
       "    <tr>\n",
       "      <th>67</th>\n",
       "      <td>2017-02-28</td>\n",
       "      <td>1641</td>\n",
       "    </tr>\n",
       "  </tbody>\n",
       "</table>\n",
       "<p>68 rows × 2 columns</p>\n",
       "</div>"
      ],
      "text/plain": [
       "          date  purchase_id\n",
       "0   2016-12-01         2790\n",
       "1   2016-12-02         1834\n",
       "2   2016-12-03         1967\n",
       "3   2016-12-05         2481\n",
       "4   2016-12-06         3654\n",
       "..         ...          ...\n",
       "63  2017-02-23         1464\n",
       "64  2017-02-24         1177\n",
       "65  2017-02-25          906\n",
       "66  2017-02-27          736\n",
       "67  2017-02-28         1641\n",
       "\n",
       "[68 rows x 2 columns]"
      ]
     },
     "execution_count": 56,
     "metadata": {},
     "output_type": "execute_result"
    }
   ],
   "source": [
    "timeline = data.pivot_table(index='date', values='purchase_id', aggfunc='count').reset_index()\n",
    "timeline"
   ]
  },
  {
   "cell_type": "code",
   "execution_count": 57,
   "metadata": {},
   "outputs": [
    {
     "data": {
      "text/html": [
       "<div>\n",
       "<style scoped>\n",
       "    .dataframe tbody tr th:only-of-type {\n",
       "        vertical-align: middle;\n",
       "    }\n",
       "\n",
       "    .dataframe tbody tr th {\n",
       "        vertical-align: top;\n",
       "    }\n",
       "\n",
       "    .dataframe thead th {\n",
       "        text-align: right;\n",
       "    }\n",
       "</style>\n",
       "<table border=\"1\" class=\"dataframe\">\n",
       "  <thead>\n",
       "    <tr style=\"text-align: right;\">\n",
       "      <th></th>\n",
       "      <th>purchase_id</th>\n",
       "    </tr>\n",
       "  </thead>\n",
       "  <tbody>\n",
       "    <tr>\n",
       "      <th>count</th>\n",
       "      <td>68.000000</td>\n",
       "    </tr>\n",
       "    <tr>\n",
       "      <th>mean</th>\n",
       "      <td>1401.014706</td>\n",
       "    </tr>\n",
       "    <tr>\n",
       "      <th>std</th>\n",
       "      <td>655.234366</td>\n",
       "    </tr>\n",
       "    <tr>\n",
       "      <th>min</th>\n",
       "      <td>253.000000</td>\n",
       "    </tr>\n",
       "    <tr>\n",
       "      <th>25%</th>\n",
       "      <td>966.250000</td>\n",
       "    </tr>\n",
       "    <tr>\n",
       "      <th>50%</th>\n",
       "      <td>1313.000000</td>\n",
       "    </tr>\n",
       "    <tr>\n",
       "      <th>75%</th>\n",
       "      <td>1620.000000</td>\n",
       "    </tr>\n",
       "    <tr>\n",
       "      <th>max</th>\n",
       "      <td>3654.000000</td>\n",
       "    </tr>\n",
       "  </tbody>\n",
       "</table>\n",
       "</div>"
      ],
      "text/plain": [
       "       purchase_id\n",
       "count    68.000000\n",
       "mean   1401.014706\n",
       "std     655.234366\n",
       "min     253.000000\n",
       "25%     966.250000\n",
       "50%    1313.000000\n",
       "75%    1620.000000\n",
       "max    3654.000000"
      ]
     },
     "execution_count": 57,
     "metadata": {},
     "output_type": "execute_result"
    }
   ],
   "source": [
    "timeline.describe()"
   ]
  },
  {
   "cell_type": "code",
   "execution_count": 58,
   "metadata": {},
   "outputs": [
    {
     "data": {
      "image/png": "[encoded data removed]",
      "text/plain": [
       "<Figure size 864x648 with 1 Axes>"
      ]
     },
     "metadata": {},
     "output_type": "display_data"
    }
   ],
   "source": [
    "time_distribution('date', 'дата');"
   ]
  },
  {
   "cell_type": "markdown",
   "metadata": {},
   "source": [
    "Данные охватывают период c 1 декабря по 28 февраля, за исключением новогодних праздников (с 23 декабря по 3 января) и воскресений, когда магазины, по-видимому, закрыты. В среднем за день совершается 1400 покупок, однако разброс весьма большой - максимальное значение составляет 3654, минимальное - 253, причем значения сильно колеблются даже в соседние дни. Наиболее высокие значения относятся к началу периода, и вообще в декабре покупок, кажется, было больше. После Нового года значения стабильнее - за двумя исключениями, они колеблются от 500 до 1500 продаж в день."
   ]
  },
  {
   "cell_type": "code",
   "execution_count": 59,
   "metadata": {},
   "outputs": [
    {
     "data": {
      "image/png": "[encoded data removed]",
      "text/plain": [
       "<Figure size 864x648 with 1 Axes>"
      ]
     },
     "metadata": {},
     "output_type": "display_data"
    }
   ],
   "source": [
    "time_distribution('dow', 'день недели');"
   ]
  },
  {
   "cell_type": "markdown",
   "metadata": {},
   "source": [
    "Как уже было сказано, у нас нет данных о воскресеньях. Минимальное число покупок относится к понедельникам (около 10000), во вторник удваивается и достигает пика - почти 20000, затем снижается и во все остальные дни держится примерно на уровне 16-17 тысяч."
   ]
  },
  {
   "cell_type": "code",
   "execution_count": 60,
   "metadata": {},
   "outputs": [
    {
     "data": {
      "image/png": "[encoded data removed]",
      "text/plain": [
       "<Figure size 864x648 with 1 Axes>"
      ]
     },
     "metadata": {},
     "output_type": "display_data"
    }
   ],
   "source": [
    "time_distribution('hour', 'час');"
   ]
  },
  {
   "cell_type": "markdown",
   "metadata": {},
   "source": [
    "Наши магазины работают с 8 до 20 часов, большая часть покупок совершается до 15 часов, между 14 и 15 часами их число достигает пика, затем достаточно быстро снижается к вечеру."
   ]
  },
  {
   "cell_type": "markdown",
   "metadata": {},
   "source": [
    "### Изучение поведения пользователей"
   ]
  },
  {
   "cell_type": "markdown",
   "metadata": {},
   "source": [
    "Для характеристики поведения покупателей сгруппируем данные по покупателям и рассчитаем следующие показатели:\n",
    "- сколько покупок совершает каждый покупатель за весь период?\n",
    "- сколько раз каждый покупатель посещал нашу сеть?\n",
    "- в скольких магазинах он побывал?\n",
    "- какова доля лояльных покупателей и какая доля покупок приходится на них?\n",
    "- какова доля неизвестных покупателей (тех, для которых заполнены пропуски в ID) и какая доля покупок приходится на них?"
   ]
  },
  {
   "cell_type": "code",
   "execution_count": 61,
   "metadata": {},
   "outputs": [
    {
     "data": {
      "text/html": [
       "<div>\n",
       "<style scoped>\n",
       "    .dataframe tbody tr th:only-of-type {\n",
       "        vertical-align: middle;\n",
       "    }\n",
       "\n",
       "    .dataframe tbody tr th {\n",
       "        vertical-align: top;\n",
       "    }\n",
       "\n",
       "    .dataframe thead th {\n",
       "        text-align: right;\n",
       "    }\n",
       "</style>\n",
       "<table border=\"1\" class=\"dataframe\">\n",
       "  <thead>\n",
       "    <tr style=\"text-align: right;\">\n",
       "      <th></th>\n",
       "      <th>customer_id</th>\n",
       "      <th>purchases</th>\n",
       "      <th>visits</th>\n",
       "      <th>shops_visited</th>\n",
       "      <th>is_loyal</th>\n",
       "    </tr>\n",
       "  </thead>\n",
       "  <tbody>\n",
       "    <tr>\n",
       "      <th>138</th>\n",
       "      <td>18427.0</td>\n",
       "      <td>754</td>\n",
       "      <td>46</td>\n",
       "      <td>1</td>\n",
       "      <td>0.0</td>\n",
       "    </tr>\n",
       "    <tr>\n",
       "      <th>648</th>\n",
       "      <td>20285.0</td>\n",
       "      <td>739</td>\n",
       "      <td>39</td>\n",
       "      <td>1</td>\n",
       "      <td>0.0</td>\n",
       "    </tr>\n",
       "    <tr>\n",
       "      <th>1523</th>\n",
       "      <td>23520.0</td>\n",
       "      <td>733</td>\n",
       "      <td>29</td>\n",
       "      <td>1</td>\n",
       "      <td>1.0</td>\n",
       "    </tr>\n",
       "    <tr>\n",
       "      <th>832</th>\n",
       "      <td>20990.0</td>\n",
       "      <td>631</td>\n",
       "      <td>33</td>\n",
       "      <td>1</td>\n",
       "      <td>0.0</td>\n",
       "    </tr>\n",
       "    <tr>\n",
       "      <th>733</th>\n",
       "      <td>20590.0</td>\n",
       "      <td>444</td>\n",
       "      <td>26</td>\n",
       "      <td>1</td>\n",
       "      <td>0.0</td>\n",
       "    </tr>\n",
       "    <tr>\n",
       "      <th>756</th>\n",
       "      <td>20718.0</td>\n",
       "      <td>393</td>\n",
       "      <td>12</td>\n",
       "      <td>1</td>\n",
       "      <td>0.0</td>\n",
       "    </tr>\n",
       "    <tr>\n",
       "      <th>229</th>\n",
       "      <td>18768.0</td>\n",
       "      <td>338</td>\n",
       "      <td>19</td>\n",
       "      <td>1</td>\n",
       "      <td>0.0</td>\n",
       "    </tr>\n",
       "    <tr>\n",
       "      <th>1604</th>\n",
       "      <td>23797.0</td>\n",
       "      <td>316</td>\n",
       "      <td>7</td>\n",
       "      <td>1</td>\n",
       "      <td>1.0</td>\n",
       "    </tr>\n",
       "    <tr>\n",
       "      <th>1527</th>\n",
       "      <td>23529.0</td>\n",
       "      <td>290</td>\n",
       "      <td>34</td>\n",
       "      <td>1</td>\n",
       "      <td>1.0</td>\n",
       "    </tr>\n",
       "    <tr>\n",
       "      <th>226</th>\n",
       "      <td>18760.0</td>\n",
       "      <td>281</td>\n",
       "      <td>7</td>\n",
       "      <td>1</td>\n",
       "      <td>0.0</td>\n",
       "    </tr>\n",
       "  </tbody>\n",
       "</table>\n",
       "</div>"
      ],
      "text/plain": [
       "     customer_id  purchases  visits  shops_visited  is_loyal\n",
       "138      18427.0        754      46              1       0.0\n",
       "648      20285.0        739      39              1       0.0\n",
       "1523     23520.0        733      29              1       1.0\n",
       "832      20990.0        631      33              1       0.0\n",
       "733      20590.0        444      26              1       0.0\n",
       "756      20718.0        393      12              1       0.0\n",
       "229      18768.0        338      19              1       0.0\n",
       "1604     23797.0        316       7              1       1.0\n",
       "1527     23529.0        290      34              1       1.0\n",
       "226      18760.0        281       7              1       0.0"
      ]
     },
     "execution_count": 61,
     "metadata": {},
     "output_type": "execute_result"
    }
   ],
   "source": [
    "customer_data = data.groupby('customer_id', as_index=False).agg({'purchase_id': 'count', 'purchase_dt': 'nunique', \n",
    "                                        'shop_id': 'nunique', 'is_loyal': 'first'})\n",
    "customer_data.columns = ['customer_id', 'purchases', 'visits', 'shops_visited', 'is_loyal']\n",
    "customer_data['customer_id'] = customer_data['customer_id'].astype(str)\n",
    "customer_data.sort_values('purchases', ascending=False).head(10)"
   ]
  },
  {
   "cell_type": "code",
   "execution_count": 62,
   "metadata": {},
   "outputs": [
    {
     "data": {
      "text/html": [
       "<div>\n",
       "<style scoped>\n",
       "    .dataframe tbody tr th:only-of-type {\n",
       "        vertical-align: middle;\n",
       "    }\n",
       "\n",
       "    .dataframe tbody tr th {\n",
       "        vertical-align: top;\n",
       "    }\n",
       "\n",
       "    .dataframe thead th {\n",
       "        text-align: right;\n",
       "    }\n",
       "</style>\n",
       "<table border=\"1\" class=\"dataframe\">\n",
       "  <thead>\n",
       "    <tr style=\"text-align: right;\">\n",
       "      <th></th>\n",
       "      <th>purchases</th>\n",
       "      <th>visits</th>\n",
       "      <th>shops_visited</th>\n",
       "      <th>is_loyal</th>\n",
       "    </tr>\n",
       "  </thead>\n",
       "  <tbody>\n",
       "    <tr>\n",
       "      <th>count</th>\n",
       "      <td>5147.000000</td>\n",
       "      <td>5147.000000</td>\n",
       "      <td>5147.000000</td>\n",
       "      <td>5147.000000</td>\n",
       "    </tr>\n",
       "    <tr>\n",
       "      <th>mean</th>\n",
       "      <td>18.509617</td>\n",
       "      <td>7.288712</td>\n",
       "      <td>1.027783</td>\n",
       "      <td>0.107830</td>\n",
       "    </tr>\n",
       "    <tr>\n",
       "      <th>std</th>\n",
       "      <td>32.568712</td>\n",
       "      <td>3.867384</td>\n",
       "      <td>0.166715</td>\n",
       "      <td>0.310195</td>\n",
       "    </tr>\n",
       "    <tr>\n",
       "      <th>min</th>\n",
       "      <td>1.000000</td>\n",
       "      <td>1.000000</td>\n",
       "      <td>1.000000</td>\n",
       "      <td>0.000000</td>\n",
       "    </tr>\n",
       "    <tr>\n",
       "      <th>25%</th>\n",
       "      <td>10.000000</td>\n",
       "      <td>3.000000</td>\n",
       "      <td>1.000000</td>\n",
       "      <td>0.000000</td>\n",
       "    </tr>\n",
       "    <tr>\n",
       "      <th>50%</th>\n",
       "      <td>10.000000</td>\n",
       "      <td>9.000000</td>\n",
       "      <td>1.000000</td>\n",
       "      <td>0.000000</td>\n",
       "    </tr>\n",
       "    <tr>\n",
       "      <th>75%</th>\n",
       "      <td>11.000000</td>\n",
       "      <td>10.000000</td>\n",
       "      <td>1.000000</td>\n",
       "      <td>0.000000</td>\n",
       "    </tr>\n",
       "    <tr>\n",
       "      <th>max</th>\n",
       "      <td>754.000000</td>\n",
       "      <td>46.000000</td>\n",
       "      <td>3.000000</td>\n",
       "      <td>1.000000</td>\n",
       "    </tr>\n",
       "  </tbody>\n",
       "</table>\n",
       "</div>"
      ],
      "text/plain": [
       "         purchases       visits  shops_visited     is_loyal\n",
       "count  5147.000000  5147.000000    5147.000000  5147.000000\n",
       "mean     18.509617     7.288712       1.027783     0.107830\n",
       "std      32.568712     3.867384       0.166715     0.310195\n",
       "min       1.000000     1.000000       1.000000     0.000000\n",
       "25%      10.000000     3.000000       1.000000     0.000000\n",
       "50%      10.000000     9.000000       1.000000     0.000000\n",
       "75%      11.000000    10.000000       1.000000     0.000000\n",
       "max     754.000000    46.000000       3.000000     1.000000"
      ]
     },
     "execution_count": 62,
     "metadata": {},
     "output_type": "execute_result"
    }
   ],
   "source": [
    "customer_data.describe()"
   ]
  },
  {
   "cell_type": "code",
   "execution_count": 63,
   "metadata": {},
   "outputs": [],
   "source": [
    "# условие для отсева \"искусственных пользователей\"\n",
    "filter_new = ~customer_data['customer_id'].str.contains('new')"
   ]
  },
  {
   "cell_type": "code",
   "execution_count": 64,
   "metadata": {},
   "outputs": [
    {
     "data": {
      "image/png": "[encoded data removed]",
      "text/plain": [
       "<Figure size 864x648 with 1 Axes>"
      ]
     },
     "metadata": {},
     "output_type": "display_data"
    }
   ],
   "source": [
    "customer_data[(customer_data['purchases'] < 100) & filter_new]['purchases'].hist(bins=30)\n",
    "plt.title('Число покупок реальных пользователей (< 100)')\n",
    "plt.xlabel('Число покупок')\n",
    "plt.ylabel('Число пользователей');"
   ]
  },
  {
   "cell_type": "code",
   "execution_count": 65,
   "metadata": {},
   "outputs": [
    {
     "data": {
      "image/png": "[encoded data removed]",
      "text/plain": [
       "<Figure size 864x648 with 1 Axes>"
      ]
     },
     "metadata": {},
     "output_type": "display_data"
    }
   ],
   "source": [
    "customer_data[(customer_data['visits'] <= 15) & filter_new]['visits'].hist(bins=15)\n",
    "plt.title('Число посещений реальных пользователей (< 15)')\n",
    "plt.xlabel('Число посещений')\n",
    "plt.ylabel('Число пользователей');"
   ]
  },
  {
   "cell_type": "code",
   "execution_count": 66,
   "metadata": {},
   "outputs": [
    {
     "name": "stdout",
     "output_type": "stream",
     "text": [
      "\n",
      "Доля лояльных известных пользователей: 0.34\n",
      "Доля покупок лояльных пользователей: 0.22\n",
      "\n"
     ]
    }
   ],
   "source": [
    "print(f'''\n",
    "Доля лояльных известных пользователей: {customer_data[filter_new]['is_loyal'].mean():.2f}\n",
    "Доля покупок лояльных пользователей: {data['is_loyal'].mean():.2f}\n",
    "''')"
   ]
  },
  {
   "cell_type": "markdown",
   "metadata": {},
   "source": [
    "1. Среди покупателей (правда, с учетом \"искусственных\") в наших магазинах есть достаточно много возвращающихся - меньше четверти посещали в интересующий нас период наши магазины меньше трех раз, медианное число визитов - 10. При этом есть несколько покупателей, совершающих покупки очень часто - максимум равен 46. Такие пользователи купили гораздо больше товаров, чем прочие, с рекордом в 754 позиции при медианном значении в 10 позиций. \n",
    "2. Если рассматривать только \"реальных\" пользователей, то видно, что наиболее часто они посещают магазин единожды, число пользователей плавно убывает примерно до 10 визитов, большие значения крайне редки. \n",
    "3. Число покупок так имеет имеет максимум на 1, однако оно убывает не плавно, мы видим, например, локальный максимум в районе 10-15 значений. \n",
    "4. Больше 75% посещают единственный магазин, даже если совершают очень много покупок.\n",
    "5. Доля лояльных пользователей среди известных - 34%, при этом на них приходится 22% покупок, что объясняется большим количеством покупок \"нелояльных\" неизвестных пользователей.  \n",
    "\n",
    "На следующем этапе работы расчитаем основные метрики и сравним их значения для разных магазинов."
   ]
  },
  {
   "cell_type": "markdown",
   "metadata": {},
   "source": [
    "---"
   ]
  },
  {
   "cell_type": "markdown",
   "metadata": {},
   "source": [
    "[Наверх](#contents)"
   ]
  },
  {
   "cell_type": "markdown",
   "metadata": {},
   "source": [
    "---"
   ]
  },
  {
   "cell_type": "markdown",
   "metadata": {},
   "source": [
    "## 3. Расчет основных метрик и сравнение магазинов <a id='metrics'></a>"
   ]
  },
  {
   "cell_type": "markdown",
   "metadata": {},
   "source": [
    "### Расчет среднего чека"
   ]
  },
  {
   "cell_type": "markdown",
   "metadata": {},
   "source": [
    "Рассчитаем сумму каждого чека, объединив данные покупок с одинаковыми ID покупателя и временем."
   ]
  },
  {
   "cell_type": "code",
   "execution_count": 67,
   "metadata": {},
   "outputs": [],
   "source": [
    "checks_data = data.pivot_table(index=['customer_id', 'purchase_dt'], aggfunc={\n",
    "    'quantity': 'count',\n",
    "    'shop_id': 'first',\n",
    "    'is_loyal': 'first',\n",
    "    'date': 'first',\n",
    "    'price': 'sum'\n",
    "})"
   ]
  },
  {
   "cell_type": "code",
   "execution_count": 68,
   "metadata": {},
   "outputs": [
    {
     "data": {
      "text/html": [
       "<div>\n",
       "<style scoped>\n",
       "    .dataframe tbody tr th:only-of-type {\n",
       "        vertical-align: middle;\n",
       "    }\n",
       "\n",
       "    .dataframe tbody tr th {\n",
       "        vertical-align: top;\n",
       "    }\n",
       "\n",
       "    .dataframe thead th {\n",
       "        text-align: right;\n",
       "    }\n",
       "</style>\n",
       "<table border=\"1\" class=\"dataframe\">\n",
       "  <thead>\n",
       "    <tr style=\"text-align: right;\">\n",
       "      <th></th>\n",
       "      <th></th>\n",
       "      <th>date</th>\n",
       "      <th>is_loyal</th>\n",
       "      <th>price</th>\n",
       "      <th>quantity</th>\n",
       "      <th>shop_id</th>\n",
       "    </tr>\n",
       "    <tr>\n",
       "      <th>customer_id</th>\n",
       "      <th>purchase_dt</th>\n",
       "      <th></th>\n",
       "      <th></th>\n",
       "      <th></th>\n",
       "      <th></th>\n",
       "      <th></th>\n",
       "    </tr>\n",
       "  </thead>\n",
       "  <tbody>\n",
       "    <tr>\n",
       "      <th rowspan=\"2\" valign=\"top\">18026.0</th>\n",
       "      <th>2016-12-07 14:57:00</th>\n",
       "      <td>2016-12-07</td>\n",
       "      <td>0.0</td>\n",
       "      <td>742.255</td>\n",
       "      <td>27</td>\n",
       "      <td>Shop 15</td>\n",
       "    </tr>\n",
       "    <tr>\n",
       "      <th>2017-01-26 14:30:00</th>\n",
       "      <td>2017-01-26</td>\n",
       "      <td>0.0</td>\n",
       "      <td>687.105</td>\n",
       "      <td>27</td>\n",
       "      <td>Shop 15</td>\n",
       "    </tr>\n",
       "    <tr>\n",
       "      <th rowspan=\"2\" valign=\"top\">18027.0</th>\n",
       "      <th>2016-12-16 19:09:00</th>\n",
       "      <td>2016-12-16</td>\n",
       "      <td>0.0</td>\n",
       "      <td>151.200</td>\n",
       "      <td>5</td>\n",
       "      <td>Shop 22</td>\n",
       "    </tr>\n",
       "    <tr>\n",
       "      <th>2017-01-25 10:42:00</th>\n",
       "      <td>2017-01-25</td>\n",
       "      <td>0.0</td>\n",
       "      <td>43.110</td>\n",
       "      <td>2</td>\n",
       "      <td>Shop 22</td>\n",
       "    </tr>\n",
       "    <tr>\n",
       "      <th>18029.0</th>\n",
       "      <th>2017-02-02 16:01:00</th>\n",
       "      <td>2017-02-02</td>\n",
       "      <td>0.0</td>\n",
       "      <td>434.830</td>\n",
       "      <td>17</td>\n",
       "      <td>Shop 5</td>\n",
       "    </tr>\n",
       "    <tr>\n",
       "      <th>...</th>\n",
       "      <th>...</th>\n",
       "      <td>...</td>\n",
       "      <td>...</td>\n",
       "      <td>...</td>\n",
       "      <td>...</td>\n",
       "      <td>...</td>\n",
       "    </tr>\n",
       "    <tr>\n",
       "      <th rowspan=\"5\" valign=\"top\">new03499</th>\n",
       "      <th>2017-01-05 11:30:00</th>\n",
       "      <td>2017-01-05</td>\n",
       "      <td>0.0</td>\n",
       "      <td>2.520</td>\n",
       "      <td>1</td>\n",
       "      <td>Shop 0</td>\n",
       "    </tr>\n",
       "    <tr>\n",
       "      <th>2017-01-10 16:25:00</th>\n",
       "      <td>2017-01-10</td>\n",
       "      <td>0.0</td>\n",
       "      <td>2.500</td>\n",
       "      <td>1</td>\n",
       "      <td>Shop 0</td>\n",
       "    </tr>\n",
       "    <tr>\n",
       "      <th>2017-01-17 17:44:00</th>\n",
       "      <td>2017-01-17</td>\n",
       "      <td>0.0</td>\n",
       "      <td>3.720</td>\n",
       "      <td>1</td>\n",
       "      <td>Shop 0</td>\n",
       "    </tr>\n",
       "    <tr>\n",
       "      <th>2017-02-16 15:56:00</th>\n",
       "      <td>2017-02-16</td>\n",
       "      <td>0.0</td>\n",
       "      <td>13.160</td>\n",
       "      <td>1</td>\n",
       "      <td>Shop 0</td>\n",
       "    </tr>\n",
       "    <tr>\n",
       "      <th>2017-02-28 16:50:00</th>\n",
       "      <td>2017-02-28</td>\n",
       "      <td>0.0</td>\n",
       "      <td>23.740</td>\n",
       "      <td>1</td>\n",
       "      <td>Shop 0</td>\n",
       "    </tr>\n",
       "  </tbody>\n",
       "</table>\n",
       "<p>37515 rows × 5 columns</p>\n",
       "</div>"
      ],
      "text/plain": [
       "                                       date  is_loyal    price  quantity  \\\n",
       "customer_id purchase_dt                                                    \n",
       "18026.0     2016-12-07 14:57:00  2016-12-07       0.0  742.255        27   \n",
       "            2017-01-26 14:30:00  2017-01-26       0.0  687.105        27   \n",
       "18027.0     2016-12-16 19:09:00  2016-12-16       0.0  151.200         5   \n",
       "            2017-01-25 10:42:00  2017-01-25       0.0   43.110         2   \n",
       "18029.0     2017-02-02 16:01:00  2017-02-02       0.0  434.830        17   \n",
       "...                                     ...       ...      ...       ...   \n",
       "new03499    2017-01-05 11:30:00  2017-01-05       0.0    2.520         1   \n",
       "            2017-01-10 16:25:00  2017-01-10       0.0    2.500         1   \n",
       "            2017-01-17 17:44:00  2017-01-17       0.0    3.720         1   \n",
       "            2017-02-16 15:56:00  2017-02-16       0.0   13.160         1   \n",
       "            2017-02-28 16:50:00  2017-02-28       0.0   23.740         1   \n",
       "\n",
       "                                 shop_id  \n",
       "customer_id purchase_dt                   \n",
       "18026.0     2016-12-07 14:57:00  Shop 15  \n",
       "            2017-01-26 14:30:00  Shop 15  \n",
       "18027.0     2016-12-16 19:09:00  Shop 22  \n",
       "            2017-01-25 10:42:00  Shop 22  \n",
       "18029.0     2017-02-02 16:01:00   Shop 5  \n",
       "...                                  ...  \n",
       "new03499    2017-01-05 11:30:00   Shop 0  \n",
       "            2017-01-10 16:25:00   Shop 0  \n",
       "            2017-01-17 17:44:00   Shop 0  \n",
       "            2017-02-16 15:56:00   Shop 0  \n",
       "            2017-02-28 16:50:00   Shop 0  \n",
       "\n",
       "[37515 rows x 5 columns]"
      ]
     },
     "execution_count": 68,
     "metadata": {},
     "output_type": "execute_result"
    }
   ],
   "source": [
    "checks_data"
   ]
  },
  {
   "cell_type": "code",
   "execution_count": 69,
   "metadata": {},
   "outputs": [],
   "source": [
    "checks_no_refund = checks_data[checks_data['price'] > 0]"
   ]
  },
  {
   "cell_type": "code",
   "execution_count": 70,
   "metadata": {},
   "outputs": [
    {
     "data": {
      "text/html": [
       "<div>\n",
       "<style scoped>\n",
       "    .dataframe tbody tr th:only-of-type {\n",
       "        vertical-align: middle;\n",
       "    }\n",
       "\n",
       "    .dataframe tbody tr th {\n",
       "        vertical-align: top;\n",
       "    }\n",
       "\n",
       "    .dataframe thead th {\n",
       "        text-align: right;\n",
       "    }\n",
       "</style>\n",
       "<table border=\"1\" class=\"dataframe\">\n",
       "  <thead>\n",
       "    <tr style=\"text-align: right;\">\n",
       "      <th></th>\n",
       "      <th>is_loyal</th>\n",
       "      <th>price</th>\n",
       "      <th>quantity</th>\n",
       "    </tr>\n",
       "  </thead>\n",
       "  <tbody>\n",
       "    <tr>\n",
       "      <th>count</th>\n",
       "      <td>36662.000000</td>\n",
       "      <td>36662.000000</td>\n",
       "      <td>36662.000000</td>\n",
       "    </tr>\n",
       "    <tr>\n",
       "      <th>mean</th>\n",
       "      <td>0.027685</td>\n",
       "      <td>34.043671</td>\n",
       "      <td>2.550543</td>\n",
       "    </tr>\n",
       "    <tr>\n",
       "      <th>std</th>\n",
       "      <td>0.164072</td>\n",
       "      <td>124.809478</td>\n",
       "      <td>7.517130</td>\n",
       "    </tr>\n",
       "    <tr>\n",
       "      <th>min</th>\n",
       "      <td>0.000000</td>\n",
       "      <td>0.180000</td>\n",
       "      <td>1.000000</td>\n",
       "    </tr>\n",
       "    <tr>\n",
       "      <th>25%</th>\n",
       "      <td>0.000000</td>\n",
       "      <td>2.500000</td>\n",
       "      <td>1.000000</td>\n",
       "    </tr>\n",
       "    <tr>\n",
       "      <th>50%</th>\n",
       "      <td>0.000000</td>\n",
       "      <td>4.970000</td>\n",
       "      <td>1.000000</td>\n",
       "    </tr>\n",
       "    <tr>\n",
       "      <th>75%</th>\n",
       "      <td>0.000000</td>\n",
       "      <td>11.500000</td>\n",
       "      <td>1.000000</td>\n",
       "    </tr>\n",
       "    <tr>\n",
       "      <th>max</th>\n",
       "      <td>1.000000</td>\n",
       "      <td>3653.200000</td>\n",
       "      <td>242.000000</td>\n",
       "    </tr>\n",
       "  </tbody>\n",
       "</table>\n",
       "</div>"
      ],
      "text/plain": [
       "           is_loyal         price      quantity\n",
       "count  36662.000000  36662.000000  36662.000000\n",
       "mean       0.027685     34.043671      2.550543\n",
       "std        0.164072    124.809478      7.517130\n",
       "min        0.000000      0.180000      1.000000\n",
       "25%        0.000000      2.500000      1.000000\n",
       "50%        0.000000      4.970000      1.000000\n",
       "75%        0.000000     11.500000      1.000000\n",
       "max        1.000000   3653.200000    242.000000"
      ]
     },
     "execution_count": 70,
     "metadata": {},
     "output_type": "execute_result"
    }
   ],
   "source": [
    "checks_no_refund.describe()"
   ]
  },
  {
   "cell_type": "code",
   "execution_count": 71,
   "metadata": {},
   "outputs": [
    {
     "data": {
      "image/png": "[encoded data removed]",
      "text/plain": [
       "<Figure size 864x648 with 1 Axes>"
      ]
     },
     "metadata": {},
     "output_type": "display_data"
    }
   ],
   "source": [
    "checks_no_refund[checks_data['price'] < 100]['price'].hist(bins=30)\n",
    "plt.title('Распределение чеков по сумме (< 100)')\n",
    "plt.xlabel('Сумма чека')\n",
    "plt.ylabel('Количество чеков');"
   ]
  },
  {
   "cell_type": "code",
   "execution_count": 72,
   "metadata": {},
   "outputs": [
    {
     "data": {
      "image/png": "[encoded data removed]",
      "text/plain": [
       "<Figure size 864x648 with 1 Axes>"
      ]
     },
     "metadata": {},
     "output_type": "display_data"
    }
   ],
   "source": [
    "checks_no_refund[checks_data['quantity'] <= 10]['quantity'].hist(bins=10)\n",
    "plt.title('Распределение чеков по глубинее (< 10)')\n",
    "plt.xlabel('Глубина чека')\n",
    "plt.ylabel('Количество чеков');"
   ]
  },
  {
   "cell_type": "markdown",
   "metadata": {},
   "source": [
    "Абсолютное большинство чеков состоят из одной позиции, число чеков даже с тремя покупками очень мало, хотя есть и выбросы вплоть до 244 позиций. Медианная сумма чека - 5, средняя - 34. Значения сильно разбросаны, при преобладании небольших покупок есть чеки в 3.6 тыс. у.е. "
   ]
  },
  {
   "cell_type": "markdown",
   "metadata": {},
   "source": [
    "### Сравнение магазинов"
   ]
  },
  {
   "cell_type": "code",
   "execution_count": 73,
   "metadata": {},
   "outputs": [],
   "source": [
    "shops_compare = data.groupby('shop_id').agg({\n",
    "    'customer_id': 'nunique',\n",
    "    'purchase_dt': 'count',\n",
    "    'price': 'mean',\n",
    "    'quantity': 'mean',\n",
    "    'is_loyal': 'mean'\n",
    "}).sort_values('purchase_dt', ascending=False)"
   ]
  },
  {
   "cell_type": "code",
   "execution_count": 74,
   "metadata": {
    "scrolled": true
   },
   "outputs": [
    {
     "data": {
      "text/html": [
       "<div>\n",
       "<style scoped>\n",
       "    .dataframe tbody tr th:only-of-type {\n",
       "        vertical-align: middle;\n",
       "    }\n",
       "\n",
       "    .dataframe tbody tr th {\n",
       "        vertical-align: top;\n",
       "    }\n",
       "\n",
       "    .dataframe thead th {\n",
       "        text-align: right;\n",
       "    }\n",
       "</style>\n",
       "<table border=\"1\" class=\"dataframe\">\n",
       "  <thead>\n",
       "    <tr style=\"text-align: right;\">\n",
       "      <th></th>\n",
       "      <th>customer_id</th>\n",
       "      <th>purchase_dt</th>\n",
       "      <th>price</th>\n",
       "      <th>quantity</th>\n",
       "      <th>is_loyal</th>\n",
       "    </tr>\n",
       "    <tr>\n",
       "      <th>shop_id</th>\n",
       "      <th></th>\n",
       "      <th></th>\n",
       "      <th></th>\n",
       "      <th></th>\n",
       "      <th></th>\n",
       "    </tr>\n",
       "  </thead>\n",
       "  <tbody>\n",
       "    <tr>\n",
       "      <th>Shop 0</th>\n",
       "      <td>4975</td>\n",
       "      <td>89149</td>\n",
       "      <td>12.167589</td>\n",
       "      <td>4.758887</td>\n",
       "      <td>0.237726</td>\n",
       "    </tr>\n",
       "    <tr>\n",
       "      <th>Shop 4</th>\n",
       "      <td>43</td>\n",
       "      <td>1498</td>\n",
       "      <td>20.675838</td>\n",
       "      <td>9.288385</td>\n",
       "      <td>0.000000</td>\n",
       "    </tr>\n",
       "    <tr>\n",
       "      <th>Shop 1</th>\n",
       "      <td>37</td>\n",
       "      <td>1327</td>\n",
       "      <td>23.558843</td>\n",
       "      <td>10.123587</td>\n",
       "      <td>0.000000</td>\n",
       "    </tr>\n",
       "    <tr>\n",
       "      <th>Shop 6</th>\n",
       "      <td>103</td>\n",
       "      <td>791</td>\n",
       "      <td>21.619817</td>\n",
       "      <td>7.624526</td>\n",
       "      <td>0.000000</td>\n",
       "    </tr>\n",
       "    <tr>\n",
       "      <th>Shop 8</th>\n",
       "      <td>11</td>\n",
       "      <td>518</td>\n",
       "      <td>19.709073</td>\n",
       "      <td>7.054054</td>\n",
       "      <td>0.119691</td>\n",
       "    </tr>\n",
       "    <tr>\n",
       "      <th>Shop 12</th>\n",
       "      <td>10</td>\n",
       "      <td>258</td>\n",
       "      <td>23.527287</td>\n",
       "      <td>10.930233</td>\n",
       "      <td>0.000000</td>\n",
       "    </tr>\n",
       "    <tr>\n",
       "      <th>Shop 7</th>\n",
       "      <td>7</td>\n",
       "      <td>253</td>\n",
       "      <td>25.019368</td>\n",
       "      <td>11.679842</td>\n",
       "      <td>0.000000</td>\n",
       "    </tr>\n",
       "    <tr>\n",
       "      <th>Shop 10</th>\n",
       "      <td>8</td>\n",
       "      <td>252</td>\n",
       "      <td>26.120397</td>\n",
       "      <td>8.932540</td>\n",
       "      <td>0.000000</td>\n",
       "    </tr>\n",
       "    <tr>\n",
       "      <th>Shop 18</th>\n",
       "      <td>5</td>\n",
       "      <td>217</td>\n",
       "      <td>21.721682</td>\n",
       "      <td>7.391705</td>\n",
       "      <td>0.000000</td>\n",
       "    </tr>\n",
       "    <tr>\n",
       "      <th>Shop 11</th>\n",
       "      <td>7</td>\n",
       "      <td>153</td>\n",
       "      <td>23.758301</td>\n",
       "      <td>8.143791</td>\n",
       "      <td>0.000000</td>\n",
       "    </tr>\n",
       "    <tr>\n",
       "      <th>Shop 5</th>\n",
       "      <td>3</td>\n",
       "      <td>150</td>\n",
       "      <td>28.741300</td>\n",
       "      <td>19.166667</td>\n",
       "      <td>0.000000</td>\n",
       "    </tr>\n",
       "    <tr>\n",
       "      <th>Shop 2</th>\n",
       "      <td>8</td>\n",
       "      <td>111</td>\n",
       "      <td>26.839550</td>\n",
       "      <td>8.828829</td>\n",
       "      <td>0.000000</td>\n",
       "    </tr>\n",
       "    <tr>\n",
       "      <th>Shop 3</th>\n",
       "      <td>4</td>\n",
       "      <td>107</td>\n",
       "      <td>25.845234</td>\n",
       "      <td>24.672897</td>\n",
       "      <td>0.000000</td>\n",
       "    </tr>\n",
       "    <tr>\n",
       "      <th>Shop 14</th>\n",
       "      <td>3</td>\n",
       "      <td>67</td>\n",
       "      <td>13.264776</td>\n",
       "      <td>15.164179</td>\n",
       "      <td>0.000000</td>\n",
       "    </tr>\n",
       "    <tr>\n",
       "      <th>Shop 15</th>\n",
       "      <td>1</td>\n",
       "      <td>54</td>\n",
       "      <td>26.469630</td>\n",
       "      <td>9.518519</td>\n",
       "      <td>0.000000</td>\n",
       "    </tr>\n",
       "    <tr>\n",
       "      <th>Shop 9</th>\n",
       "      <td>2</td>\n",
       "      <td>49</td>\n",
       "      <td>25.800408</td>\n",
       "      <td>9.428571</td>\n",
       "      <td>0.000000</td>\n",
       "    </tr>\n",
       "    <tr>\n",
       "      <th>Shop 16</th>\n",
       "      <td>2</td>\n",
       "      <td>45</td>\n",
       "      <td>24.244222</td>\n",
       "      <td>7.177778</td>\n",
       "      <td>0.000000</td>\n",
       "    </tr>\n",
       "    <tr>\n",
       "      <th>Shop 26</th>\n",
       "      <td>1</td>\n",
       "      <td>38</td>\n",
       "      <td>28.075526</td>\n",
       "      <td>16.368421</td>\n",
       "      <td>0.000000</td>\n",
       "    </tr>\n",
       "    <tr>\n",
       "      <th>Shop 25</th>\n",
       "      <td>29</td>\n",
       "      <td>29</td>\n",
       "      <td>26.986207</td>\n",
       "      <td>15.241379</td>\n",
       "      <td>0.000000</td>\n",
       "    </tr>\n",
       "    <tr>\n",
       "      <th>Shop 27</th>\n",
       "      <td>1</td>\n",
       "      <td>28</td>\n",
       "      <td>28.632143</td>\n",
       "      <td>8.535714</td>\n",
       "      <td>0.000000</td>\n",
       "    </tr>\n",
       "    <tr>\n",
       "      <th>Shop 19</th>\n",
       "      <td>3</td>\n",
       "      <td>26</td>\n",
       "      <td>26.170385</td>\n",
       "      <td>15.346154</td>\n",
       "      <td>0.307692</td>\n",
       "    </tr>\n",
       "    <tr>\n",
       "      <th>Shop 28</th>\n",
       "      <td>1</td>\n",
       "      <td>25</td>\n",
       "      <td>34.257600</td>\n",
       "      <td>11.680000</td>\n",
       "      <td>1.000000</td>\n",
       "    </tr>\n",
       "    <tr>\n",
       "      <th>Shop 17</th>\n",
       "      <td>2</td>\n",
       "      <td>24</td>\n",
       "      <td>26.452500</td>\n",
       "      <td>11.750000</td>\n",
       "      <td>0.000000</td>\n",
       "    </tr>\n",
       "    <tr>\n",
       "      <th>Shop 20</th>\n",
       "      <td>4</td>\n",
       "      <td>23</td>\n",
       "      <td>25.327391</td>\n",
       "      <td>8.565217</td>\n",
       "      <td>0.000000</td>\n",
       "    </tr>\n",
       "    <tr>\n",
       "      <th>Shop 21</th>\n",
       "      <td>13</td>\n",
       "      <td>22</td>\n",
       "      <td>29.860000</td>\n",
       "      <td>9.909091</td>\n",
       "      <td>0.000000</td>\n",
       "    </tr>\n",
       "    <tr>\n",
       "      <th>Shop 22</th>\n",
       "      <td>3</td>\n",
       "      <td>21</td>\n",
       "      <td>24.347619</td>\n",
       "      <td>16.285714</td>\n",
       "      <td>0.000000</td>\n",
       "    </tr>\n",
       "    <tr>\n",
       "      <th>Shop 13</th>\n",
       "      <td>1</td>\n",
       "      <td>13</td>\n",
       "      <td>33.403077</td>\n",
       "      <td>12.153846</td>\n",
       "      <td>0.000000</td>\n",
       "    </tr>\n",
       "    <tr>\n",
       "      <th>Shop 29</th>\n",
       "      <td>1</td>\n",
       "      <td>9</td>\n",
       "      <td>26.547778</td>\n",
       "      <td>8.888889</td>\n",
       "      <td>0.000000</td>\n",
       "    </tr>\n",
       "    <tr>\n",
       "      <th>Shop 30</th>\n",
       "      <td>1</td>\n",
       "      <td>9</td>\n",
       "      <td>35.884444</td>\n",
       "      <td>26.222222</td>\n",
       "      <td>0.000000</td>\n",
       "    </tr>\n",
       "    <tr>\n",
       "      <th>Shop 24</th>\n",
       "      <td>1</td>\n",
       "      <td>3</td>\n",
       "      <td>23.873333</td>\n",
       "      <td>5.333333</td>\n",
       "      <td>0.000000</td>\n",
       "    </tr>\n",
       "  </tbody>\n",
       "</table>\n",
       "</div>"
      ],
      "text/plain": [
       "         customer_id  purchase_dt      price   quantity  is_loyal\n",
       "shop_id                                                          \n",
       "Shop 0          4975        89149  12.167589   4.758887  0.237726\n",
       "Shop 4            43         1498  20.675838   9.288385  0.000000\n",
       "Shop 1            37         1327  23.558843  10.123587  0.000000\n",
       "Shop 6           103          791  21.619817   7.624526  0.000000\n",
       "Shop 8            11          518  19.709073   7.054054  0.119691\n",
       "Shop 12           10          258  23.527287  10.930233  0.000000\n",
       "Shop 7             7          253  25.019368  11.679842  0.000000\n",
       "Shop 10            8          252  26.120397   8.932540  0.000000\n",
       "Shop 18            5          217  21.721682   7.391705  0.000000\n",
       "Shop 11            7          153  23.758301   8.143791  0.000000\n",
       "Shop 5             3          150  28.741300  19.166667  0.000000\n",
       "Shop 2             8          111  26.839550   8.828829  0.000000\n",
       "Shop 3             4          107  25.845234  24.672897  0.000000\n",
       "Shop 14            3           67  13.264776  15.164179  0.000000\n",
       "Shop 15            1           54  26.469630   9.518519  0.000000\n",
       "Shop 9             2           49  25.800408   9.428571  0.000000\n",
       "Shop 16            2           45  24.244222   7.177778  0.000000\n",
       "Shop 26            1           38  28.075526  16.368421  0.000000\n",
       "Shop 25           29           29  26.986207  15.241379  0.000000\n",
       "Shop 27            1           28  28.632143   8.535714  0.000000\n",
       "Shop 19            3           26  26.170385  15.346154  0.307692\n",
       "Shop 28            1           25  34.257600  11.680000  1.000000\n",
       "Shop 17            2           24  26.452500  11.750000  0.000000\n",
       "Shop 20            4           23  25.327391   8.565217  0.000000\n",
       "Shop 21           13           22  29.860000   9.909091  0.000000\n",
       "Shop 22            3           21  24.347619  16.285714  0.000000\n",
       "Shop 13            1           13  33.403077  12.153846  0.000000\n",
       "Shop 29            1            9  26.547778   8.888889  0.000000\n",
       "Shop 30            1            9  35.884444  26.222222  0.000000\n",
       "Shop 24            1            3  23.873333   5.333333  0.000000"
      ]
     },
     "execution_count": 74,
     "metadata": {},
     "output_type": "execute_result"
    }
   ],
   "source": [
    "shops_compare"
   ]
  },
  {
   "cell_type": "markdown",
   "metadata": {},
   "source": [
    "Магазин Shop 0 отличается от всех прочих: для него больше всего записей, при этом средние сумма глубина чека здесь, кажется, меньше, чем в прочих магазинах, а также здесь, как мы помним по предобработке, больше всего нулей. Поэтому в дальнейшем сравнении и для релевантности статистических тестов мы будем сравнивать две группы: Shop 0 и прочие в совокупности."
   ]
  },
  {
   "cell_type": "code",
   "execution_count": 75,
   "metadata": {},
   "outputs": [],
   "source": [
    "data['shop_category'] = 'Other'\n",
    "data.loc[data['shop_id'] == 'Shop 0', 'shop_category'] = 'Shop 0'"
   ]
  },
  {
   "cell_type": "code",
   "execution_count": 76,
   "metadata": {},
   "outputs": [],
   "source": [
    "shops_by_categories = data.groupby('shop_category').agg({\n",
    "    'customer_id': 'nunique',\n",
    "    'purchase_dt': 'count',\n",
    "    'price': 'sum'\n",
    "}).sort_values('purchase_dt', ascending=False)"
   ]
  },
  {
   "cell_type": "code",
   "execution_count": 77,
   "metadata": {},
   "outputs": [
    {
     "data": {
      "text/html": [
       "<div>\n",
       "<style scoped>\n",
       "    .dataframe tbody tr th:only-of-type {\n",
       "        vertical-align: middle;\n",
       "    }\n",
       "\n",
       "    .dataframe tbody tr th {\n",
       "        vertical-align: top;\n",
       "    }\n",
       "\n",
       "    .dataframe thead th {\n",
       "        text-align: right;\n",
       "    }\n",
       "</style>\n",
       "<table border=\"1\" class=\"dataframe\">\n",
       "  <thead>\n",
       "    <tr style=\"text-align: right;\">\n",
       "      <th></th>\n",
       "      <th>customer_id</th>\n",
       "      <th>purchase_dt</th>\n",
       "      <th>price</th>\n",
       "    </tr>\n",
       "    <tr>\n",
       "      <th>shop_category</th>\n",
       "      <th></th>\n",
       "      <th></th>\n",
       "      <th></th>\n",
       "    </tr>\n",
       "  </thead>\n",
       "  <tbody>\n",
       "    <tr>\n",
       "      <th>Shop 0</th>\n",
       "      <td>4975</td>\n",
       "      <td>89149</td>\n",
       "      <td>1084728.415</td>\n",
       "    </tr>\n",
       "    <tr>\n",
       "      <th>Other</th>\n",
       "      <td>311</td>\n",
       "      <td>6120</td>\n",
       "      <td>139247.005</td>\n",
       "    </tr>\n",
       "  </tbody>\n",
       "</table>\n",
       "</div>"
      ],
      "text/plain": [
       "               customer_id  purchase_dt        price\n",
       "shop_category                                       \n",
       "Shop 0                4975        89149  1084728.415\n",
       "Other                  311         6120   139247.005"
      ]
     },
     "execution_count": 77,
     "metadata": {},
     "output_type": "execute_result"
    }
   ],
   "source": [
    "shops_by_categories"
   ]
  },
  {
   "cell_type": "code",
   "execution_count": 78,
   "metadata": {},
   "outputs": [
    {
     "data": {
      "image/png": "[encoded data removed]",
      "text/plain": [
       "<Figure size 864x648 with 1 Axes>"
      ]
     },
     "metadata": {},
     "output_type": "display_data"
    }
   ],
   "source": [
    "shops_by_categories['price'].plot(kind='pie', autopct='%1.1f%%')\n",
    "plt.title('Доля магазина 0 и прочих магазинах (выручка)')\n",
    "plt.ylabel('')\n",
    "plt.legend();"
   ]
  },
  {
   "cell_type": "markdown",
   "metadata": {},
   "source": [
    "88.6% выручки создается магазином 0. На основе очищенных данных о средних чеках выше рассчитаем, какова величина среднего чека в большом магазине и в мелких. "
   ]
  },
  {
   "cell_type": "code",
   "execution_count": 79,
   "metadata": {},
   "outputs": [],
   "source": [
    "checks_no_refund['shop_category'] = 'Other'\n",
    "checks_no_refund.loc[checks_no_refund['shop_id'] == 'Shop 0', 'shop_category'] = 'Shop 0'"
   ]
  },
  {
   "cell_type": "code",
   "execution_count": 80,
   "metadata": {},
   "outputs": [],
   "source": [
    "checks_by_shop = checks_no_refund.groupby('shop_category').agg({'price': 'mean', \n",
    "                                                'quantity': 'mean', 'date': 'count'}).reset_index()"
   ]
  },
  {
   "cell_type": "code",
   "execution_count": 81,
   "metadata": {},
   "outputs": [
    {
     "data": {
      "text/html": [
       "<div>\n",
       "<style scoped>\n",
       "    .dataframe tbody tr th:only-of-type {\n",
       "        vertical-align: middle;\n",
       "    }\n",
       "\n",
       "    .dataframe tbody tr th {\n",
       "        vertical-align: top;\n",
       "    }\n",
       "\n",
       "    .dataframe thead th {\n",
       "        text-align: right;\n",
       "    }\n",
       "</style>\n",
       "<table border=\"1\" class=\"dataframe\">\n",
       "  <thead>\n",
       "    <tr style=\"text-align: right;\">\n",
       "      <th></th>\n",
       "      <th>shop_category</th>\n",
       "      <th>price</th>\n",
       "      <th>quantity</th>\n",
       "      <th>date</th>\n",
       "    </tr>\n",
       "  </thead>\n",
       "  <tbody>\n",
       "    <tr>\n",
       "      <th>0</th>\n",
       "      <td>Other</td>\n",
       "      <td>320.122047</td>\n",
       "      <td>13.107383</td>\n",
       "      <td>447</td>\n",
       "    </tr>\n",
       "    <tr>\n",
       "      <th>1</th>\n",
       "      <td>Shop 0</td>\n",
       "      <td>30.512619</td>\n",
       "      <td>2.420240</td>\n",
       "      <td>36215</td>\n",
       "    </tr>\n",
       "  </tbody>\n",
       "</table>\n",
       "</div>"
      ],
      "text/plain": [
       "  shop_category       price   quantity   date\n",
       "0         Other  320.122047  13.107383    447\n",
       "1        Shop 0   30.512619   2.420240  36215"
      ]
     },
     "execution_count": 81,
     "metadata": {},
     "output_type": "execute_result"
    }
   ],
   "source": [
    "checks_by_shop"
   ]
  },
  {
   "cell_type": "markdown",
   "metadata": {},
   "source": [
    "Средняя величина и глубина чеков в Shop 0 меньше, однако является ли это различие значимым, мы сможем сказать только по результатам статистического теста. Для его подготовки разделим весь набор данных на две категории и проанализируем выбросы."
   ]
  },
  {
   "cell_type": "code",
   "execution_count": 82,
   "metadata": {},
   "outputs": [
    {
     "data": {
      "text/html": [
       "<div>\n",
       "<style scoped>\n",
       "    .dataframe tbody tr th:only-of-type {\n",
       "        vertical-align: middle;\n",
       "    }\n",
       "\n",
       "    .dataframe tbody tr th {\n",
       "        vertical-align: top;\n",
       "    }\n",
       "\n",
       "    .dataframe thead th {\n",
       "        text-align: right;\n",
       "    }\n",
       "</style>\n",
       "<table border=\"1\" class=\"dataframe\">\n",
       "  <thead>\n",
       "    <tr style=\"text-align: right;\">\n",
       "      <th></th>\n",
       "      <th>is_loyal</th>\n",
       "      <th>price</th>\n",
       "      <th>quantity</th>\n",
       "    </tr>\n",
       "  </thead>\n",
       "  <tbody>\n",
       "    <tr>\n",
       "      <th>count</th>\n",
       "      <td>36215.000000</td>\n",
       "      <td>36215.000000</td>\n",
       "      <td>36215.000000</td>\n",
       "    </tr>\n",
       "    <tr>\n",
       "      <th>mean</th>\n",
       "      <td>0.027917</td>\n",
       "      <td>30.512619</td>\n",
       "      <td>2.420240</td>\n",
       "    </tr>\n",
       "    <tr>\n",
       "      <th>std</th>\n",
       "      <td>0.164736</td>\n",
       "      <td>112.505262</td>\n",
       "      <td>7.205068</td>\n",
       "    </tr>\n",
       "    <tr>\n",
       "      <th>min</th>\n",
       "      <td>0.000000</td>\n",
       "      <td>0.180000</td>\n",
       "      <td>1.000000</td>\n",
       "    </tr>\n",
       "    <tr>\n",
       "      <th>25%</th>\n",
       "      <td>0.000000</td>\n",
       "      <td>2.490000</td>\n",
       "      <td>1.000000</td>\n",
       "    </tr>\n",
       "    <tr>\n",
       "      <th>50%</th>\n",
       "      <td>0.000000</td>\n",
       "      <td>4.960000</td>\n",
       "      <td>1.000000</td>\n",
       "    </tr>\n",
       "    <tr>\n",
       "      <th>75%</th>\n",
       "      <td>0.000000</td>\n",
       "      <td>11.040000</td>\n",
       "      <td>1.000000</td>\n",
       "    </tr>\n",
       "    <tr>\n",
       "      <th>max</th>\n",
       "      <td>1.000000</td>\n",
       "      <td>3653.200000</td>\n",
       "      <td>242.000000</td>\n",
       "    </tr>\n",
       "  </tbody>\n",
       "</table>\n",
       "</div>"
      ],
      "text/plain": [
       "           is_loyal         price      quantity\n",
       "count  36215.000000  36215.000000  36215.000000\n",
       "mean       0.027917     30.512619      2.420240\n",
       "std        0.164736    112.505262      7.205068\n",
       "min        0.000000      0.180000      1.000000\n",
       "25%        0.000000      2.490000      1.000000\n",
       "50%        0.000000      4.960000      1.000000\n",
       "75%        0.000000     11.040000      1.000000\n",
       "max        1.000000   3653.200000    242.000000"
      ]
     },
     "execution_count": 82,
     "metadata": {},
     "output_type": "execute_result"
    }
   ],
   "source": [
    "checks_0 = checks_no_refund[checks_no_refund['shop_category'] == 'Shop 0']\n",
    "checks_0.describe()"
   ]
  },
  {
   "cell_type": "code",
   "execution_count": 83,
   "metadata": {},
   "outputs": [
    {
     "data": {
      "image/png": "[encoded data removed]",
      "text/plain": [
       "<Figure size 864x648 with 1 Axes>"
      ]
     },
     "metadata": {},
     "output_type": "display_data"
    }
   ],
   "source": [
    "sns.violinplot(checks_0['price'])\n",
    "plt.title('Распределение суммы среднего чека в магазине 0')\n",
    "plt.xlabel('Цена');"
   ]
  },
  {
   "cell_type": "markdown",
   "metadata": {},
   "source": [
    "Распределение имеет очень тяжелый хвост, что не дает возможности применять параметрические тесты. Отсеим те значения, которые отличаются от среднего больше, чем на три стандарных отклонения."
   ]
  },
  {
   "cell_type": "code",
   "execution_count": 84,
   "metadata": {},
   "outputs": [
    {
     "data": {
      "text/plain": [
       "count    35363.000000\n",
       "mean        16.204292\n",
       "std         45.356965\n",
       "min          0.180000\n",
       "25%          2.485000\n",
       "50%          4.920000\n",
       "75%         10.020000\n",
       "max        367.415000\n",
       "Name: price, dtype: float64"
      ]
     },
     "execution_count": 84,
     "metadata": {},
     "output_type": "execute_result"
    }
   ],
   "source": [
    "price_0 = checks_0[checks_0['price'] <= checks_0['price'].mean()+3*checks_0['price'].std()]['price']\n",
    "price_0.describe()"
   ]
  },
  {
   "cell_type": "code",
   "execution_count": 85,
   "metadata": {},
   "outputs": [
    {
     "data": {
      "image/png": "[encoded data removed]",
      "text/plain": [
       "<Figure size 864x648 with 1 Axes>"
      ]
     },
     "metadata": {},
     "output_type": "display_data"
    }
   ],
   "source": [
    "depth_0 = checks_0['quantity']\n",
    "sns.violinplot(depth_0)\n",
    "plt.title('Распределение глубины среднего чека в магазине 0')\n",
    "plt.xlabel('Цена');"
   ]
  },
  {
   "cell_type": "markdown",
   "metadata": {},
   "source": [
    "И здесь отсеим знаения по тому же принципу."
   ]
  },
  {
   "cell_type": "code",
   "execution_count": 86,
   "metadata": {},
   "outputs": [
    {
     "data": {
      "text/plain": [
       "count    35472.000000\n",
       "mean         1.553873\n",
       "std          2.638485\n",
       "min          1.000000\n",
       "25%          1.000000\n",
       "50%          1.000000\n",
       "75%          1.000000\n",
       "max         24.000000\n",
       "Name: quantity, dtype: float64"
      ]
     },
     "execution_count": 86,
     "metadata": {},
     "output_type": "execute_result"
    }
   ],
   "source": [
    "depth_0 = depth_0[depth_0 <= depth_0.mean()+3*depth_0.std()]\n",
    "depth_0.describe()"
   ]
  },
  {
   "cell_type": "code",
   "execution_count": 87,
   "metadata": {},
   "outputs": [
    {
     "data": {
      "text/html": [
       "<div>\n",
       "<style scoped>\n",
       "    .dataframe tbody tr th:only-of-type {\n",
       "        vertical-align: middle;\n",
       "    }\n",
       "\n",
       "    .dataframe tbody tr th {\n",
       "        vertical-align: top;\n",
       "    }\n",
       "\n",
       "    .dataframe thead th {\n",
       "        text-align: right;\n",
       "    }\n",
       "</style>\n",
       "<table border=\"1\" class=\"dataframe\">\n",
       "  <thead>\n",
       "    <tr style=\"text-align: right;\">\n",
       "      <th></th>\n",
       "      <th>is_loyal</th>\n",
       "      <th>price</th>\n",
       "      <th>quantity</th>\n",
       "    </tr>\n",
       "  </thead>\n",
       "  <tbody>\n",
       "    <tr>\n",
       "      <th>count</th>\n",
       "      <td>447.000000</td>\n",
       "      <td>447.000000</td>\n",
       "      <td>447.000000</td>\n",
       "    </tr>\n",
       "    <tr>\n",
       "      <th>mean</th>\n",
       "      <td>0.008949</td>\n",
       "      <td>320.122047</td>\n",
       "      <td>13.107383</td>\n",
       "    </tr>\n",
       "    <tr>\n",
       "      <th>std</th>\n",
       "      <td>0.094278</td>\n",
       "      <td>411.909491</td>\n",
       "      <td>17.793210</td>\n",
       "    </tr>\n",
       "    <tr>\n",
       "      <th>min</th>\n",
       "      <td>0.000000</td>\n",
       "      <td>0.420000</td>\n",
       "      <td>1.000000</td>\n",
       "    </tr>\n",
       "    <tr>\n",
       "      <th>25%</th>\n",
       "      <td>0.000000</td>\n",
       "      <td>30.740000</td>\n",
       "      <td>1.000000</td>\n",
       "    </tr>\n",
       "    <tr>\n",
       "      <th>50%</th>\n",
       "      <td>0.000000</td>\n",
       "      <td>191.030000</td>\n",
       "      <td>8.000000</td>\n",
       "    </tr>\n",
       "    <tr>\n",
       "      <th>75%</th>\n",
       "      <td>0.000000</td>\n",
       "      <td>420.197500</td>\n",
       "      <td>16.500000</td>\n",
       "    </tr>\n",
       "    <tr>\n",
       "      <th>max</th>\n",
       "      <td>1.000000</td>\n",
       "      <td>3120.645000</td>\n",
       "      <td>148.000000</td>\n",
       "    </tr>\n",
       "  </tbody>\n",
       "</table>\n",
       "</div>"
      ],
      "text/plain": [
       "         is_loyal        price    quantity\n",
       "count  447.000000   447.000000  447.000000\n",
       "mean     0.008949   320.122047   13.107383\n",
       "std      0.094278   411.909491   17.793210\n",
       "min      0.000000     0.420000    1.000000\n",
       "25%      0.000000    30.740000    1.000000\n",
       "50%      0.000000   191.030000    8.000000\n",
       "75%      0.000000   420.197500   16.500000\n",
       "max      1.000000  3120.645000  148.000000"
      ]
     },
     "execution_count": 87,
     "metadata": {},
     "output_type": "execute_result"
    }
   ],
   "source": [
    "checks_other = checks_no_refund[checks_no_refund['shop_category'] == 'Other']\n",
    "price_other = checks_other['price']\n",
    "checks_other.describe()"
   ]
  },
  {
   "cell_type": "code",
   "execution_count": 88,
   "metadata": {},
   "outputs": [
    {
     "data": {
      "image/png": "[encoded data removed]",
      "text/plain": [
       "<Figure size 864x648 with 1 Axes>"
      ]
     },
     "metadata": {},
     "output_type": "display_data"
    }
   ],
   "source": [
    "sns.violinplot(price_other)\n",
    "plt.title('Распределение суммы среднего чека в прочих магазинах')\n",
    "plt.xlabel('Цена');"
   ]
  },
  {
   "cell_type": "code",
   "execution_count": 89,
   "metadata": {},
   "outputs": [
    {
     "data": {
      "image/png": "[encoded data removed]",
      "text/plain": [
       "<Figure size 864x648 with 1 Axes>"
      ]
     },
     "metadata": {},
     "output_type": "display_data"
    }
   ],
   "source": [
    "sns.violinplot(checks_other['quantity'])\n",
    "plt.title('Распределение глубины среднего чека в прочих магазинах')\n",
    "plt.xlabel('Цена');"
   ]
  },
  {
   "cell_type": "code",
   "execution_count": 90,
   "metadata": {},
   "outputs": [],
   "source": [
    "depth_other = checks_other['quantity']"
   ]
  },
  {
   "cell_type": "markdown",
   "metadata": {},
   "source": [
    "В прочих магазинов выбросов нет."
   ]
  },
  {
   "cell_type": "markdown",
   "metadata": {},
   "source": [
    "Еще два показателя, которые можно сравнить в разных магазинах, - это доля возврата и доля лояльных клиентов."
   ]
  },
  {
   "cell_type": "code",
   "execution_count": 91,
   "metadata": {},
   "outputs": [],
   "source": [
    "data['is_return'] = data.apply(lambda x: 1 if x['price'] < 0 else 0, axis=1)"
   ]
  },
  {
   "cell_type": "code",
   "execution_count": 92,
   "metadata": {},
   "outputs": [
    {
     "data": {
      "text/html": [
       "<div>\n",
       "<style scoped>\n",
       "    .dataframe tbody tr th:only-of-type {\n",
       "        vertical-align: middle;\n",
       "    }\n",
       "\n",
       "    .dataframe tbody tr th {\n",
       "        vertical-align: top;\n",
       "    }\n",
       "\n",
       "    .dataframe thead th {\n",
       "        text-align: right;\n",
       "    }\n",
       "</style>\n",
       "<table border=\"1\" class=\"dataframe\">\n",
       "  <thead>\n",
       "    <tr style=\"text-align: right;\">\n",
       "      <th></th>\n",
       "      <th>is_loyal</th>\n",
       "      <th>is_return</th>\n",
       "    </tr>\n",
       "    <tr>\n",
       "      <th>shop_category</th>\n",
       "      <th></th>\n",
       "      <th></th>\n",
       "    </tr>\n",
       "  </thead>\n",
       "  <tbody>\n",
       "    <tr>\n",
       "      <th>Other</th>\n",
       "      <td>0.015523</td>\n",
       "      <td>0.042810</td>\n",
       "    </tr>\n",
       "    <tr>\n",
       "      <th>Shop 0</th>\n",
       "      <td>0.237726</td>\n",
       "      <td>0.016276</td>\n",
       "    </tr>\n",
       "  </tbody>\n",
       "</table>\n",
       "</div>"
      ],
      "text/plain": [
       "               is_loyal  is_return\n",
       "shop_category                     \n",
       "Other          0.015523   0.042810\n",
       "Shop 0         0.237726   0.016276"
      ]
     },
     "execution_count": 92,
     "metadata": {},
     "output_type": "execute_result"
    }
   ],
   "source": [
    "loyal_and_return = data.groupby('shop_category').agg({'is_loyal': 'mean', 'is_return': 'mean'})\n",
    "loyal_and_return"
   ]
  },
  {
   "cell_type": "markdown",
   "metadata": {},
   "source": [
    "### Анализ лояльных пользователей в магазине 0"
   ]
  },
  {
   "cell_type": "markdown",
   "metadata": {},
   "source": [
    "Одно из характерных отличий магазина 0 - это большая доля участников программы лояльности, на которых приходится 24% покупок. Возможно, это влияет на выдающиеся показатели этого магазина. Посмотрим, как распределены продажи в этом магазине по трем категориям клиентов: участникам программы лояльности, известным покупателям, не участвующим в программе лояльности, и неизвестным покупателям."
   ]
  },
  {
   "cell_type": "code",
   "execution_count": 93,
   "metadata": {},
   "outputs": [],
   "source": [
    "checks_0.reset_index(inplace=True, level=[0, 1])"
   ]
  },
  {
   "cell_type": "code",
   "execution_count": 94,
   "metadata": {},
   "outputs": [
    {
     "data": {
      "text/html": [
       "<div>\n",
       "<style scoped>\n",
       "    .dataframe tbody tr th:only-of-type {\n",
       "        vertical-align: middle;\n",
       "    }\n",
       "\n",
       "    .dataframe tbody tr th {\n",
       "        vertical-align: top;\n",
       "    }\n",
       "\n",
       "    .dataframe thead th {\n",
       "        text-align: right;\n",
       "    }\n",
       "</style>\n",
       "<table border=\"1\" class=\"dataframe\">\n",
       "  <thead>\n",
       "    <tr style=\"text-align: right;\">\n",
       "      <th></th>\n",
       "      <th>customer_id</th>\n",
       "      <th>purchase_dt</th>\n",
       "      <th>date</th>\n",
       "      <th>is_loyal</th>\n",
       "      <th>price</th>\n",
       "      <th>quantity</th>\n",
       "      <th>shop_id</th>\n",
       "      <th>shop_category</th>\n",
       "    </tr>\n",
       "  </thead>\n",
       "  <tbody>\n",
       "    <tr>\n",
       "      <th>0</th>\n",
       "      <td>18426.0</td>\n",
       "      <td>2016-12-05 15:38:00</td>\n",
       "      <td>2016-12-05</td>\n",
       "      <td>0.0</td>\n",
       "      <td>183.59</td>\n",
       "      <td>5</td>\n",
       "      <td>Shop 0</td>\n",
       "      <td>Shop 0</td>\n",
       "    </tr>\n",
       "    <tr>\n",
       "      <th>1</th>\n",
       "      <td>18426.0</td>\n",
       "      <td>2016-12-13 10:41:00</td>\n",
       "      <td>2016-12-13</td>\n",
       "      <td>0.0</td>\n",
       "      <td>124.65</td>\n",
       "      <td>4</td>\n",
       "      <td>Shop 0</td>\n",
       "      <td>Shop 0</td>\n",
       "    </tr>\n",
       "    <tr>\n",
       "      <th>2</th>\n",
       "      <td>18426.0</td>\n",
       "      <td>2017-01-20 14:01:00</td>\n",
       "      <td>2017-01-20</td>\n",
       "      <td>0.0</td>\n",
       "      <td>60.12</td>\n",
       "      <td>2</td>\n",
       "      <td>Shop 0</td>\n",
       "      <td>Shop 0</td>\n",
       "    </tr>\n",
       "    <tr>\n",
       "      <th>3</th>\n",
       "      <td>18427.0</td>\n",
       "      <td>2016-12-01 12:48:00</td>\n",
       "      <td>2016-12-01</td>\n",
       "      <td>0.0</td>\n",
       "      <td>7.87</td>\n",
       "      <td>1</td>\n",
       "      <td>Shop 0</td>\n",
       "      <td>Shop 0</td>\n",
       "    </tr>\n",
       "    <tr>\n",
       "      <th>4</th>\n",
       "      <td>18427.0</td>\n",
       "      <td>2016-12-02 11:46:00</td>\n",
       "      <td>2016-12-02</td>\n",
       "      <td>0.0</td>\n",
       "      <td>8.29</td>\n",
       "      <td>1</td>\n",
       "      <td>Shop 0</td>\n",
       "      <td>Shop 0</td>\n",
       "    </tr>\n",
       "    <tr>\n",
       "      <th>...</th>\n",
       "      <td>...</td>\n",
       "      <td>...</td>\n",
       "      <td>...</td>\n",
       "      <td>...</td>\n",
       "      <td>...</td>\n",
       "      <td>...</td>\n",
       "      <td>...</td>\n",
       "      <td>...</td>\n",
       "    </tr>\n",
       "    <tr>\n",
       "      <th>36210</th>\n",
       "      <td>new03499</td>\n",
       "      <td>2017-01-05 11:30:00</td>\n",
       "      <td>2017-01-05</td>\n",
       "      <td>0.0</td>\n",
       "      <td>2.52</td>\n",
       "      <td>1</td>\n",
       "      <td>Shop 0</td>\n",
       "      <td>Shop 0</td>\n",
       "    </tr>\n",
       "    <tr>\n",
       "      <th>36211</th>\n",
       "      <td>new03499</td>\n",
       "      <td>2017-01-10 16:25:00</td>\n",
       "      <td>2017-01-10</td>\n",
       "      <td>0.0</td>\n",
       "      <td>2.50</td>\n",
       "      <td>1</td>\n",
       "      <td>Shop 0</td>\n",
       "      <td>Shop 0</td>\n",
       "    </tr>\n",
       "    <tr>\n",
       "      <th>36212</th>\n",
       "      <td>new03499</td>\n",
       "      <td>2017-01-17 17:44:00</td>\n",
       "      <td>2017-01-17</td>\n",
       "      <td>0.0</td>\n",
       "      <td>3.72</td>\n",
       "      <td>1</td>\n",
       "      <td>Shop 0</td>\n",
       "      <td>Shop 0</td>\n",
       "    </tr>\n",
       "    <tr>\n",
       "      <th>36213</th>\n",
       "      <td>new03499</td>\n",
       "      <td>2017-02-16 15:56:00</td>\n",
       "      <td>2017-02-16</td>\n",
       "      <td>0.0</td>\n",
       "      <td>13.16</td>\n",
       "      <td>1</td>\n",
       "      <td>Shop 0</td>\n",
       "      <td>Shop 0</td>\n",
       "    </tr>\n",
       "    <tr>\n",
       "      <th>36214</th>\n",
       "      <td>new03499</td>\n",
       "      <td>2017-02-28 16:50:00</td>\n",
       "      <td>2017-02-28</td>\n",
       "      <td>0.0</td>\n",
       "      <td>23.74</td>\n",
       "      <td>1</td>\n",
       "      <td>Shop 0</td>\n",
       "      <td>Shop 0</td>\n",
       "    </tr>\n",
       "  </tbody>\n",
       "</table>\n",
       "<p>36215 rows × 8 columns</p>\n",
       "</div>"
      ],
      "text/plain": [
       "      customer_id         purchase_dt        date  is_loyal   price  quantity  \\\n",
       "0         18426.0 2016-12-05 15:38:00  2016-12-05       0.0  183.59         5   \n",
       "1         18426.0 2016-12-13 10:41:00  2016-12-13       0.0  124.65         4   \n",
       "2         18426.0 2017-01-20 14:01:00  2017-01-20       0.0   60.12         2   \n",
       "3         18427.0 2016-12-01 12:48:00  2016-12-01       0.0    7.87         1   \n",
       "4         18427.0 2016-12-02 11:46:00  2016-12-02       0.0    8.29         1   \n",
       "...           ...                 ...         ...       ...     ...       ...   \n",
       "36210    new03499 2017-01-05 11:30:00  2017-01-05       0.0    2.52         1   \n",
       "36211    new03499 2017-01-10 16:25:00  2017-01-10       0.0    2.50         1   \n",
       "36212    new03499 2017-01-17 17:44:00  2017-01-17       0.0    3.72         1   \n",
       "36213    new03499 2017-02-16 15:56:00  2017-02-16       0.0   13.16         1   \n",
       "36214    new03499 2017-02-28 16:50:00  2017-02-28       0.0   23.74         1   \n",
       "\n",
       "      shop_id shop_category  \n",
       "0      Shop 0        Shop 0  \n",
       "1      Shop 0        Shop 0  \n",
       "2      Shop 0        Shop 0  \n",
       "3      Shop 0        Shop 0  \n",
       "4      Shop 0        Shop 0  \n",
       "...       ...           ...  \n",
       "36210  Shop 0        Shop 0  \n",
       "36211  Shop 0        Shop 0  \n",
       "36212  Shop 0        Shop 0  \n",
       "36213  Shop 0        Shop 0  \n",
       "36214  Shop 0        Shop 0  \n",
       "\n",
       "[36215 rows x 8 columns]"
      ]
     },
     "execution_count": 94,
     "metadata": {},
     "output_type": "execute_result"
    }
   ],
   "source": [
    "checks_0"
   ]
  },
  {
   "cell_type": "code",
   "execution_count": 95,
   "metadata": {},
   "outputs": [],
   "source": [
    "checks_0['customer_id'] = checks_0['customer_id'].astype('str')\n",
    "# я все понял про apply, больше так не буду\n",
    "checks_0.loc[checks_0['customer_id'].str.contains('new'), 'is_loyal'] = 2"
   ]
  },
  {
   "cell_type": "code",
   "execution_count": 96,
   "metadata": {},
   "outputs": [
    {
     "data": {
      "text/html": [
       "<div>\n",
       "<style scoped>\n",
       "    .dataframe tbody tr th:only-of-type {\n",
       "        vertical-align: middle;\n",
       "    }\n",
       "\n",
       "    .dataframe tbody tr th {\n",
       "        vertical-align: top;\n",
       "    }\n",
       "\n",
       "    .dataframe thead th {\n",
       "        text-align: right;\n",
       "    }\n",
       "</style>\n",
       "<table border=\"1\" class=\"dataframe\">\n",
       "  <thead>\n",
       "    <tr style=\"text-align: right;\">\n",
       "      <th></th>\n",
       "      <th>customer_cnt</th>\n",
       "      <th>purchase_cnt</th>\n",
       "      <th>total_income</th>\n",
       "      <th>mean_check</th>\n",
       "      <th>mean_check_depth</th>\n",
       "    </tr>\n",
       "    <tr>\n",
       "      <th>is_loyal</th>\n",
       "      <th></th>\n",
       "      <th></th>\n",
       "      <th></th>\n",
       "      <th></th>\n",
       "      <th></th>\n",
       "    </tr>\n",
       "  </thead>\n",
       "  <tbody>\n",
       "    <tr>\n",
       "      <th>0.0</th>\n",
       "      <td>882</td>\n",
       "      <td>1707</td>\n",
       "      <td>556486.325</td>\n",
       "      <td>326.002534</td>\n",
       "      <td>18.720562</td>\n",
       "    </tr>\n",
       "    <tr>\n",
       "      <th>1.0</th>\n",
       "      <td>529</td>\n",
       "      <td>1011</td>\n",
       "      <td>306713.635</td>\n",
       "      <td>303.376494</td>\n",
       "      <td>20.574679</td>\n",
       "    </tr>\n",
       "    <tr>\n",
       "      <th>2.0</th>\n",
       "      <td>3500</td>\n",
       "      <td>33497</td>\n",
       "      <td>241814.535</td>\n",
       "      <td>7.218991</td>\n",
       "      <td>1.041646</td>\n",
       "    </tr>\n",
       "  </tbody>\n",
       "</table>\n",
       "</div>"
      ],
      "text/plain": [
       "          customer_cnt  purchase_cnt  total_income  mean_check  \\\n",
       "is_loyal                                                         \n",
       "0.0                882          1707    556486.325  326.002534   \n",
       "1.0                529          1011    306713.635  303.376494   \n",
       "2.0               3500         33497    241814.535    7.218991   \n",
       "\n",
       "          mean_check_depth  \n",
       "is_loyal                    \n",
       "0.0              18.720562  \n",
       "1.0              20.574679  \n",
       "2.0               1.041646  "
      ]
     },
     "execution_count": 96,
     "metadata": {},
     "output_type": "execute_result"
    }
   ],
   "source": [
    "loyalty_analysis_0 = checks_0.groupby('is_loyal').agg({\n",
    "    'customer_id': 'nunique',\n",
    "    'purchase_dt': 'count',\n",
    "    'price': ['sum', 'mean'],\n",
    "    'quantity': 'mean'\n",
    "})\n",
    "loyalty_analysis_0.columns = ['customer_cnt', 'purchase_cnt', 'total_income', 'mean_check', 'mean_check_depth']\n",
    "loyalty_analysis_0"
   ]
  },
  {
   "cell_type": "code",
   "execution_count": 97,
   "metadata": {},
   "outputs": [
    {
     "data": {
      "image/png": "[encoded data removed]",
      "text/plain": [
       "<Figure size 864x648 with 1 Axes>"
      ]
     },
     "metadata": {},
     "output_type": "display_data"
    }
   ],
   "source": [
    "loyalty_analysis_0['total_income'].plot(kind='pie', autopct='%1.1f%%', labels=['Не участники', 'Участники', 'Случайные'])\n",
    "plt.title('Доля участников программы лояльности в магазине 0 (по выручке)')\n",
    "plt.ylabel('')\n",
    "plt.legend();"
   ]
  },
  {
   "cell_type": "markdown",
   "metadata": {},
   "source": [
    "Половина объема продаж приходится на известных клиентов, не пользующихся программой лояльности, доля выручки, которая приходится на пользователей программы лояльности - чуть больше четверти. Таким образом, 88% выручки создаются известными нам пользователями, а не \"случайными\" зашедшими (таковыми мы считаем тех, чей ID изначально не был известен), хотя на последних приходится абсолютно большая доля чеков (так что долю прочих чеков едва ли будет хорошо видно на графике). Их чеки состоят в среднем из одной позиции и имеют очень небольшую сумму (в 40 с лишним раз проигрывают другим категориям). Интересно, что самая большая сумма чека в среднем свойственна известным покупателям, не участвующим в программе лояльности, что возможно, объясняется скидками для участников программы лояльности, поскольку глубина чека у них в среднем больше."
   ]
  },
  {
   "cell_type": "markdown",
   "metadata": {},
   "source": [
    "#### Выводы\n",
    "1. Как уже отмечалось выше, наши магазины не одинаковые - на один из них приходится абсолютно большая часть массива данных и выручки (почти 90%).\n",
    "2. Поведение пользователей в самом большом магазине тоже отличное: средний чек здесь меньше и по сумме и по глубине, при этом здесь втрое меньшая доля возвратов и значительно большая доля покупок лояльных клиентов. Эти наблюдения мы проверим с помощью статистических тестов."
   ]
  },
  {
   "cell_type": "markdown",
   "metadata": {},
   "source": [
    "---\n",
    "[Наверх](#contents)"
   ]
  },
  {
   "cell_type": "markdown",
   "metadata": {},
   "source": [
    "---"
   ]
  },
  {
   "cell_type": "markdown",
   "metadata": {},
   "source": [
    "## 5. Проведение статистических тестов <a id='test'></a>"
   ]
  },
  {
   "cell_type": "markdown",
   "metadata": {},
   "source": [
    "В ходе статистических тестов мы будем сравнивать магазин 0 и все остальные магазины по следующих показателям:\n",
    "- сумма среднего чека;\n",
    "- глубина среднего чека;\n",
    "- доля возврата;\n",
    "- доля покупок лояльных клиентов.\n",
    "\n",
    "Во всех случаях результаты тестов несколько портит диспропорция между выборками, однако они обе сравнительно большие, что отчасти компенсирует этот недостаток."
   ]
  },
  {
   "cell_type": "markdown",
   "metadata": {},
   "source": [
    "### Сумма среднего чека"
   ]
  },
  {
   "cell_type": "markdown",
   "metadata": {},
   "source": [
    "Для сравнения сумму среднего чека применим t-тест для независимых выборок с разными дисперсиями. Нулевая гипотеза: статистически значимых различий между выборками нет, альтернативная гипотеза: в магазине 0 средний чек меньше. Критический уровень значимости - 0.05 (делится на два из-за того, что тест одностронний)."
   ]
  },
  {
   "cell_type": "code",
   "execution_count": 98,
   "metadata": {},
   "outputs": [],
   "source": [
    "def one_sided_ttest(sample1, sample2, alpha=0.05):\n",
    "    test = st.ttest_ind(sample1, sample2, equal_var=False)\n",
    "    print(f'p-значение: {test[1]}')\n",
    "    \n",
    "    if test[1] < alpha / 2:\n",
    "        print('Отвергаем нулевую гипотезу')\n",
    "    else:\n",
    "        print('Не удалось отвергнуть нулевую гипотезу')"
   ]
  },
  {
   "cell_type": "code",
   "execution_count": 99,
   "metadata": {},
   "outputs": [
    {
     "name": "stdout",
     "output_type": "stream",
     "text": [
      "p-значение: 4.3149525444029933e-44\n",
      "Отвергаем нулевую гипотезу\n"
     ]
    }
   ],
   "source": [
    "one_sided_ttest(price_0, price_other)"
   ]
  },
  {
   "cell_type": "markdown",
   "metadata": {},
   "source": [
    "Сумма среднего чека в магазине 0 меньше, и различие статистически значимо."
   ]
  },
  {
   "cell_type": "markdown",
   "metadata": {},
   "source": [
    "### Глубина среднего чека"
   ]
  },
  {
   "cell_type": "markdown",
   "metadata": {},
   "source": [
    "Аналогично, применимя односторонний t-тест для независимых выборок с разными дисперсиями. Нулевая гипотеза: статистически значимых различий между выборками нет, альтернативная гипотеза: в магазине 0 глубина среднего чека меньше. Критический уровень значимости - 0.05."
   ]
  },
  {
   "cell_type": "code",
   "execution_count": 100,
   "metadata": {},
   "outputs": [
    {
     "name": "stdout",
     "output_type": "stream",
     "text": [
      "p-значение: 5.109555416649207e-36\n",
      "Отвергаем нулевую гипотезу\n"
     ]
    }
   ],
   "source": [
    "one_sided_ttest(depth_0, depth_other)"
   ]
  },
  {
   "cell_type": "markdown",
   "metadata": {},
   "source": [
    "Глубина среднего чека в магазине 0 меньше, и различие статистически значимо."
   ]
  },
  {
   "cell_type": "markdown",
   "metadata": {},
   "source": [
    "### Доля возврата"
   ]
  },
  {
   "cell_type": "markdown",
   "metadata": {},
   "source": [
    "Для сравнения долей возврата применим z-тест. Нулевая гипотеза: доли возврата в магазине 0 и в остальных значимо не отличаются, альтернативная гипотеза - доли отличаются. Критический уровень значимости - 0.05."
   ]
  },
  {
   "cell_type": "code",
   "execution_count": 101,
   "metadata": {},
   "outputs": [],
   "source": [
    "def z_test(col, alpha=0.05):\n",
    "    total = np.array([len(data[data['shop_category'] == 'Shop 0']), \n",
    "                     len(data[data['shop_category'] == 'Other'])])\n",
    "    share = np.array([len(data[(data['shop_category'] == 'Shop 0') & (data[col] == 1)]),\n",
    "                     len(data[(data['shop_category'] == 'Other') & (data[col] == 1)])])\n",
    "    \n",
    "    # доли по группам, доля по комбинированной выборке, разница долей по группам\n",
    "    p1 = share[0] / total[0]\n",
    "    p2 = share[1] / total[1]\n",
    "    p_comb = np.sum(share) / np.sum(total)\n",
    "    diff = abs(p1 - p2)\n",
    "    \n",
    "    # z-статистика\n",
    "    z_value = diff / np.sqrt(p_comb * (1 - p_comb) * (1 / total[0] + 1 / total[1]))\n",
    "    \n",
    "    # p-value\n",
    "    distr = st.norm(0, 1)\n",
    "    p_value = (1 - distr.cdf(z_value)) * 2\n",
    "    \n",
    "    print(f'Результат z-теста:')\n",
    "    print(f'\\tz-статистика: {z_value}')\n",
    "    print(f'\\tp-значение: {p_value}')\n",
    "    \n",
    "    if p_value < alpha:\n",
    "        print('Отвергаем нулевую гипотезу\\n\\n')\n",
    "    else:\n",
    "        print('Не удалось отвергнуть нулевую гипотезу\\n\\n')"
   ]
  },
  {
   "cell_type": "code",
   "execution_count": 102,
   "metadata": {},
   "outputs": [
    {
     "name": "stdout",
     "output_type": "stream",
     "text": [
      "Результат z-теста:\n",
      "\tz-статистика: 15.11135696189059\n",
      "\tp-значение: 0.0\n",
      "Отвергаем нулевую гипотезу\n",
      "\n",
      "\n"
     ]
    }
   ],
   "source": [
    "z_test('is_return')"
   ]
  },
  {
   "cell_type": "markdown",
   "metadata": {},
   "source": [
    "Доля возвратов значимо отличается."
   ]
  },
  {
   "cell_type": "markdown",
   "metadata": {},
   "source": [
    "### Доля покупок лояльных клиентов"
   ]
  },
  {
   "cell_type": "markdown",
   "metadata": {},
   "source": [
    "Для сравнения долей возврата применим z-тест. Нулевая гипотеза: доли покупок лояльных клиентов в магазине 0 и в остальных значимо не отличаются, альтернативная гипотеза - доли отличаются. Критический уровень значимости - 0.05."
   ]
  },
  {
   "cell_type": "code",
   "execution_count": 103,
   "metadata": {},
   "outputs": [
    {
     "name": "stdout",
     "output_type": "stream",
     "text": [
      "Результат z-теста:\n",
      "\tz-статистика: 40.3674775678589\n",
      "\tp-значение: 0.0\n",
      "Отвергаем нулевую гипотезу\n",
      "\n",
      "\n"
     ]
    }
   ],
   "source": [
    "z_test('is_loyal')"
   ]
  },
  {
   "cell_type": "markdown",
   "metadata": {},
   "source": [
    "Доля покупок лояльных клиентов также значимо отличается."
   ]
  },
  {
   "cell_type": "markdown",
   "metadata": {},
   "source": [
    "---\n",
    "[Наверх](#contents)"
   ]
  },
  {
   "cell_type": "markdown",
   "metadata": {},
   "source": [
    "---"
   ]
  },
  {
   "cell_type": "markdown",
   "metadata": {},
   "source": [
    "## 6. Классификация небольших магазинов <a id='clusters'></a>"
   ]
  },
  {
   "cell_type": "markdown",
   "metadata": {},
   "source": [
    "Как видно, между магазином 0 и прочими есть существенные значчимые различия. Попробуем углубить классификацию магазинов - посмотрим, нет ли возможности разделить мелкие магазины на группы. Для этого соберем в один датафрейм все средние показатели для каждого магазина, а затем применим кластеризацию."
   ]
  },
  {
   "cell_type": "code",
   "execution_count": 104,
   "metadata": {},
   "outputs": [],
   "source": [
    "shops_compare_new = data.groupby('shop_id').agg({\n",
    "    'customer_id': 'nunique',\n",
    "    'purchase_dt': 'count',\n",
    "    'price': 'mean',\n",
    "    'quantity': 'mean',\n",
    "    'item_id': 'nunique', \n",
    "    'is_return': 'mean',\n",
    "    'is_loyal': 'mean'\n",
    "}).sort_values('purchase_dt', ascending=False)"
   ]
  },
  {
   "cell_type": "code",
   "execution_count": 105,
   "metadata": {},
   "outputs": [
    {
     "data": {
      "text/html": [
       "<div>\n",
       "<style scoped>\n",
       "    .dataframe tbody tr th:only-of-type {\n",
       "        vertical-align: middle;\n",
       "    }\n",
       "\n",
       "    .dataframe tbody tr th {\n",
       "        vertical-align: top;\n",
       "    }\n",
       "\n",
       "    .dataframe thead th {\n",
       "        text-align: right;\n",
       "    }\n",
       "</style>\n",
       "<table border=\"1\" class=\"dataframe\">\n",
       "  <thead>\n",
       "    <tr style=\"text-align: right;\">\n",
       "      <th></th>\n",
       "      <th>customer_id</th>\n",
       "      <th>purchase_dt</th>\n",
       "      <th>price</th>\n",
       "      <th>quantity</th>\n",
       "      <th>item_id</th>\n",
       "      <th>is_return</th>\n",
       "      <th>is_loyal</th>\n",
       "    </tr>\n",
       "  </thead>\n",
       "  <tbody>\n",
       "    <tr>\n",
       "      <th>count</th>\n",
       "      <td>30.000000</td>\n",
       "      <td>30.000000</td>\n",
       "      <td>30.000000</td>\n",
       "      <td>30.000000</td>\n",
       "      <td>30.000000</td>\n",
       "      <td>30.000000</td>\n",
       "      <td>30.000000</td>\n",
       "    </tr>\n",
       "    <tr>\n",
       "      <th>mean</th>\n",
       "      <td>176.333333</td>\n",
       "      <td>3175.633333</td>\n",
       "      <td>25.296711</td>\n",
       "      <td>11.538832</td>\n",
       "      <td>230.466667</td>\n",
       "      <td>0.018257</td>\n",
       "      <td>0.055504</td>\n",
       "    </tr>\n",
       "    <tr>\n",
       "      <th>std</th>\n",
       "      <td>906.551227</td>\n",
       "      <td>16241.956251</td>\n",
       "      <td>5.016526</td>\n",
       "      <td>5.116778</td>\n",
       "      <td>575.143564</td>\n",
       "      <td>0.024254</td>\n",
       "      <td>0.192362</td>\n",
       "    </tr>\n",
       "    <tr>\n",
       "      <th>min</th>\n",
       "      <td>1.000000</td>\n",
       "      <td>3.000000</td>\n",
       "      <td>12.167589</td>\n",
       "      <td>4.758887</td>\n",
       "      <td>3.000000</td>\n",
       "      <td>0.000000</td>\n",
       "      <td>0.000000</td>\n",
       "    </tr>\n",
       "    <tr>\n",
       "      <th>25%</th>\n",
       "      <td>1.250000</td>\n",
       "      <td>24.250000</td>\n",
       "      <td>23.608708</td>\n",
       "      <td>8.543090</td>\n",
       "      <td>24.250000</td>\n",
       "      <td>0.000000</td>\n",
       "      <td>0.000000</td>\n",
       "    </tr>\n",
       "    <tr>\n",
       "      <th>50%</th>\n",
       "      <td>3.500000</td>\n",
       "      <td>51.500000</td>\n",
       "      <td>25.822821</td>\n",
       "      <td>9.713805</td>\n",
       "      <td>45.000000</td>\n",
       "      <td>0.006257</td>\n",
       "      <td>0.000000</td>\n",
       "    </tr>\n",
       "    <tr>\n",
       "      <th>75%</th>\n",
       "      <td>9.500000</td>\n",
       "      <td>243.250000</td>\n",
       "      <td>26.949543</td>\n",
       "      <td>14.411596</td>\n",
       "      <td>178.750000</td>\n",
       "      <td>0.034779</td>\n",
       "      <td>0.000000</td>\n",
       "    </tr>\n",
       "    <tr>\n",
       "      <th>max</th>\n",
       "      <td>4975.000000</td>\n",
       "      <td>89149.000000</td>\n",
       "      <td>35.884444</td>\n",
       "      <td>26.222222</td>\n",
       "      <td>3128.000000</td>\n",
       "      <td>0.101469</td>\n",
       "      <td>1.000000</td>\n",
       "    </tr>\n",
       "  </tbody>\n",
       "</table>\n",
       "</div>"
      ],
      "text/plain": [
       "       customer_id   purchase_dt      price   quantity      item_id  \\\n",
       "count    30.000000     30.000000  30.000000  30.000000    30.000000   \n",
       "mean    176.333333   3175.633333  25.296711  11.538832   230.466667   \n",
       "std     906.551227  16241.956251   5.016526   5.116778   575.143564   \n",
       "min       1.000000      3.000000  12.167589   4.758887     3.000000   \n",
       "25%       1.250000     24.250000  23.608708   8.543090    24.250000   \n",
       "50%       3.500000     51.500000  25.822821   9.713805    45.000000   \n",
       "75%       9.500000    243.250000  26.949543  14.411596   178.750000   \n",
       "max    4975.000000  89149.000000  35.884444  26.222222  3128.000000   \n",
       "\n",
       "       is_return   is_loyal  \n",
       "count  30.000000  30.000000  \n",
       "mean    0.018257   0.055504  \n",
       "std     0.024254   0.192362  \n",
       "min     0.000000   0.000000  \n",
       "25%     0.000000   0.000000  \n",
       "50%     0.006257   0.000000  \n",
       "75%     0.034779   0.000000  \n",
       "max     0.101469   1.000000  "
      ]
     },
     "execution_count": 105,
     "metadata": {},
     "output_type": "execute_result"
    }
   ],
   "source": [
    "shops_compare_new.describe()"
   ]
  },
  {
   "cell_type": "code",
   "execution_count": 106,
   "metadata": {
    "scrolled": true
   },
   "outputs": [
    {
     "data": {
      "text/html": [
       "<div>\n",
       "<style scoped>\n",
       "    .dataframe tbody tr th:only-of-type {\n",
       "        vertical-align: middle;\n",
       "    }\n",
       "\n",
       "    .dataframe tbody tr th {\n",
       "        vertical-align: top;\n",
       "    }\n",
       "\n",
       "    .dataframe thead th {\n",
       "        text-align: right;\n",
       "    }\n",
       "</style>\n",
       "<table border=\"1\" class=\"dataframe\">\n",
       "  <thead>\n",
       "    <tr style=\"text-align: right;\">\n",
       "      <th></th>\n",
       "      <th>customer_id</th>\n",
       "      <th>purchase_dt</th>\n",
       "      <th>price</th>\n",
       "      <th>quantity</th>\n",
       "      <th>item_id</th>\n",
       "      <th>is_return</th>\n",
       "      <th>is_loyal</th>\n",
       "    </tr>\n",
       "    <tr>\n",
       "      <th>shop_id</th>\n",
       "      <th></th>\n",
       "      <th></th>\n",
       "      <th></th>\n",
       "      <th></th>\n",
       "      <th></th>\n",
       "      <th></th>\n",
       "      <th></th>\n",
       "    </tr>\n",
       "  </thead>\n",
       "  <tbody>\n",
       "    <tr>\n",
       "      <th>Shop 0</th>\n",
       "      <td>4975</td>\n",
       "      <td>89149</td>\n",
       "      <td>12.167589</td>\n",
       "      <td>4.758887</td>\n",
       "      <td>3128</td>\n",
       "      <td>0.016276</td>\n",
       "      <td>0.237726</td>\n",
       "    </tr>\n",
       "    <tr>\n",
       "      <th>Shop 4</th>\n",
       "      <td>43</td>\n",
       "      <td>1498</td>\n",
       "      <td>20.675838</td>\n",
       "      <td>9.288385</td>\n",
       "      <td>660</td>\n",
       "      <td>0.101469</td>\n",
       "      <td>0.000000</td>\n",
       "    </tr>\n",
       "    <tr>\n",
       "      <th>Shop 1</th>\n",
       "      <td>37</td>\n",
       "      <td>1327</td>\n",
       "      <td>23.558843</td>\n",
       "      <td>10.123587</td>\n",
       "      <td>551</td>\n",
       "      <td>0.019593</td>\n",
       "      <td>0.000000</td>\n",
       "    </tr>\n",
       "    <tr>\n",
       "      <th>Shop 6</th>\n",
       "      <td>103</td>\n",
       "      <td>791</td>\n",
       "      <td>21.619817</td>\n",
       "      <td>7.624526</td>\n",
       "      <td>561</td>\n",
       "      <td>0.049305</td>\n",
       "      <td>0.000000</td>\n",
       "    </tr>\n",
       "    <tr>\n",
       "      <th>Shop 8</th>\n",
       "      <td>11</td>\n",
       "      <td>518</td>\n",
       "      <td>19.709073</td>\n",
       "      <td>7.054054</td>\n",
       "      <td>369</td>\n",
       "      <td>0.011583</td>\n",
       "      <td>0.119691</td>\n",
       "    </tr>\n",
       "    <tr>\n",
       "      <th>Shop 12</th>\n",
       "      <td>10</td>\n",
       "      <td>258</td>\n",
       "      <td>23.527287</td>\n",
       "      <td>10.930233</td>\n",
       "      <td>178</td>\n",
       "      <td>0.031008</td>\n",
       "      <td>0.000000</td>\n",
       "    </tr>\n",
       "    <tr>\n",
       "      <th>Shop 7</th>\n",
       "      <td>7</td>\n",
       "      <td>253</td>\n",
       "      <td>25.019368</td>\n",
       "      <td>11.679842</td>\n",
       "      <td>218</td>\n",
       "      <td>0.007905</td>\n",
       "      <td>0.000000</td>\n",
       "    </tr>\n",
       "    <tr>\n",
       "      <th>Shop 10</th>\n",
       "      <td>8</td>\n",
       "      <td>252</td>\n",
       "      <td>26.120397</td>\n",
       "      <td>8.932540</td>\n",
       "      <td>179</td>\n",
       "      <td>0.027778</td>\n",
       "      <td>0.000000</td>\n",
       "    </tr>\n",
       "    <tr>\n",
       "      <th>Shop 18</th>\n",
       "      <td>5</td>\n",
       "      <td>217</td>\n",
       "      <td>21.721682</td>\n",
       "      <td>7.391705</td>\n",
       "      <td>201</td>\n",
       "      <td>0.004608</td>\n",
       "      <td>0.000000</td>\n",
       "    </tr>\n",
       "    <tr>\n",
       "      <th>Shop 11</th>\n",
       "      <td>7</td>\n",
       "      <td>153</td>\n",
       "      <td>23.758301</td>\n",
       "      <td>8.143791</td>\n",
       "      <td>138</td>\n",
       "      <td>0.052288</td>\n",
       "      <td>0.000000</td>\n",
       "    </tr>\n",
       "    <tr>\n",
       "      <th>Shop 5</th>\n",
       "      <td>3</td>\n",
       "      <td>150</td>\n",
       "      <td>28.741300</td>\n",
       "      <td>19.166667</td>\n",
       "      <td>95</td>\n",
       "      <td>0.000000</td>\n",
       "      <td>0.000000</td>\n",
       "    </tr>\n",
       "    <tr>\n",
       "      <th>Shop 2</th>\n",
       "      <td>8</td>\n",
       "      <td>111</td>\n",
       "      <td>26.839550</td>\n",
       "      <td>8.828829</td>\n",
       "      <td>93</td>\n",
       "      <td>0.036036</td>\n",
       "      <td>0.000000</td>\n",
       "    </tr>\n",
       "    <tr>\n",
       "      <th>Shop 3</th>\n",
       "      <td>4</td>\n",
       "      <td>107</td>\n",
       "      <td>25.845234</td>\n",
       "      <td>24.672897</td>\n",
       "      <td>86</td>\n",
       "      <td>0.018692</td>\n",
       "      <td>0.000000</td>\n",
       "    </tr>\n",
       "    <tr>\n",
       "      <th>Shop 14</th>\n",
       "      <td>3</td>\n",
       "      <td>67</td>\n",
       "      <td>13.264776</td>\n",
       "      <td>15.164179</td>\n",
       "      <td>62</td>\n",
       "      <td>0.044776</td>\n",
       "      <td>0.000000</td>\n",
       "    </tr>\n",
       "    <tr>\n",
       "      <th>Shop 15</th>\n",
       "      <td>1</td>\n",
       "      <td>54</td>\n",
       "      <td>26.469630</td>\n",
       "      <td>9.518519</td>\n",
       "      <td>44</td>\n",
       "      <td>0.000000</td>\n",
       "      <td>0.000000</td>\n",
       "    </tr>\n",
       "    <tr>\n",
       "      <th>Shop 9</th>\n",
       "      <td>2</td>\n",
       "      <td>49</td>\n",
       "      <td>25.800408</td>\n",
       "      <td>9.428571</td>\n",
       "      <td>46</td>\n",
       "      <td>0.000000</td>\n",
       "      <td>0.000000</td>\n",
       "    </tr>\n",
       "    <tr>\n",
       "      <th>Shop 16</th>\n",
       "      <td>2</td>\n",
       "      <td>45</td>\n",
       "      <td>24.244222</td>\n",
       "      <td>7.177778</td>\n",
       "      <td>43</td>\n",
       "      <td>0.044444</td>\n",
       "      <td>0.000000</td>\n",
       "    </tr>\n",
       "    <tr>\n",
       "      <th>Shop 26</th>\n",
       "      <td>1</td>\n",
       "      <td>38</td>\n",
       "      <td>28.075526</td>\n",
       "      <td>16.368421</td>\n",
       "      <td>38</td>\n",
       "      <td>0.000000</td>\n",
       "      <td>0.000000</td>\n",
       "    </tr>\n",
       "    <tr>\n",
       "      <th>Shop 25</th>\n",
       "      <td>29</td>\n",
       "      <td>29</td>\n",
       "      <td>26.986207</td>\n",
       "      <td>15.241379</td>\n",
       "      <td>27</td>\n",
       "      <td>0.000000</td>\n",
       "      <td>0.000000</td>\n",
       "    </tr>\n",
       "    <tr>\n",
       "      <th>Shop 27</th>\n",
       "      <td>1</td>\n",
       "      <td>28</td>\n",
       "      <td>28.632143</td>\n",
       "      <td>8.535714</td>\n",
       "      <td>28</td>\n",
       "      <td>0.000000</td>\n",
       "      <td>0.000000</td>\n",
       "    </tr>\n",
       "    <tr>\n",
       "      <th>Shop 19</th>\n",
       "      <td>3</td>\n",
       "      <td>26</td>\n",
       "      <td>26.170385</td>\n",
       "      <td>15.346154</td>\n",
       "      <td>25</td>\n",
       "      <td>0.038462</td>\n",
       "      <td>0.307692</td>\n",
       "    </tr>\n",
       "    <tr>\n",
       "      <th>Shop 28</th>\n",
       "      <td>1</td>\n",
       "      <td>25</td>\n",
       "      <td>34.257600</td>\n",
       "      <td>11.680000</td>\n",
       "      <td>25</td>\n",
       "      <td>0.000000</td>\n",
       "      <td>1.000000</td>\n",
       "    </tr>\n",
       "    <tr>\n",
       "      <th>Shop 17</th>\n",
       "      <td>2</td>\n",
       "      <td>24</td>\n",
       "      <td>26.452500</td>\n",
       "      <td>11.750000</td>\n",
       "      <td>24</td>\n",
       "      <td>0.000000</td>\n",
       "      <td>0.000000</td>\n",
       "    </tr>\n",
       "    <tr>\n",
       "      <th>Shop 20</th>\n",
       "      <td>4</td>\n",
       "      <td>23</td>\n",
       "      <td>25.327391</td>\n",
       "      <td>8.565217</td>\n",
       "      <td>21</td>\n",
       "      <td>0.043478</td>\n",
       "      <td>0.000000</td>\n",
       "    </tr>\n",
       "    <tr>\n",
       "      <th>Shop 21</th>\n",
       "      <td>13</td>\n",
       "      <td>22</td>\n",
       "      <td>29.860000</td>\n",
       "      <td>9.909091</td>\n",
       "      <td>22</td>\n",
       "      <td>0.000000</td>\n",
       "      <td>0.000000</td>\n",
       "    </tr>\n",
       "    <tr>\n",
       "      <th>Shop 22</th>\n",
       "      <td>3</td>\n",
       "      <td>21</td>\n",
       "      <td>24.347619</td>\n",
       "      <td>16.285714</td>\n",
       "      <td>19</td>\n",
       "      <td>0.000000</td>\n",
       "      <td>0.000000</td>\n",
       "    </tr>\n",
       "    <tr>\n",
       "      <th>Shop 13</th>\n",
       "      <td>1</td>\n",
       "      <td>13</td>\n",
       "      <td>33.403077</td>\n",
       "      <td>12.153846</td>\n",
       "      <td>12</td>\n",
       "      <td>0.000000</td>\n",
       "      <td>0.000000</td>\n",
       "    </tr>\n",
       "    <tr>\n",
       "      <th>Shop 29</th>\n",
       "      <td>1</td>\n",
       "      <td>9</td>\n",
       "      <td>26.547778</td>\n",
       "      <td>8.888889</td>\n",
       "      <td>9</td>\n",
       "      <td>0.000000</td>\n",
       "      <td>0.000000</td>\n",
       "    </tr>\n",
       "    <tr>\n",
       "      <th>Shop 30</th>\n",
       "      <td>1</td>\n",
       "      <td>9</td>\n",
       "      <td>35.884444</td>\n",
       "      <td>26.222222</td>\n",
       "      <td>9</td>\n",
       "      <td>0.000000</td>\n",
       "      <td>0.000000</td>\n",
       "    </tr>\n",
       "    <tr>\n",
       "      <th>Shop 24</th>\n",
       "      <td>1</td>\n",
       "      <td>3</td>\n",
       "      <td>23.873333</td>\n",
       "      <td>5.333333</td>\n",
       "      <td>3</td>\n",
       "      <td>0.000000</td>\n",
       "      <td>0.000000</td>\n",
       "    </tr>\n",
       "  </tbody>\n",
       "</table>\n",
       "</div>"
      ],
      "text/plain": [
       "         customer_id  purchase_dt      price   quantity  item_id  is_return  \\\n",
       "shop_id                                                                       \n",
       "Shop 0          4975        89149  12.167589   4.758887     3128   0.016276   \n",
       "Shop 4            43         1498  20.675838   9.288385      660   0.101469   \n",
       "Shop 1            37         1327  23.558843  10.123587      551   0.019593   \n",
       "Shop 6           103          791  21.619817   7.624526      561   0.049305   \n",
       "Shop 8            11          518  19.709073   7.054054      369   0.011583   \n",
       "Shop 12           10          258  23.527287  10.930233      178   0.031008   \n",
       "Shop 7             7          253  25.019368  11.679842      218   0.007905   \n",
       "Shop 10            8          252  26.120397   8.932540      179   0.027778   \n",
       "Shop 18            5          217  21.721682   7.391705      201   0.004608   \n",
       "Shop 11            7          153  23.758301   8.143791      138   0.052288   \n",
       "Shop 5             3          150  28.741300  19.166667       95   0.000000   \n",
       "Shop 2             8          111  26.839550   8.828829       93   0.036036   \n",
       "Shop 3             4          107  25.845234  24.672897       86   0.018692   \n",
       "Shop 14            3           67  13.264776  15.164179       62   0.044776   \n",
       "Shop 15            1           54  26.469630   9.518519       44   0.000000   \n",
       "Shop 9             2           49  25.800408   9.428571       46   0.000000   \n",
       "Shop 16            2           45  24.244222   7.177778       43   0.044444   \n",
       "Shop 26            1           38  28.075526  16.368421       38   0.000000   \n",
       "Shop 25           29           29  26.986207  15.241379       27   0.000000   \n",
       "Shop 27            1           28  28.632143   8.535714       28   0.000000   \n",
       "Shop 19            3           26  26.170385  15.346154       25   0.038462   \n",
       "Shop 28            1           25  34.257600  11.680000       25   0.000000   \n",
       "Shop 17            2           24  26.452500  11.750000       24   0.000000   \n",
       "Shop 20            4           23  25.327391   8.565217       21   0.043478   \n",
       "Shop 21           13           22  29.860000   9.909091       22   0.000000   \n",
       "Shop 22            3           21  24.347619  16.285714       19   0.000000   \n",
       "Shop 13            1           13  33.403077  12.153846       12   0.000000   \n",
       "Shop 29            1            9  26.547778   8.888889        9   0.000000   \n",
       "Shop 30            1            9  35.884444  26.222222        9   0.000000   \n",
       "Shop 24            1            3  23.873333   5.333333        3   0.000000   \n",
       "\n",
       "         is_loyal  \n",
       "shop_id            \n",
       "Shop 0   0.237726  \n",
       "Shop 4   0.000000  \n",
       "Shop 1   0.000000  \n",
       "Shop 6   0.000000  \n",
       "Shop 8   0.119691  \n",
       "Shop 12  0.000000  \n",
       "Shop 7   0.000000  \n",
       "Shop 10  0.000000  \n",
       "Shop 18  0.000000  \n",
       "Shop 11  0.000000  \n",
       "Shop 5   0.000000  \n",
       "Shop 2   0.000000  \n",
       "Shop 3   0.000000  \n",
       "Shop 14  0.000000  \n",
       "Shop 15  0.000000  \n",
       "Shop 9   0.000000  \n",
       "Shop 16  0.000000  \n",
       "Shop 26  0.000000  \n",
       "Shop 25  0.000000  \n",
       "Shop 27  0.000000  \n",
       "Shop 19  0.307692  \n",
       "Shop 28  1.000000  \n",
       "Shop 17  0.000000  \n",
       "Shop 20  0.000000  \n",
       "Shop 21  0.000000  \n",
       "Shop 22  0.000000  \n",
       "Shop 13  0.000000  \n",
       "Shop 29  0.000000  \n",
       "Shop 30  0.000000  \n",
       "Shop 24  0.000000  "
      ]
     },
     "execution_count": 106,
     "metadata": {},
     "output_type": "execute_result"
    }
   ],
   "source": [
    "shops_compare_new"
   ]
  },
  {
   "cell_type": "code",
   "execution_count": 107,
   "metadata": {},
   "outputs": [
    {
     "name": "stdout",
     "output_type": "stream",
     "text": [
      "Уникальных товаров в магазине 0: 0, отсутствуют в магазине 0: 11\n"
     ]
    }
   ],
   "source": [
    "items_0 = data[data['shop_id'] == 'Shop 0']['item_id'].unique()\n",
    "items_other = data[data['shop_id'] != 'Shop_0']['item_id'].unique()\n",
    "unique_0 = np.setdiff1d(items_0, items_other)\n",
    "unique_other = np.setdiff1d(items_other, items_0)\n",
    "print(f'Уникальных товаров в магазине 0: {len(unique_0)}, отсутствуют в магазине 0: {len(unique_other)}')"
   ]
  },
  {
   "cell_type": "markdown",
   "metadata": {},
   "source": [
    "Итак, мы дополнили таблицу сравнения магазинов данными о возвратах и об ассортименте. Самое большое число различных товаров продается в магазине 0, что, вероятно, также способствует большому числу продаж и покупателей. В целом, проданные товары разнообразнее там, где больше покупок (что вполне логично), однако это не абсолютное правило, например, магазин 1 имеет значительно больше продаж, чем магазин 6, но немного проигрывает по чилу разных товаров. При этом в магазине 0 нет товаров, которые нельзя было бы купить в других магазинах, более того, там нельзя купить 11 позиций, так что едва ли ассортимент является решающим фактором для радикально большего числа продаж в магазине 0."
   ]
  },
  {
   "cell_type": "markdown",
   "metadata": {},
   "source": [
    "Для более глубокой классификации магазинов попробуем применить кластеризацию. Поскольку значения признаков сильно отличаются по абсолютной величине, сначала скалируем их, затем построим дендрограмму признаков."
   ]
  },
  {
   "cell_type": "code",
   "execution_count": 108,
   "metadata": {},
   "outputs": [],
   "source": [
    "scaler = StandardScaler()\n",
    "X_sc = scaler.fit_transform(shops_compare_new)\n",
    "linked = linkage(X_sc, method = 'ward')"
   ]
  },
  {
   "cell_type": "code",
   "execution_count": 109,
   "metadata": {},
   "outputs": [
    {
     "data": {
      "image/png": "[encoded data removed]",
      "text/plain": [
       "<Figure size 1152x864 with 1 Axes>"
      ]
     },
     "metadata": {},
     "output_type": "display_data"
    }
   ],
   "source": [
    "plt.figure(figsize=(16, 12))  \n",
    "dendrogram(linked, orientation='top')\n",
    "plt.title('Дендрограмма признаков')\n",
    "plt.show()"
   ]
  },
  {
   "cell_type": "markdown",
   "metadata": {},
   "source": [
    "Как и ожидалось, магазин 0 выделяется в один собственный кластер, поскольку он очень сильно отличается по всем параметрам. Однако, как видно, остальные магазины также могут быть разделены на две примерно равные по численности группы. Разделение на большее число кластеров кажется нецелесообразным, поскольку создаст группы из 1-2 небольших магазинов. Применим метод K средних с заданным числом кластеров, равным трем, а затем сравним получившиеся кластеры."
   ]
  },
  {
   "cell_type": "code",
   "execution_count": 110,
   "metadata": {},
   "outputs": [],
   "source": [
    "km = KMeans(n_clusters=3, random_state=42) \n",
    "labels = km.fit_predict(X_sc)\n",
    "shops_compare_new['cluster'] = labels"
   ]
  },
  {
   "cell_type": "code",
   "execution_count": 111,
   "metadata": {},
   "outputs": [
    {
     "name": "stdout",
     "output_type": "stream",
     "text": [
      "\n",
      "Кластер 2: магазинов - 1; покупок - 89149    \n",
      "    \n",
      "\n",
      "Кластер 0: магазинов - 13; покупок - 5263    \n",
      "    \n",
      "\n",
      "Кластер 1: магазинов - 16; покупок - 857    \n",
      "    \n"
     ]
    }
   ],
   "source": [
    "for value in shops_compare_new.cluster.unique():\n",
    "    slc = shops_compare_new[shops_compare_new['cluster'] == value]\n",
    "    print(f'''\n",
    "Кластер {value}: магазинов - {len(slc)}; покупок - {slc['purchase_dt'].sum()}    \n",
    "    ''')"
   ]
  },
  {
   "cell_type": "code",
   "execution_count": 112,
   "metadata": {},
   "outputs": [
    {
     "data": {
      "text/html": [
       "<div>\n",
       "<style scoped>\n",
       "    .dataframe tbody tr th:only-of-type {\n",
       "        vertical-align: middle;\n",
       "    }\n",
       "\n",
       "    .dataframe tbody tr th {\n",
       "        vertical-align: top;\n",
       "    }\n",
       "\n",
       "    .dataframe thead th {\n",
       "        text-align: right;\n",
       "    }\n",
       "</style>\n",
       "<table border=\"1\" class=\"dataframe\">\n",
       "  <thead>\n",
       "    <tr style=\"text-align: right;\">\n",
       "      <th></th>\n",
       "      <th>customer_id</th>\n",
       "      <th>is_loyal</th>\n",
       "      <th>is_return</th>\n",
       "      <th>item_id</th>\n",
       "      <th>price</th>\n",
       "      <th>purchase_dt</th>\n",
       "      <th>quantity</th>\n",
       "    </tr>\n",
       "    <tr>\n",
       "      <th>cluster</th>\n",
       "      <th></th>\n",
       "      <th></th>\n",
       "      <th></th>\n",
       "      <th></th>\n",
       "      <th></th>\n",
       "      <th></th>\n",
       "      <th></th>\n",
       "    </tr>\n",
       "  </thead>\n",
       "  <tbody>\n",
       "    <tr>\n",
       "      <th>0</th>\n",
       "      <td>18.615385</td>\n",
       "      <td>0.009207</td>\n",
       "      <td>0.035874</td>\n",
       "      <td>235.307692</td>\n",
       "      <td>22.633885</td>\n",
       "      <td>404.846154</td>\n",
       "      <td>8.812166</td>\n",
       "    </tr>\n",
       "    <tr>\n",
       "      <th>1</th>\n",
       "      <td>4.562500</td>\n",
       "      <td>0.081731</td>\n",
       "      <td>0.004066</td>\n",
       "      <td>45.437500</td>\n",
       "      <td>28.280826</td>\n",
       "      <td>53.562500</td>\n",
       "      <td>14.177995</td>\n",
       "    </tr>\n",
       "    <tr>\n",
       "      <th>2</th>\n",
       "      <td>4975.000000</td>\n",
       "      <td>0.237726</td>\n",
       "      <td>0.016276</td>\n",
       "      <td>3128.000000</td>\n",
       "      <td>12.167589</td>\n",
       "      <td>89149.000000</td>\n",
       "      <td>4.758887</td>\n",
       "    </tr>\n",
       "  </tbody>\n",
       "</table>\n",
       "</div>"
      ],
      "text/plain": [
       "         customer_id  is_loyal  is_return      item_id      price  \\\n",
       "cluster                                                             \n",
       "0          18.615385  0.009207   0.035874   235.307692  22.633885   \n",
       "1           4.562500  0.081731   0.004066    45.437500  28.280826   \n",
       "2        4975.000000  0.237726   0.016276  3128.000000  12.167589   \n",
       "\n",
       "          purchase_dt   quantity  \n",
       "cluster                           \n",
       "0          404.846154   8.812166  \n",
       "1           53.562500  14.177995  \n",
       "2        89149.000000   4.758887  "
      ]
     },
     "execution_count": 112,
     "metadata": {},
     "output_type": "execute_result"
    }
   ],
   "source": [
    "shops_compare_new.pivot_table(index='cluster')"
   ]
  },
  {
   "cell_type": "markdown",
   "metadata": {},
   "source": [
    "Итак, наши класны 0 и 1 объединяют 13 и 16 магазинов соответственно. В первый из них попали крупные магазины, за исключением магазина 0 - в среднем в таких магазинах 19 покупателей, очень низкая доля пользователей программы лояльности (>1%), также в этих магазинах самая высокая доля возврата - 3.5%. Они сильно прогрывают магазину 0 по число пукупок (404) и ассортименту (235 видов товара), но впятеро превосходят магазины из кластера 1. В кластере 1 магазины мелкие (или у нас мало данных о них) - здесь в среднем 5 покупателей, 8% из них пользуются программой лояльности. В этих магазинах самый высокий средний чек и наибольшая глубина чека."
   ]
  },
  {
   "cell_type": "markdown",
   "metadata": {},
   "source": [
    "---"
   ]
  },
  {
   "cell_type": "markdown",
   "metadata": {},
   "source": [
    "[Наверх](#contents)"
   ]
  },
  {
   "cell_type": "markdown",
   "metadata": {},
   "source": [
    "---"
   ]
  },
  {
   "cell_type": "markdown",
   "metadata": {},
   "source": [
    "## 7. Общий вывод  <a id='conclusion'></a>"
   ]
  },
  {
   "cell_type": "markdown",
   "metadata": {},
   "source": [
    "1. Проведенное исследование охватывает период с начала декабря 2016 до конца февраля 2017 года, за исключением воскресений и новогодных праздников - всего 68 дней. В среднем за день совершалось 1400 покупок, однако разброс значений весьма большой - от 253 до 3654, причем показатели сильно колеблются даже в соседние дни. Колебания после Нового года были меньше, но и покупок в день также было меньше.\n",
    "2. Суточный пик продаж приходится на 14-15 часов, недельный - на вторник.\n",
    "3. Больше 75% покупателей посещают магазины многократно: медианное число визитов - 10. Медианное число покупок на человека также равно 10. Больше 75% посещают единственный магазин, даже если совершают очень много покупок.\n",
    "4. Абсолютное большинство чеков состоят из одной позиции, число чеков даже с тремя покупками очень мало, хотя есть и очень большие значения, вплоть до 244 позиций. Медианная сумма чека - 5, средняя - 34. Значения сильно разбросаны, при преобладании небольших покупок есть чеки в 3.6 тыс. у.е.\n",
    "5. Среди магазинов сети один очень сильно отличается по всем показателям - на него приходится 80% массива данных и 88% суммарной выручки. Если сравнивать его со всем остальными магазинами, то можно заметить, что в нем меньшие средние чеки (по сумме и по глубине), меньше доля возврата и больше процент лояльных покупателей, а также очень много неидентифированных пользователей. При этом в нем нет товаров, которые нельзя купить в других магазинах и даже кое-чего не хватает, поэтому едва ли его значительные продажи обсуловлены ассортиментом, разве что покупателям нравится возможность купить все в одном месте.\n",
    "6. Остальные магазины можно разделить на два кластера. В первый входят относительно крупные магазины, в среднем в таких магазинах 19 покупателей, очень низкая доля пользователей программы лояльности (>1%), а также самая высокая доля возврата - 3.5%. Они сильно прогрывают магазину 0 по число пукупок (404) и ассортименту (235 видов товара), но впятеро превосходят магазины из последнего кластера. В нем магазины мелкие - в среднем 5 покупателей, 8% из них пользуются программой лояльности, однако самые высокие сумма и глубина среднего чека.\n",
    "7. Половина объема продаж в магазине 0 приходится на известных клиентов, не пользующихся программой лояльности, доля выручки, которая приходится на пользователей программы лояльности - 28%. Чеки \"случайных\" клиентов очень многочисленны, но состоят в среднем из одной позиции и имеют очень небольшую сумму (в 40 с лишним раз проигрывают другим категориям). Самая большая сумма чека в среднем свойственна известным покупателям, не участвующим в программе лояльности, что возможно, объясняется скидками для участников программы лояльности, поскольку глубина чека у них в среднем больше."
   ]
  },
  {
   "cell_type": "markdown",
   "metadata": {},
   "source": [
    "---\n",
    "[Наверх](#contents)"
   ]
  }
 ],
 "metadata": {
  "kernelspec": {
   "display_name": "Python 3",
   "language": "python",
   "name": "python3"
  },
  "language_info": {
   "codemirror_mode": {
    "name": "ipython",
    "version": 3
   },
   "file_extension": ".py",
   "mimetype": "text/x-python",
   "name": "python",
   "nbconvert_exporter": "python",
   "pygments_lexer": "ipython3",
   "version": "3.8.5"
  },
  "toc": {
   "base_numbering": 1,
   "nav_menu": {},
   "number_sections": true,
   "sideBar": true,
   "skip_h1_title": false,
   "title_cell": "Table of Contents",
   "title_sidebar": "Contents",
   "toc_cell": false,
   "toc_position": {},
   "toc_section_display": true,
   "toc_window_display": false
  }
 },
 "nbformat": 4,
 "nbformat_minor": 2
}
